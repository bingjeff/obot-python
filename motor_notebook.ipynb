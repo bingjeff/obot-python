{
 "cells": [
  {
   "cell_type": "code",
   "execution_count": 2,
   "metadata": {},
   "outputs": [],
   "source": [
    "import numpy as np\n",
    "\n",
    "import io\n",
    "import time\n",
    "\n",
    "import motor\n",
    "\n",
    "PROGRAM_START_NS = time.time_ns()"
   ]
  },
  {
   "cell_type": "code",
   "execution_count": 2,
   "metadata": {},
   "outputs": [],
   "source": [
    "mm = motor.MotorManager()\n",
    "my_motor = mm.get_connected_motors()[-1]"
   ]
  },
  {
   "cell_type": "code",
   "execution_count": 14,
   "metadata": {},
   "outputs": [
    {
     "data": {
      "text/plain": [
       "[<Command: 0>, <Command: 0>]"
      ]
     },
     "execution_count": 14,
     "metadata": {},
     "output_type": "execute_result"
    }
   ],
   "source": [
    "mm.commands()"
   ]
  },
  {
   "cell_type": "code",
   "execution_count": 16,
   "metadata": {},
   "outputs": [
    {
     "data": {
      "text/plain": [
       "[<Status at: 1942595902>]"
      ]
     },
     "execution_count": 16,
     "metadata": {},
     "output_type": "execute_result"
    }
   ],
   "source": [
    "api_options = my_motor.get_api_options()"
   ]
  },
  {
   "cell_type": "code",
   "execution_count": 3,
   "metadata": {},
   "outputs": [],
   "source": [
    "def print_motor_status(motor_manager):\n",
    "    statuses = motor_manager.read()\n",
    "    for m, status in enumerate(statuses):\n",
    "        error_bits = status.flags.error.bits\n",
    "        errors = [k for k, v in error_bits.items() if v]\n",
    "        if error_bits['fault']:\n",
    "            print(errors)\n",
    "        else:\n",
    "            print('operational')"
   ]
  },
  {
   "cell_type": "code",
   "execution_count": 4,
   "metadata": {},
   "outputs": [],
   "source": [
    "def now_ms():\n",
    "    return int((time.time_ns() - PROGRAM_START_NS) / 1000)"
   ]
  },
  {
   "cell_type": "code",
   "execution_count": 5,
   "metadata": {},
   "outputs": [
    {
     "name": "stdout",
     "output_type": "stream",
     "text": [
      "operational\n"
     ]
    }
   ],
   "source": [
    "print_motor_status(mm)"
   ]
  },
  {
   "cell_type": "code",
   "execution_count": 73,
   "metadata": {},
   "outputs": [],
   "source": [
    "mm.write([motor.Command(host_timestamp=now_ms(), mode=motor.DriverDisable)])"
   ]
  },
  {
   "cell_type": "code",
   "execution_count": 75,
   "metadata": {},
   "outputs": [],
   "source": [
    "mm.write([motor.Command(host_timestamp=now_ms(), mode=motor.DriverEnable)])"
   ]
  },
  {
   "cell_type": "code",
   "execution_count": 79,
   "metadata": {},
   "outputs": [],
   "source": [
    "mm.write([motor.Command(host_timestamp=now_ms(), mode=motor.ClearFaults)])"
   ]
  },
  {
   "cell_type": "code",
   "execution_count": 100,
   "metadata": {},
   "outputs": [],
   "source": [
    "mm.write([motor.Command(host_timestamp=now_ms(), mode=motor.Open)])"
   ]
  },
  {
   "cell_type": "code",
   "execution_count": 81,
   "metadata": {},
   "outputs": [],
   "source": [
    "mm.write([motor.Command(host_timestamp=now_ms(), mode=motor.Damped)])"
   ]
  },
  {
   "cell_type": "code",
   "execution_count": 85,
   "metadata": {},
   "outputs": [],
   "source": [
    "c = motor.Command(host_timestamp=now_ms(), mode=motor.PhaseLock)\n",
    "c.current_desired = 0.4\n",
    "mm.write([c])"
   ]
  },
  {
   "cell_type": "code",
   "execution_count": 96,
   "metadata": {},
   "outputs": [],
   "source": [
    "c = motor.Command(host_timestamp=now_ms(), mode=motor.Current)\n",
    "c.current_desired = -0.1\n",
    "mm.write([c])"
   ]
  },
  {
   "cell_type": "code",
   "execution_count": 10,
   "metadata": {},
   "outputs": [],
   "source": [
    "c = motor.Command(host_timestamp=now_ms(), mode=motor.CurrentTuning)\n",
    "c.current_tuning.amplitude = 0.1\n",
    "c.current_tuning.frequency = 2000\n",
    "c.current_tuning.mode = motor.Square\n",
    "mm.write([c])"
   ]
  },
  {
   "cell_type": "code",
   "execution_count": 99,
   "metadata": {},
   "outputs": [],
   "source": [
    "flogs = []\n",
    "for freq in np.linspace(100, 2000, 50):\n",
    "    c = motor.Command(host_timestamp=now_ms(), mode=motor.CurrentTuning)\n",
    "    c.current_tuning.amplitude = 0.1\n",
    "    c.current_tuning.frequency = freq\n",
    "    c.current_tuning.mode = motor.Square\n",
    "    mm.write([c])\n",
    "    for _ in range(2):\n",
    "        flogs.append(my_motor.get_fast_log())\n",
    "mm.write([motor.Command(host_timestamp=now_ms(), mode=motor.Open)])"
   ]
  },
  {
   "cell_type": "code",
   "execution_count": 7,
   "metadata": {},
   "outputs": [],
   "source": [
    "c = motor.Command(host_timestamp=now_ms(), mode=motor.CurrentTuning)\n",
    "c.current_tuning.amplitude = 0.1\n",
    "c.current_tuning.frequency = 1000\n",
    "c.current_tuning.mode = motor.Square\n",
    "mm.write([c])\n",
    "time.sleep(0.5)\n",
    "\n",
    "flogs = []\n",
    "for _ in range(10):\n",
    "    flogs.append(my_motor.get_fast_log())\n",
    "mm.write([motor.Command(host_timestamp=now_ms(), mode=motor.Open)])"
   ]
  },
  {
   "cell_type": "code",
   "execution_count": 8,
   "metadata": {},
   "outputs": [
    {
     "data": {
      "text/plain": [
       "[{'ok': []},\n",
       " {'ok': []},\n",
       " {'ok': []},\n",
       " {'ok': []},\n",
       " {'ok': []},\n",
       " {'ok': []},\n",
       " {'ok': []},\n",
       " {'ok': []},\n",
       " {'ok': []},\n",
       " {'ok': []}]"
      ]
     },
     "execution_count": 8,
     "metadata": {},
     "output_type": "execute_result"
    }
   ],
   "source": [
    "flogs"
   ]
  },
  {
   "cell_type": "code",
   "execution_count": 8,
   "metadata": {},
   "outputs": [
    {
     "data": {
      "text/html": [
       "<style>\n",
       "        .bk-notebook-logo {\n",
       "            display: block;\n",
       "            width: 20px;\n",
       "            height: 20px;\n",
       "            background-image: url(data:image/png;base64,iVBORw0KGgoAAAANSUhEUgAAABQAAAAUCAYAAACNiR0NAAAABHNCSVQICAgIfAhkiAAAAAlwSFlzAAALEgAACxIB0t1+/AAAABx0RVh0U29mdHdhcmUAQWRvYmUgRmlyZXdvcmtzIENTNui8sowAAAOkSURBVDiNjZRtaJVlGMd/1/08zzln5zjP1LWcU9N0NkN8m2CYjpgQYQXqSs0I84OLIC0hkEKoPtiH3gmKoiJDU7QpLgoLjLIQCpEsNJ1vqUOdO7ppbuec5+V+rj4ctwzd8IIbbi6u+8f1539dt3A78eXC7QizUF7gyV1fD1Yqg4JWz84yffhm0qkFqBogB9rM8tZdtwVsPUhWhGcFJngGeWrPzHm5oaMmkfEg1usvLFyc8jLRqDOMru7AyC8saQr7GG7f5fvDeH7Ej8CM66nIF+8yngt6HWaKh7k49Soy9nXurCi1o3qUbS3zWfrYeQDTB/Qj6kX6Ybhw4B+bOYoLKCC9H3Nu/leUTZ1JdRWkkn2ldcCamzrcf47KKXdAJllSlxAOkRgyHsGC/zRday5Qld9DyoM4/q/rUoy/CXh3jzOu3bHUVZeU+DEn8FInkPBFlu3+nW3Nw0mk6vCDiWg8CeJaxEwuHS3+z5RgY+YBR6V1Z1nxSOfoaPa4LASWxxdNp+VWTk7+4vzaou8v8PN+xo+KY2xsw6une2frhw05CTYOmQvsEhjhWjn0bmXPjpE1+kplmmkP3suftwTubK9Vq22qKmrBhpY4jvd5afdRA3wGjFAgcnTK2s4hY0/GPNIb0nErGMCRxWOOX64Z8RAC4oCXdklmEvcL8o0BfkNK4lUg9HTl+oPlQxdNo3Mg4Nv175e/1LDGzZen30MEjRUtmXSfiTVu1kK8W4txyV6BMKlbgk3lMwYCiusNy9fVfvvwMxv8Ynl6vxoByANLTWplvuj/nF9m2+PDtt1eiHPBr1oIfhCChQMBw6Aw0UulqTKZdfVvfG7VcfIqLG9bcldL/+pdWTLxLUy8Qq38heUIjh4XlzZxzQm19lLFlr8vdQ97rjZVOLf8nclzckbcD4wxXMidpX30sFd37Fv/GtwwhzhxGVAprjbg0gCAEeIgwCZyTV2Z1REEW8O4py0wsjeloKoMr6iCY6dP92H6Vw/oTyICIthibxjm/DfN9lVz8IqtqKYLUXfoKVMVQVVJOElGjrnnUt9T9wbgp8AyYKaGlqingHZU/uG2NTZSVqwHQTWkx9hxjkpWDaCg6Ckj5qebgBVbT3V3NNXMSiWSDdGV3hrtzla7J+duwPOToIg42ChPQOQjspnSlp1V+Gjdged7+8UN5CRAV7a5EdFNwCjEaBR27b3W890TE7g24NAP/mMDXRWrGoFPQI9ls/MWO2dWFAar/xcOIImbbpA3zgAAAABJRU5ErkJggg==);\n",
       "        }\n",
       "    </style>\n",
       "    <div>\n",
       "        <a href=\"https://bokeh.org\" target=\"_blank\" class=\"bk-notebook-logo\"></a>\n",
       "        <span id=\"p1001\">Loading BokehJS ...</span>\n",
       "    </div>\n"
      ]
     },
     "metadata": {},
     "output_type": "display_data"
    },
    {
     "data": {
      "application/javascript": "(function(root) {\n  function now() {\n    return new Date();\n  }\n\n  const force = true;\n\n  if (typeof root._bokeh_onload_callbacks === \"undefined\" || force === true) {\n    root._bokeh_onload_callbacks = [];\n    root._bokeh_is_loading = undefined;\n  }\n\nconst JS_MIME_TYPE = 'application/javascript';\n  const HTML_MIME_TYPE = 'text/html';\n  const EXEC_MIME_TYPE = 'application/vnd.bokehjs_exec.v0+json';\n  const CLASS_NAME = 'output_bokeh rendered_html';\n\n  /**\n   * Render data to the DOM node\n   */\n  function render(props, node) {\n    const script = document.createElement(\"script\");\n    node.appendChild(script);\n  }\n\n  /**\n   * Handle when an output is cleared or removed\n   */\n  function handleClearOutput(event, handle) {\n    const cell = handle.cell;\n\n    const id = cell.output_area._bokeh_element_id;\n    const server_id = cell.output_area._bokeh_server_id;\n    // Clean up Bokeh references\n    if (id != null && id in Bokeh.index) {\n      Bokeh.index[id].model.document.clear();\n      delete Bokeh.index[id];\n    }\n\n    if (server_id !== undefined) {\n      // Clean up Bokeh references\n      const cmd_clean = \"from bokeh.io.state import curstate; print(curstate().uuid_to_server['\" + server_id + \"'].get_sessions()[0].document.roots[0]._id)\";\n      cell.notebook.kernel.execute(cmd_clean, {\n        iopub: {\n          output: function(msg) {\n            const id = msg.content.text.trim();\n            if (id in Bokeh.index) {\n              Bokeh.index[id].model.document.clear();\n              delete Bokeh.index[id];\n            }\n          }\n        }\n      });\n      // Destroy server and session\n      const cmd_destroy = \"import bokeh.io.notebook as ion; ion.destroy_server('\" + server_id + \"')\";\n      cell.notebook.kernel.execute(cmd_destroy);\n    }\n  }\n\n  /**\n   * Handle when a new output is added\n   */\n  function handleAddOutput(event, handle) {\n    const output_area = handle.output_area;\n    const output = handle.output;\n\n    // limit handleAddOutput to display_data with EXEC_MIME_TYPE content only\n    if ((output.output_type != \"display_data\") || (!Object.prototype.hasOwnProperty.call(output.data, EXEC_MIME_TYPE))) {\n      return\n    }\n\n    const toinsert = output_area.element.find(\".\" + CLASS_NAME.split(' ')[0]);\n\n    if (output.metadata[EXEC_MIME_TYPE][\"id\"] !== undefined) {\n      toinsert[toinsert.length - 1].firstChild.textContent = output.data[JS_MIME_TYPE];\n      // store reference to embed id on output_area\n      output_area._bokeh_element_id = output.metadata[EXEC_MIME_TYPE][\"id\"];\n    }\n    if (output.metadata[EXEC_MIME_TYPE][\"server_id\"] !== undefined) {\n      const bk_div = document.createElement(\"div\");\n      bk_div.innerHTML = output.data[HTML_MIME_TYPE];\n      const script_attrs = bk_div.children[0].attributes;\n      for (let i = 0; i < script_attrs.length; i++) {\n        toinsert[toinsert.length - 1].firstChild.setAttribute(script_attrs[i].name, script_attrs[i].value);\n        toinsert[toinsert.length - 1].firstChild.textContent = bk_div.children[0].textContent\n      }\n      // store reference to server id on output_area\n      output_area._bokeh_server_id = output.metadata[EXEC_MIME_TYPE][\"server_id\"];\n    }\n  }\n\n  function register_renderer(events, OutputArea) {\n\n    function append_mime(data, metadata, element) {\n      // create a DOM node to render to\n      const toinsert = this.create_output_subarea(\n        metadata,\n        CLASS_NAME,\n        EXEC_MIME_TYPE\n      );\n      this.keyboard_manager.register_events(toinsert);\n      // Render to node\n      const props = {data: data, metadata: metadata[EXEC_MIME_TYPE]};\n      render(props, toinsert[toinsert.length - 1]);\n      element.append(toinsert);\n      return toinsert\n    }\n\n    /* Handle when an output is cleared or removed */\n    events.on('clear_output.CodeCell', handleClearOutput);\n    events.on('delete.Cell', handleClearOutput);\n\n    /* Handle when a new output is added */\n    events.on('output_added.OutputArea', handleAddOutput);\n\n    /**\n     * Register the mime type and append_mime function with output_area\n     */\n    OutputArea.prototype.register_mime_type(EXEC_MIME_TYPE, append_mime, {\n      /* Is output safe? */\n      safe: true,\n      /* Index of renderer in `output_area.display_order` */\n      index: 0\n    });\n  }\n\n  // register the mime type if in Jupyter Notebook environment and previously unregistered\n  if (root.Jupyter !== undefined) {\n    const events = require('base/js/events');\n    const OutputArea = require('notebook/js/outputarea').OutputArea;\n\n    if (OutputArea.prototype.mime_types().indexOf(EXEC_MIME_TYPE) == -1) {\n      register_renderer(events, OutputArea);\n    }\n  }\n  if (typeof (root._bokeh_timeout) === \"undefined\" || force === true) {\n    root._bokeh_timeout = Date.now() + 5000;\n    root._bokeh_failed_load = false;\n  }\n\n  const NB_LOAD_WARNING = {'data': {'text/html':\n     \"<div style='background-color: #fdd'>\\n\"+\n     \"<p>\\n\"+\n     \"BokehJS does not appear to have successfully loaded. If loading BokehJS from CDN, this \\n\"+\n     \"may be due to a slow or bad network connection. Possible fixes:\\n\"+\n     \"</p>\\n\"+\n     \"<ul>\\n\"+\n     \"<li>re-rerun `output_notebook()` to attempt to load from CDN again, or</li>\\n\"+\n     \"<li>use INLINE resources instead, as so:</li>\\n\"+\n     \"</ul>\\n\"+\n     \"<code>\\n\"+\n     \"from bokeh.resources import INLINE\\n\"+\n     \"output_notebook(resources=INLINE)\\n\"+\n     \"</code>\\n\"+\n     \"</div>\"}};\n\n  function display_loaded() {\n    const el = document.getElementById(\"p1001\");\n    if (el != null) {\n      el.textContent = \"BokehJS is loading...\";\n    }\n    if (root.Bokeh !== undefined) {\n      if (el != null) {\n        el.textContent = \"BokehJS \" + root.Bokeh.version + \" successfully loaded.\";\n      }\n    } else if (Date.now() < root._bokeh_timeout) {\n      setTimeout(display_loaded, 100)\n    }\n  }\n\n  function run_callbacks() {\n    try {\n      root._bokeh_onload_callbacks.forEach(function(callback) {\n        if (callback != null)\n          callback();\n      });\n    } finally {\n      delete root._bokeh_onload_callbacks\n    }\n    console.debug(\"Bokeh: all callbacks have finished\");\n  }\n\n  function load_libs(css_urls, js_urls, callback) {\n    if (css_urls == null) css_urls = [];\n    if (js_urls == null) js_urls = [];\n\n    root._bokeh_onload_callbacks.push(callback);\n    if (root._bokeh_is_loading > 0) {\n      console.debug(\"Bokeh: BokehJS is being loaded, scheduling callback at\", now());\n      return null;\n    }\n    if (js_urls == null || js_urls.length === 0) {\n      run_callbacks();\n      return null;\n    }\n    console.debug(\"Bokeh: BokehJS not loaded, scheduling load and callback at\", now());\n    root._bokeh_is_loading = css_urls.length + js_urls.length;\n\n    function on_load() {\n      root._bokeh_is_loading--;\n      if (root._bokeh_is_loading === 0) {\n        console.debug(\"Bokeh: all BokehJS libraries/stylesheets loaded\");\n        run_callbacks()\n      }\n    }\n\n    function on_error(url) {\n      console.error(\"failed to load \" + url);\n    }\n\n    for (let i = 0; i < css_urls.length; i++) {\n      const url = css_urls[i];\n      const element = document.createElement(\"link\");\n      element.onload = on_load;\n      element.onerror = on_error.bind(null, url);\n      element.rel = \"stylesheet\";\n      element.type = \"text/css\";\n      element.href = url;\n      console.debug(\"Bokeh: injecting link tag for BokehJS stylesheet: \", url);\n      document.body.appendChild(element);\n    }\n\n    for (let i = 0; i < js_urls.length; i++) {\n      const url = js_urls[i];\n      const element = document.createElement('script');\n      element.onload = on_load;\n      element.onerror = on_error.bind(null, url);\n      element.async = false;\n      element.src = url;\n      console.debug(\"Bokeh: injecting script tag for BokehJS library: \", url);\n      document.head.appendChild(element);\n    }\n  };\n\n  function inject_raw_css(css) {\n    const element = document.createElement(\"style\");\n    element.appendChild(document.createTextNode(css));\n    document.body.appendChild(element);\n  }\n\n  const js_urls = [\"https://cdn.bokeh.org/bokeh/release/bokeh-3.1.0.min.js\", \"https://cdn.bokeh.org/bokeh/release/bokeh-gl-3.1.0.min.js\", \"https://cdn.bokeh.org/bokeh/release/bokeh-widgets-3.1.0.min.js\", \"https://cdn.bokeh.org/bokeh/release/bokeh-tables-3.1.0.min.js\", \"https://cdn.bokeh.org/bokeh/release/bokeh-mathjax-3.1.0.min.js\"];\n  const css_urls = [];\n\n  const inline_js = [    function(Bokeh) {\n      Bokeh.set_log_level(\"info\");\n    },\nfunction(Bokeh) {\n    }\n  ];\n\n  function run_inline_js() {\n    if (root.Bokeh !== undefined || force === true) {\n          for (let i = 0; i < inline_js.length; i++) {\n      inline_js[i].call(root, root.Bokeh);\n    }\nif (force === true) {\n        display_loaded();\n      }} else if (Date.now() < root._bokeh_timeout) {\n      setTimeout(run_inline_js, 100);\n    } else if (!root._bokeh_failed_load) {\n      console.log(\"Bokeh: BokehJS failed to load within specified timeout.\");\n      root._bokeh_failed_load = true;\n    } else if (force !== true) {\n      const cell = $(document.getElementById(\"p1001\")).parents('.cell').data().cell;\n      cell.output_area.append_execute_result(NB_LOAD_WARNING)\n    }\n  }\n\n  if (root._bokeh_is_loading === 0) {\n    console.debug(\"Bokeh: BokehJS loaded, going straight to plotting\");\n    run_inline_js();\n  } else {\n    load_libs(css_urls, js_urls, function() {\n      console.debug(\"Bokeh: BokehJS plotting callback run at\", now());\n      run_inline_js();\n    });\n  }\n}(window));",
      "application/vnd.bokehjs_load.v0+json": ""
     },
     "metadata": {},
     "output_type": "display_data"
    }
   ],
   "source": [
    "from bokeh.io import output_notebook\n",
    "from bokeh.models import BoxZoomTool, CrosshairTool, HoverTool, PanTool, ResetTool\n",
    "from bokeh.plotting import figure, show\n",
    "\n",
    "output_notebook()"
   ]
  },
  {
   "cell_type": "code",
   "execution_count": 107,
   "metadata": {},
   "outputs": [
    {
     "data": {
      "text/html": [
       "\n",
       "  <div id=\"a8f529e0-4d8e-4c34-a1fa-b22e29bf88dc\" data-root-id=\"p203701\" style=\"display: contents;\"></div>\n"
      ]
     },
     "metadata": {},
     "output_type": "display_data"
    },
    {
     "data": {
      "application/javascript": "(function(root) {\n  function embed_document(root) {\n  const docs_json = {\"cf653fa1-0cb7-4356-beed-fd460885f398\":{\"version\":\"3.1.0\",\"title\":\"Bokeh Application\",\"defs\":[],\"roots\":[{\"type\":\"object\",\"name\":\"Figure\",\"id\":\"p203701\",\"attributes\":{\"width\":800,\"height\":400,\"x_range\":{\"type\":\"object\",\"name\":\"DataRange1d\",\"id\":\"p203702\"},\"y_range\":{\"type\":\"object\",\"name\":\"DataRange1d\",\"id\":\"p203703\"},\"x_scale\":{\"type\":\"object\",\"name\":\"LinearScale\",\"id\":\"p203714\"},\"y_scale\":{\"type\":\"object\",\"name\":\"LinearScale\",\"id\":\"p203716\"},\"title\":{\"type\":\"object\",\"name\":\"Title\",\"id\":\"p203707\"},\"renderers\":[{\"type\":\"object\",\"name\":\"GlyphRenderer\",\"id\":\"p203745\",\"attributes\":{\"data_source\":{\"type\":\"object\",\"name\":\"ColumnDataSource\",\"id\":\"p203739\",\"attributes\":{\"selected\":{\"type\":\"object\",\"name\":\"Selection\",\"id\":\"p203741\",\"attributes\":{\"indices\":[],\"line_indices\":[]}},\"selection_policy\":{\"type\":\"object\",\"name\":\"UnionRenderers\",\"id\":\"p203740\"},\"data\":{\"type\":\"map\",\"entries\":[[\"x\",{\"type\":\"ndarray\",\"array\":{\"type\":\"bytes\",\"data\":\"AAAAAACL78AAAAAAAOLtwAAAAAAAOezAAAAAAACQ6sAAAAAAAOfowAAAAADAPefAAAAAAACV5cAAAAAAAOzjwAAAAABAQeLAAAAAAACa4MAAAAAAAOLdwAAAAAAAkNrAAAAAAAA+18AAAAAAwOjTwAAAAAAAmtDAAAAAAACQysAAAAAAAOzDwAAAAAAAkLrAAAAAAACCqsAAAAAAAAAAAAAAAAAAnqpAAAAAAACQukAAAAAAAOzDQAAAAACAlcpAAAAAAACa0EAAAAAAQO7TQAAAAAAAPtdAAAAAAACQ2kAAAAAAQOTdQAAAAAAAmuBAAAAAAEBE4kAAAAAAAOzjQAAAAAAAleVAAAAAAKA/50AAAAAAAOfoQAAAAABgkepAAAAAAAA57EAAAAAAAOLtQAAAAADgi+9AAAAAAACa8EAAAAAAAG/xQAAAAAAAQ/JAAAAAAIAX80AAAAAAsOzzQAAAAACAwPRAAAAAAACV9UAAAAAAgGn2QAAAAAAAPvdAAAAAAIAS+EAAAAAAAOf4QAAAAACAu/lAAAAAAACQ+kAAAAAAgGT7QAAAAACQOfxAAAAAAIAN/UAAAAAAIOL9QAAAAACAtv5AAAAAAACL/0AAAAAAwC8AQQAAAAAAmgBBAAAAAEAEAUEAAAAAgG4BQQAAAADA2AFBAAAAAABDAkEAAAAAQK0CQQAAAACQFwNBAAAAAMCBA0EAAAAAAOwDQQAAAABAVgRBAAAAAIDABEEAAAAAwCoFQQAAAAAAlQVBAAAAAOD/BUEAAAAAgGkGQQAAAADA0wZBAAAAAAA+B0EAAAAAQKgHQQAAAACAEghBAAAAAMB8CEEAAAAAAOcIQQAAAABQUQlBAAAAAIC7CUEAAAAAwCUKQQAAAAAAkApBAAAAAED6CkEAAAAAoGQLQQAAAAAAzwtBAAAAAAA5DEEAAAAAQKMMQQAAAACADQ1BAAAAAHB4DUEAAAAAAOINQQAAAABATA5BAAAAAMi2DkEAAAAAwCAPQQ==\"},\"shape\":[95],\"dtype\":\"float64\",\"order\":\"little\"}],[\"y\",{\"type\":\"ndarray\",\"array\":{\"type\":\"bytes\",\"data\":\"I9xkVBnGsT8j3GRUGcaxP2WlSSno9rI/Xg8mxccntD9lpUkp6PayP14PJsXHJ7Q/ZaVJKej2sj+h2Aqalli1P14PJsXHJ7Q/Xg8mxccntD9i2jf3V4+zPypyiLg5lbA/ZaVJKej2sj+h2Aqalli1P2WlSSno9rI/Xg8mxccntD+h2Aqalli1P5pC5zV2ibY/Xg8mxccntD+h2Aqalli1P1frxOV4Bao/Nnf0v1yLNr/artAHy9igv7lPjgJEway/qyNHOgMjr78YWwhyUMKwvxHF5A0w87G/VI7J4v4js79YWdsUj4uyv034pX7eVLS/EcXkDTDzsb9Ujsni/iOzv034pX7eVLS/Tfilft5UtL9N+KV+3lS0v4grZ++Mtra/EcXkDTDzsb9N+KV+3lS0v034pX7eVLS/iCtn74y2tr+QwYpTrYW1v1SOyeL+I7O/VI7J4v4js79N+KV+3lS0v4grZ++Mtra/weWxZmSQq782d/S/XIs2v2kewCK/fqA/V+vE5XgFqj8qcoi4OZWwP2WlSSno9rI/KnKIuDmVsD9lpUkp6PayPypyiLg5lbA/Xg8mxccntD9eDybFxye0P14PJsXHJ7Q/Xg8mxccntD8j3GRUGcaxP6HYCpqWWLU/ZaVJKej2sj9eDybFxye0P14PJsXHJ7Q/Xg8mxccntD9eDybFxye0P5pC5zV2ibY/3QvMCkW6tz+h2Aqalli1P6HYCpqWWLU/odgKmpZYtT/dfY6PFmesP4CcMGE0K3s/qDgOvFrunL+5T44CRMGsv1SOyeL+I7O/GFsIclDCsL9Ujsni/iOzv1SOyeL+I7O/Tfilft5UtL8YWwhyUMKwv1SOyeL+I7O/kMGKU62Ftb9Ujsni/iOzvxHF5A0w87G/VI7J4v4js79N+KV+3lS0v034pX7eVLS/kMGKU62Ftb9N+KV+3lS0v8v0S8Rb57e/VI7J4v4js79N+KV+3lS0v4grZ++Mtra/kMGKU62Ftb+QwYpTrYW1vw==\"},\"shape\":[95],\"dtype\":\"float64\",\"order\":\"little\"}]]}}},\"view\":{\"type\":\"object\",\"name\":\"CDSView\",\"id\":\"p203746\",\"attributes\":{\"filter\":{\"type\":\"object\",\"name\":\"AllIndices\",\"id\":\"p203747\"}}},\"glyph\":{\"type\":\"object\",\"name\":\"Step\",\"id\":\"p203742\",\"attributes\":{\"x\":{\"type\":\"field\",\"field\":\"x\"},\"y\":{\"type\":\"field\",\"field\":\"y\"},\"line_color\":\"#1f77b4\",\"mode\":\"after\"}},\"nonselection_glyph\":{\"type\":\"object\",\"name\":\"Step\",\"id\":\"p203743\",\"attributes\":{\"x\":{\"type\":\"field\",\"field\":\"x\"},\"y\":{\"type\":\"field\",\"field\":\"y\"},\"line_color\":\"#1f77b4\",\"line_alpha\":0.1,\"mode\":\"after\"}},\"muted_glyph\":{\"type\":\"object\",\"name\":\"Step\",\"id\":\"p203744\",\"attributes\":{\"x\":{\"type\":\"field\",\"field\":\"x\"},\"y\":{\"type\":\"field\",\"field\":\"y\"},\"line_color\":\"#1f77b4\",\"line_alpha\":0.2,\"mode\":\"after\"}}}},{\"type\":\"object\",\"name\":\"GlyphRenderer\",\"id\":\"p203754\",\"attributes\":{\"data_source\":{\"type\":\"object\",\"name\":\"ColumnDataSource\",\"id\":\"p203748\",\"attributes\":{\"selected\":{\"type\":\"object\",\"name\":\"Selection\",\"id\":\"p203750\",\"attributes\":{\"indices\":[],\"line_indices\":[]}},\"selection_policy\":{\"type\":\"object\",\"name\":\"UnionRenderers\",\"id\":\"p203749\"},\"data\":{\"type\":\"map\",\"entries\":[[\"x\",{\"type\":\"ndarray\",\"array\":{\"type\":\"bytes\",\"data\":\"AAAAAACL78AAAAAAAOLtwAAAAAAAOezAAAAAAACQ6sAAAAAAAOfowAAAAADAPefAAAAAAACV5cAAAAAAAOzjwAAAAABAQeLAAAAAAACa4MAAAAAAAOLdwAAAAAAAkNrAAAAAAAA+18AAAAAAwOjTwAAAAAAAmtDAAAAAAACQysAAAAAAAOzDwAAAAAAAkLrAAAAAAACCqsAAAAAAAAAAAAAAAAAAnqpAAAAAAACQukAAAAAAAOzDQAAAAACAlcpAAAAAAACa0EAAAAAAQO7TQAAAAAAAPtdAAAAAAACQ2kAAAAAAQOTdQAAAAAAAmuBAAAAAAEBE4kAAAAAAAOzjQAAAAAAAleVAAAAAAKA/50AAAAAAAOfoQAAAAABgkepAAAAAAAA57EAAAAAAAOLtQAAAAADgi+9AAAAAAACa8EAAAAAAAG/xQAAAAAAAQ/JAAAAAAIAX80AAAAAAsOzzQAAAAACAwPRAAAAAAACV9UAAAAAAgGn2QAAAAAAAPvdAAAAAAIAS+EAAAAAAAOf4QAAAAACAu/lAAAAAAACQ+kAAAAAAgGT7QAAAAACQOfxAAAAAAIAN/UAAAAAAIOL9QAAAAACAtv5AAAAAAACL/0AAAAAAwC8AQQAAAAAAmgBBAAAAAEAEAUEAAAAAgG4BQQAAAADA2AFBAAAAAABDAkEAAAAAQK0CQQAAAACQFwNBAAAAAMCBA0EAAAAAAOwDQQAAAABAVgRBAAAAAIDABEEAAAAAwCoFQQAAAAAAlQVBAAAAAOD/BUEAAAAAgGkGQQAAAADA0wZBAAAAAAA+B0EAAAAAQKgHQQAAAACAEghBAAAAAMB8CEEAAAAAAOcIQQAAAABQUQlBAAAAAIC7CUEAAAAAwCUKQQAAAAAAkApBAAAAAED6CkEAAAAAoGQLQQAAAAAAzwtBAAAAAAA5DEEAAAAAQKMMQQAAAACADQ1BAAAAAHB4DUEAAAAAAOINQQAAAABATA5BAAAAAMi2DkEAAAAAwCAPQQ==\"},\"shape\":[95],\"dtype\":\"float64\",\"order\":\"little\"}],[\"y\",{\"type\":\"ndarray\",\"array\":{\"type\":\"bytes\",\"data\":\"I9xkVBnGsT8j3GRUGcaxP2WlSSno9rI/Xg8mxccntD9lpUkp6PayP14PJsXHJ7Q/ZaVJKej2sj+h2Aqalli1P14PJsXHJ7Q/Xg8mxccntD9i2jf3V4+zPypyiLg5lbA/ZaVJKej2sj+h2Aqalli1P2WlSSno9rI/Xg8mxccntD+h2Aqalli1P5pC5zV2ibY/Xg8mxccntD+h2Aqalli1P1frxOV4Bao/Nnf0v1yLNr/artAHy9igv7lPjgJEway/qyNHOgMjr78YWwhyUMKwvxHF5A0w87G/VI7J4v4js79YWdsUj4uyv034pX7eVLS/EcXkDTDzsb9Ujsni/iOzv034pX7eVLS/Tfilft5UtL9N+KV+3lS0v4grZ++Mtra/EcXkDTDzsb9N+KV+3lS0v034pX7eVLS/iCtn74y2tr+QwYpTrYW1v1SOyeL+I7O/VI7J4v4js79N+KV+3lS0v4grZ++Mtra/weWxZmSQq782d/S/XIs2v2kewCK/fqA/V+vE5XgFqj8qcoi4OZWwP2WlSSno9rI/KnKIuDmVsD9lpUkp6PayPypyiLg5lbA/Xg8mxccntD9eDybFxye0P14PJsXHJ7Q/Xg8mxccntD8j3GRUGcaxP6HYCpqWWLU/ZaVJKej2sj9eDybFxye0P14PJsXHJ7Q/Xg8mxccntD9eDybFxye0P5pC5zV2ibY/3QvMCkW6tz+h2Aqalli1P6HYCpqWWLU/odgKmpZYtT/dfY6PFmesP4CcMGE0K3s/qDgOvFrunL+5T44CRMGsv1SOyeL+I7O/GFsIclDCsL9Ujsni/iOzv1SOyeL+I7O/Tfilft5UtL8YWwhyUMKwv1SOyeL+I7O/kMGKU62Ftb9Ujsni/iOzvxHF5A0w87G/VI7J4v4js79N+KV+3lS0v034pX7eVLS/kMGKU62Ftb9N+KV+3lS0v8v0S8Rb57e/VI7J4v4js79N+KV+3lS0v4grZ++Mtra/kMGKU62Ftb+QwYpTrYW1vw==\"},\"shape\":[95],\"dtype\":\"float64\",\"order\":\"little\"}]]}}},\"view\":{\"type\":\"object\",\"name\":\"CDSView\",\"id\":\"p203755\",\"attributes\":{\"filter\":{\"type\":\"object\",\"name\":\"AllIndices\",\"id\":\"p203756\"}}},\"glyph\":{\"type\":\"object\",\"name\":\"Circle\",\"id\":\"p203751\",\"attributes\":{\"x\":{\"type\":\"field\",\"field\":\"x\"},\"y\":{\"type\":\"field\",\"field\":\"y\"},\"size\":{\"type\":\"value\",\"value\":2},\"line_color\":{\"type\":\"value\",\"value\":\"#1f77b4\"},\"fill_color\":{\"type\":\"value\",\"value\":\"#1f77b4\"}}},\"nonselection_glyph\":{\"type\":\"object\",\"name\":\"Circle\",\"id\":\"p203752\",\"attributes\":{\"x\":{\"type\":\"field\",\"field\":\"x\"},\"y\":{\"type\":\"field\",\"field\":\"y\"},\"size\":{\"type\":\"value\",\"value\":2},\"line_color\":{\"type\":\"value\",\"value\":\"#1f77b4\"},\"line_alpha\":{\"type\":\"value\",\"value\":0.1},\"fill_color\":{\"type\":\"value\",\"value\":\"#1f77b4\"},\"fill_alpha\":{\"type\":\"value\",\"value\":0.1},\"hatch_alpha\":{\"type\":\"value\",\"value\":0.1}}},\"muted_glyph\":{\"type\":\"object\",\"name\":\"Circle\",\"id\":\"p203753\",\"attributes\":{\"x\":{\"type\":\"field\",\"field\":\"x\"},\"y\":{\"type\":\"field\",\"field\":\"y\"},\"size\":{\"type\":\"value\",\"value\":2},\"line_color\":{\"type\":\"value\",\"value\":\"#1f77b4\"},\"line_alpha\":{\"type\":\"value\",\"value\":0.2},\"fill_color\":{\"type\":\"value\",\"value\":\"#1f77b4\"},\"fill_alpha\":{\"type\":\"value\",\"value\":0.2},\"hatch_alpha\":{\"type\":\"value\",\"value\":0.2}}}}},{\"type\":\"object\",\"name\":\"GlyphRenderer\",\"id\":\"p203763\",\"attributes\":{\"data_source\":{\"type\":\"object\",\"name\":\"ColumnDataSource\",\"id\":\"p203757\",\"attributes\":{\"selected\":{\"type\":\"object\",\"name\":\"Selection\",\"id\":\"p203759\",\"attributes\":{\"indices\":[],\"line_indices\":[]}},\"selection_policy\":{\"type\":\"object\",\"name\":\"UnionRenderers\",\"id\":\"p203758\"},\"data\":{\"type\":\"map\",\"entries\":[[\"x\",{\"type\":\"ndarray\",\"array\":{\"type\":\"bytes\",\"data\":\"AAAAAACL78AAAAAAAOLtwAAAAAAAOezAAAAAAACQ6sAAAAAAAOfowAAAAADAPefAAAAAAACV5cAAAAAAAOzjwAAAAABAQeLAAAAAAACa4MAAAAAAAOLdwAAAAAAAkNrAAAAAAAA+18AAAAAAwOjTwAAAAAAAmtDAAAAAAACQysAAAAAAAOzDwAAAAAAAkLrAAAAAAACCqsAAAAAAAAAAAAAAAAAAnqpAAAAAAACQukAAAAAAAOzDQAAAAACAlcpAAAAAAACa0EAAAAAAQO7TQAAAAAAAPtdAAAAAAACQ2kAAAAAAQOTdQAAAAAAAmuBAAAAAAEBE4kAAAAAAAOzjQAAAAAAAleVAAAAAAKA/50AAAAAAAOfoQAAAAABgkepAAAAAAAA57EAAAAAAAOLtQAAAAADgi+9AAAAAAACa8EAAAAAAAG/xQAAAAAAAQ/JAAAAAAIAX80AAAAAAsOzzQAAAAACAwPRAAAAAAACV9UAAAAAAgGn2QAAAAAAAPvdAAAAAAIAS+EAAAAAAAOf4QAAAAACAu/lAAAAAAACQ+kAAAAAAgGT7QAAAAACQOfxAAAAAAIAN/UAAAAAAIOL9QAAAAACAtv5AAAAAAACL/0AAAAAAwC8AQQAAAAAAmgBBAAAAAEAEAUEAAAAAgG4BQQAAAADA2AFBAAAAAABDAkEAAAAAQK0CQQAAAACQFwNBAAAAAMCBA0EAAAAAAOwDQQAAAABAVgRBAAAAAIDABEEAAAAAwCoFQQAAAAAAlQVBAAAAAOD/BUEAAAAAgGkGQQAAAADA0wZBAAAAAAA+B0EAAAAAQKgHQQAAAACAEghBAAAAAMB8CEEAAAAAAOcIQQAAAABQUQlBAAAAAIC7CUEAAAAAwCUKQQAAAAAAkApBAAAAAED6CkEAAAAAoGQLQQAAAAAAzwtBAAAAAAA5DEEAAAAAQKMMQQAAAACADQ1BAAAAAHB4DUEAAAAAAOINQQAAAABATA5BAAAAAMi2DkEAAAAAwCAPQQ==\"},\"shape\":[95],\"dtype\":\"float64\",\"order\":\"little\"}],[\"y\",{\"type\":\"ndarray\",\"array\":{\"type\":\"bytes\",\"data\":\"mpmZmZmZuT+amZmZmZm5P5qZmZmZmbk/mpmZmZmZuT+amZmZmZm5P5qZmZmZmbk/mpmZmZmZuT+amZmZmZm5P5qZmZmZmbk/mpmZmZmZuT+amZmZmZm5P5qZmZmZmbk/mpmZmZmZuT+amZmZmZm5P5qZmZmZmbk/mpmZmZmZuT+amZmZmZm5P5qZmZmZmbk/mpmZmZmZuT+amZmZmZm5v5qZmZmZmbm/mpmZmZmZub+amZmZmZm5v5qZmZmZmbm/mpmZmZmZub+amZmZmZm5v5qZmZmZmbm/mpmZmZmZub+amZmZmZm5v5qZmZmZmbm/mpmZmZmZub+amZmZmZm5v5qZmZmZmbm/mpmZmZmZub+amZmZmZm5v5qZmZmZmbm/mpmZmZmZub+amZmZmZm5v5qZmZmZmbm/mpmZmZmZub+amZmZmZm5v5qZmZmZmbm/mpmZmZmZub+amZmZmZm5v5qZmZmZmbk/mpmZmZmZuT+amZmZmZm5P5qZmZmZmbk/mpmZmZmZuT+amZmZmZm5P5qZmZmZmbk/mpmZmZmZuT+amZmZmZm5P5qZmZmZmbk/mpmZmZmZuT+amZmZmZm5P5qZmZmZmbk/mpmZmZmZuT+amZmZmZm5P5qZmZmZmbk/mpmZmZmZuT+amZmZmZm5P5qZmZmZmbk/mpmZmZmZuT+amZmZmZm5P5qZmZmZmbk/mpmZmZmZuT+amZmZmZm5P5qZmZmZmbk/mpmZmZmZub+amZmZmZm5v5qZmZmZmbm/mpmZmZmZub+amZmZmZm5v5qZmZmZmbm/mpmZmZmZub+amZmZmZm5v5qZmZmZmbm/mpmZmZmZub+amZmZmZm5v5qZmZmZmbm/mpmZmZmZub+amZmZmZm5v5qZmZmZmbm/mpmZmZmZub+amZmZmZm5v5qZmZmZmbm/mpmZmZmZub+amZmZmZm5v5qZmZmZmbm/mpmZmZmZub+amZmZmZm5v5qZmZmZmbm/mpmZmZmZub+amZmZmZm5Pw==\"},\"shape\":[95],\"dtype\":\"float64\",\"order\":\"little\"}]]}}},\"view\":{\"type\":\"object\",\"name\":\"CDSView\",\"id\":\"p203764\",\"attributes\":{\"filter\":{\"type\":\"object\",\"name\":\"AllIndices\",\"id\":\"p203765\"}}},\"glyph\":{\"type\":\"object\",\"name\":\"Step\",\"id\":\"p203760\",\"attributes\":{\"x\":{\"type\":\"field\",\"field\":\"x\"},\"y\":{\"type\":\"field\",\"field\":\"y\"},\"line_dash\":[2,4],\"mode\":\"after\"}},\"nonselection_glyph\":{\"type\":\"object\",\"name\":\"Step\",\"id\":\"p203761\",\"attributes\":{\"x\":{\"type\":\"field\",\"field\":\"x\"},\"y\":{\"type\":\"field\",\"field\":\"y\"},\"line_alpha\":0.1,\"line_dash\":[2,4],\"mode\":\"after\"}},\"muted_glyph\":{\"type\":\"object\",\"name\":\"Step\",\"id\":\"p203762\",\"attributes\":{\"x\":{\"type\":\"field\",\"field\":\"x\"},\"y\":{\"type\":\"field\",\"field\":\"y\"},\"line_alpha\":0.2,\"line_dash\":[2,4],\"mode\":\"after\"}}}},{\"type\":\"object\",\"name\":\"GlyphRenderer\",\"id\":\"p203772\",\"attributes\":{\"data_source\":{\"type\":\"object\",\"name\":\"ColumnDataSource\",\"id\":\"p203766\",\"attributes\":{\"selected\":{\"type\":\"object\",\"name\":\"Selection\",\"id\":\"p203768\",\"attributes\":{\"indices\":[],\"line_indices\":[]}},\"selection_policy\":{\"type\":\"object\",\"name\":\"UnionRenderers\",\"id\":\"p203767\"},\"data\":{\"type\":\"map\",\"entries\":[[\"x\",{\"type\":\"ndarray\",\"array\":{\"type\":\"bytes\",\"data\":\"AAAAACCL78AAAAAAoOHtwAAAAADgOOzAAAAAACCQ6sAAAAAAAOfowAAAAAAAPufAAAAAACCV5cAAAAAA4OvjwAAAAADgQuLAAAAAACCa4MAAAAAAwOHdwAAAAABAj9rAAAAAAIA918AAAAAAwOvTwAAAAABAmdDAAAAAAICOysAAAAAAgOzDwAAAAAAAjrrAAAAAAACOqsAAAAAAAAAAAAAAAAAAlKpAAAAAAACTukAAAAAAAO7DQAAAAACAj8pAAAAAAMCZ0EAAAAAAgO3TQAAAAADAPddAAAAAAMCP2kAAAAAAwOHdQAAAAADgmeBAAAAAAEBD4kAAAAAAQOzjQAAAAAAgleVAAAAAACA+50AAAAAAQOfoQAAAAADgj+pAAAAAAOA47EAAAAAAwOLtQAAAAADgiu9AAAAAADCa8EAAAAAAkG7xQAAAAAAAQ/JAAAAAAKAX80AAAAAAAOzzQAAAAACwwPRAAAAAADCV9UAAAAAAkGn2QAAAAAAAPvdAAAAAAHAS+EAAAAAA8Ob4QAAAAACAu/lAAAAAADCQ+kAAAAAAcGT7QAAAAAAAOfxAAAAAAHAN/UAAAAAA8OH9QAAAAABwtv5AAAAAAPCK/0AAAAAAuC8AQQAAAAD4mQBBAAAAADgEAUEAAAAAeG4BQQAAAAC42AFBAAAAAAhDAkEAAAAAOK0CQQAAAACYFwNBAAAAALiBA0EAAAAAaOwDQQAAAAA4VgRBAAAAAHjABEEAAAAA8CoFQQAAAAAQlQVBAAAAADj/BUEAAAAAeGkGQQAAAAC40wZBAAAAAPg9B0EAAAAAOKgHQQAAAAB4EghBAAAAALh8CEEAAAAA+OYIQQAAAABYUQlBAAAAAHi7CUEAAAAAwCUKQQAAAAD4jwpBAAAAADj6CkEAAAAAEGULQQAAAAC4zgtBAAAAABg5DEEAAAAAOKMMQQAAAAB4DQ1BAAAAALh3DUEAAAAAUOINQQAAAACoTA5BAAAAAIi2DkEAAAAAuCAPQQ==\"},\"shape\":[95],\"dtype\":\"float64\",\"order\":\"little\"}],[\"y\",{\"type\":\"ndarray\",\"array\":{\"type\":\"bytes\",\"data\":\"KnKIuDmVsD9lpUkp6PayP2WlSSno9rI/Xg8mxccntD9lpUkp6PayPyPcZFQZxrE/ZaVJKej2sj9eDybFxye0P14PJsXHJ7Q/Xg8mxccntD+h2Aqalli1P5pC5zV2ibY/Xg8mxccntD+h2Aqalli1P14PJsXHJ7Q/ZaVJKej2sj9eDybFxye0P5pC5zV2ibY/odgKmpZYtT+aQuc1dom2P919jo8WZ6w/Nnf0v1yLNr/artAHy9igv6sjRzoDI6+/Tfilft5UtL8YWwhyUMKwv1SOyeL+I7O/GFsIclDCsL8RxeQNMPOxvxhbCHJQwrC/VI7J4v4js79Ujsni/iOzv1SOyeL+I7O/Tfilft5UtL+QwYpTrYW1v034pX7eVLS/Tfilft5UtL+QwYpTrYW1v5DBilOthbW/VI7J4v4js78RxeQNMPOxv5DBilOthbW/k4ychT3ttL+QwYpTrYW1v4grZ++Mtra/uU+OAkTBrL955XrbTIWIv2kewCK/fqA/zlFHx9XIrj8qcoi4OZWwP2WlSSno9rI/I9xkVBnGsT9lpUkp6PayPyPcZFQZxrE/KnKIuDmVsD8j3GRUGcaxP14PJsXHJ7Q/odgKmpZYtT9eDybFxye0P14PJsXHJ7Q/ZaVJKej2sj9eDybFxye0P14PJsXHJ7Q/ZaVJKej2sj+aQuc1dom2P14PJsXHJ7Q/odgKmpZYtT+aQuc1dom2P+DW3TzVIbc/odgKmpZYtT/OUUfH1ciuPxlYx/FDpXE/2q7QB8vYoL+rI0c6AyOvvxhbCHJQwrC/Tfilft5UtL9N+KV+3lS0vxHF5A0w87G/Tfilft5UtL9Ujsni/iOzv1hZ2xSPi7K/Tfilft5UtL+TjJyFPe20v5DBilOthbW/VI7J4v4js79Ujsni/iOzv1SOyeL+I7O/iCtn74y2tr9Ujsni/iOzv034pX7eVLS/Tfilft5UtL+QwYpTrYW1v034pX7eVLS/Tfilft5UtL+QwYpTrYW1vw==\"},\"shape\":[95],\"dtype\":\"float64\",\"order\":\"little\"}]]}}},\"view\":{\"type\":\"object\",\"name\":\"CDSView\",\"id\":\"p203773\",\"attributes\":{\"filter\":{\"type\":\"object\",\"name\":\"AllIndices\",\"id\":\"p203774\"}}},\"glyph\":{\"type\":\"object\",\"name\":\"Step\",\"id\":\"p203769\",\"attributes\":{\"x\":{\"type\":\"field\",\"field\":\"x\"},\"y\":{\"type\":\"field\",\"field\":\"y\"},\"line_color\":\"#1f77b4\",\"mode\":\"after\"}},\"nonselection_glyph\":{\"type\":\"object\",\"name\":\"Step\",\"id\":\"p203770\",\"attributes\":{\"x\":{\"type\":\"field\",\"field\":\"x\"},\"y\":{\"type\":\"field\",\"field\":\"y\"},\"line_color\":\"#1f77b4\",\"line_alpha\":0.1,\"mode\":\"after\"}},\"muted_glyph\":{\"type\":\"object\",\"name\":\"Step\",\"id\":\"p203771\",\"attributes\":{\"x\":{\"type\":\"field\",\"field\":\"x\"},\"y\":{\"type\":\"field\",\"field\":\"y\"},\"line_color\":\"#1f77b4\",\"line_alpha\":0.2,\"mode\":\"after\"}}}},{\"type\":\"object\",\"name\":\"GlyphRenderer\",\"id\":\"p203781\",\"attributes\":{\"data_source\":{\"type\":\"object\",\"name\":\"ColumnDataSource\",\"id\":\"p203775\",\"attributes\":{\"selected\":{\"type\":\"object\",\"name\":\"Selection\",\"id\":\"p203777\",\"attributes\":{\"indices\":[],\"line_indices\":[]}},\"selection_policy\":{\"type\":\"object\",\"name\":\"UnionRenderers\",\"id\":\"p203776\"},\"data\":{\"type\":\"map\",\"entries\":[[\"x\",{\"type\":\"ndarray\",\"array\":{\"type\":\"bytes\",\"data\":\"AAAAACCL78AAAAAAoOHtwAAAAADgOOzAAAAAACCQ6sAAAAAAAOfowAAAAAAAPufAAAAAACCV5cAAAAAA4OvjwAAAAADgQuLAAAAAACCa4MAAAAAAwOHdwAAAAABAj9rAAAAAAIA918AAAAAAwOvTwAAAAABAmdDAAAAAAICOysAAAAAAgOzDwAAAAAAAjrrAAAAAAACOqsAAAAAAAAAAAAAAAAAAlKpAAAAAAACTukAAAAAAAO7DQAAAAACAj8pAAAAAAMCZ0EAAAAAAgO3TQAAAAADAPddAAAAAAMCP2kAAAAAAwOHdQAAAAADgmeBAAAAAAEBD4kAAAAAAQOzjQAAAAAAgleVAAAAAACA+50AAAAAAQOfoQAAAAADgj+pAAAAAAOA47EAAAAAAwOLtQAAAAADgiu9AAAAAADCa8EAAAAAAkG7xQAAAAAAAQ/JAAAAAAKAX80AAAAAAAOzzQAAAAACwwPRAAAAAADCV9UAAAAAAkGn2QAAAAAAAPvdAAAAAAHAS+EAAAAAA8Ob4QAAAAACAu/lAAAAAADCQ+kAAAAAAcGT7QAAAAAAAOfxAAAAAAHAN/UAAAAAA8OH9QAAAAABwtv5AAAAAAPCK/0AAAAAAuC8AQQAAAAD4mQBBAAAAADgEAUEAAAAAeG4BQQAAAAC42AFBAAAAAAhDAkEAAAAAOK0CQQAAAACYFwNBAAAAALiBA0EAAAAAaOwDQQAAAAA4VgRBAAAAAHjABEEAAAAA8CoFQQAAAAAQlQVBAAAAADj/BUEAAAAAeGkGQQAAAAC40wZBAAAAAPg9B0EAAAAAOKgHQQAAAAB4EghBAAAAALh8CEEAAAAA+OYIQQAAAABYUQlBAAAAAHi7CUEAAAAAwCUKQQAAAAD4jwpBAAAAADj6CkEAAAAAEGULQQAAAAC4zgtBAAAAABg5DEEAAAAAOKMMQQAAAAB4DQ1BAAAAALh3DUEAAAAAUOINQQAAAACoTA5BAAAAAIi2DkEAAAAAuCAPQQ==\"},\"shape\":[95],\"dtype\":\"float64\",\"order\":\"little\"}],[\"y\",{\"type\":\"ndarray\",\"array\":{\"type\":\"bytes\",\"data\":\"KnKIuDmVsD9lpUkp6PayP2WlSSno9rI/Xg8mxccntD9lpUkp6PayPyPcZFQZxrE/ZaVJKej2sj9eDybFxye0P14PJsXHJ7Q/Xg8mxccntD+h2Aqalli1P5pC5zV2ibY/Xg8mxccntD+h2Aqalli1P14PJsXHJ7Q/ZaVJKej2sj9eDybFxye0P5pC5zV2ibY/odgKmpZYtT+aQuc1dom2P919jo8WZ6w/Nnf0v1yLNr/artAHy9igv6sjRzoDI6+/Tfilft5UtL8YWwhyUMKwv1SOyeL+I7O/GFsIclDCsL8RxeQNMPOxvxhbCHJQwrC/VI7J4v4js79Ujsni/iOzv1SOyeL+I7O/Tfilft5UtL+QwYpTrYW1v034pX7eVLS/Tfilft5UtL+QwYpTrYW1v5DBilOthbW/VI7J4v4js78RxeQNMPOxv5DBilOthbW/k4ychT3ttL+QwYpTrYW1v4grZ++Mtra/uU+OAkTBrL955XrbTIWIv2kewCK/fqA/zlFHx9XIrj8qcoi4OZWwP2WlSSno9rI/I9xkVBnGsT9lpUkp6PayPyPcZFQZxrE/KnKIuDmVsD8j3GRUGcaxP14PJsXHJ7Q/odgKmpZYtT9eDybFxye0P14PJsXHJ7Q/ZaVJKej2sj9eDybFxye0P14PJsXHJ7Q/ZaVJKej2sj+aQuc1dom2P14PJsXHJ7Q/odgKmpZYtT+aQuc1dom2P+DW3TzVIbc/odgKmpZYtT/OUUfH1ciuPxlYx/FDpXE/2q7QB8vYoL+rI0c6AyOvvxhbCHJQwrC/Tfilft5UtL9N+KV+3lS0vxHF5A0w87G/Tfilft5UtL9Ujsni/iOzv1hZ2xSPi7K/Tfilft5UtL+TjJyFPe20v5DBilOthbW/VI7J4v4js79Ujsni/iOzv1SOyeL+I7O/iCtn74y2tr9Ujsni/iOzv034pX7eVLS/Tfilft5UtL+QwYpTrYW1v034pX7eVLS/Tfilft5UtL+QwYpTrYW1vw==\"},\"shape\":[95],\"dtype\":\"float64\",\"order\":\"little\"}]]}}},\"view\":{\"type\":\"object\",\"name\":\"CDSView\",\"id\":\"p203782\",\"attributes\":{\"filter\":{\"type\":\"object\",\"name\":\"AllIndices\",\"id\":\"p203783\"}}},\"glyph\":{\"type\":\"object\",\"name\":\"Circle\",\"id\":\"p203778\",\"attributes\":{\"x\":{\"type\":\"field\",\"field\":\"x\"},\"y\":{\"type\":\"field\",\"field\":\"y\"},\"size\":{\"type\":\"value\",\"value\":2},\"line_color\":{\"type\":\"value\",\"value\":\"#1f77b4\"},\"fill_color\":{\"type\":\"value\",\"value\":\"#1f77b4\"}}},\"nonselection_glyph\":{\"type\":\"object\",\"name\":\"Circle\",\"id\":\"p203779\",\"attributes\":{\"x\":{\"type\":\"field\",\"field\":\"x\"},\"y\":{\"type\":\"field\",\"field\":\"y\"},\"size\":{\"type\":\"value\",\"value\":2},\"line_color\":{\"type\":\"value\",\"value\":\"#1f77b4\"},\"line_alpha\":{\"type\":\"value\",\"value\":0.1},\"fill_color\":{\"type\":\"value\",\"value\":\"#1f77b4\"},\"fill_alpha\":{\"type\":\"value\",\"value\":0.1},\"hatch_alpha\":{\"type\":\"value\",\"value\":0.1}}},\"muted_glyph\":{\"type\":\"object\",\"name\":\"Circle\",\"id\":\"p203780\",\"attributes\":{\"x\":{\"type\":\"field\",\"field\":\"x\"},\"y\":{\"type\":\"field\",\"field\":\"y\"},\"size\":{\"type\":\"value\",\"value\":2},\"line_color\":{\"type\":\"value\",\"value\":\"#1f77b4\"},\"line_alpha\":{\"type\":\"value\",\"value\":0.2},\"fill_color\":{\"type\":\"value\",\"value\":\"#1f77b4\"},\"fill_alpha\":{\"type\":\"value\",\"value\":0.2},\"hatch_alpha\":{\"type\":\"value\",\"value\":0.2}}}}},{\"type\":\"object\",\"name\":\"GlyphRenderer\",\"id\":\"p203790\",\"attributes\":{\"data_source\":{\"type\":\"object\",\"name\":\"ColumnDataSource\",\"id\":\"p203784\",\"attributes\":{\"selected\":{\"type\":\"object\",\"name\":\"Selection\",\"id\":\"p203786\",\"attributes\":{\"indices\":[],\"line_indices\":[]}},\"selection_policy\":{\"type\":\"object\",\"name\":\"UnionRenderers\",\"id\":\"p203785\"},\"data\":{\"type\":\"map\",\"entries\":[[\"x\",{\"type\":\"ndarray\",\"array\":{\"type\":\"bytes\",\"data\":\"AAAAACCL78AAAAAAoOHtwAAAAADgOOzAAAAAACCQ6sAAAAAAAOfowAAAAAAAPufAAAAAACCV5cAAAAAA4OvjwAAAAADgQuLAAAAAACCa4MAAAAAAwOHdwAAAAABAj9rAAAAAAIA918AAAAAAwOvTwAAAAABAmdDAAAAAAICOysAAAAAAgOzDwAAAAAAAjrrAAAAAAACOqsAAAAAAAAAAAAAAAAAAlKpAAAAAAACTukAAAAAAAO7DQAAAAACAj8pAAAAAAMCZ0EAAAAAAgO3TQAAAAADAPddAAAAAAMCP2kAAAAAAwOHdQAAAAADgmeBAAAAAAEBD4kAAAAAAQOzjQAAAAAAgleVAAAAAACA+50AAAAAAQOfoQAAAAADgj+pAAAAAAOA47EAAAAAAwOLtQAAAAADgiu9AAAAAADCa8EAAAAAAkG7xQAAAAAAAQ/JAAAAAAKAX80AAAAAAAOzzQAAAAACwwPRAAAAAADCV9UAAAAAAkGn2QAAAAAAAPvdAAAAAAHAS+EAAAAAA8Ob4QAAAAACAu/lAAAAAADCQ+kAAAAAAcGT7QAAAAAAAOfxAAAAAAHAN/UAAAAAA8OH9QAAAAABwtv5AAAAAAPCK/0AAAAAAuC8AQQAAAAD4mQBBAAAAADgEAUEAAAAAeG4BQQAAAAC42AFBAAAAAAhDAkEAAAAAOK0CQQAAAACYFwNBAAAAALiBA0EAAAAAaOwDQQAAAAA4VgRBAAAAAHjABEEAAAAA8CoFQQAAAAAQlQVBAAAAADj/BUEAAAAAeGkGQQAAAAC40wZBAAAAAPg9B0EAAAAAOKgHQQAAAAB4EghBAAAAALh8CEEAAAAA+OYIQQAAAABYUQlBAAAAAHi7CUEAAAAAwCUKQQAAAAD4jwpBAAAAADj6CkEAAAAAEGULQQAAAAC4zgtBAAAAABg5DEEAAAAAOKMMQQAAAAB4DQ1BAAAAALh3DUEAAAAAUOINQQAAAACoTA5BAAAAAIi2DkEAAAAAuCAPQQ==\"},\"shape\":[95],\"dtype\":\"float64\",\"order\":\"little\"}],[\"y\",{\"type\":\"ndarray\",\"array\":{\"type\":\"bytes\",\"data\":\"mpmZmZmZuT+amZmZmZm5P5qZmZmZmbk/mpmZmZmZuT+amZmZmZm5P5qZmZmZmbk/mpmZmZmZuT+amZmZmZm5P5qZmZmZmbk/mpmZmZmZuT+amZmZmZm5P5qZmZmZmbk/mpmZmZmZuT+amZmZmZm5P5qZmZmZmbk/mpmZmZmZuT+amZmZmZm5P5qZmZmZmbk/mpmZmZmZuT+amZmZmZm5v5qZmZmZmbm/mpmZmZmZub+amZmZmZm5v5qZmZmZmbm/mpmZmZmZub+amZmZmZm5v5qZmZmZmbm/mpmZmZmZub+amZmZmZm5v5qZmZmZmbm/mpmZmZmZub+amZmZmZm5v5qZmZmZmbm/mpmZmZmZub+amZmZmZm5v5qZmZmZmbm/mpmZmZmZub+amZmZmZm5v5qZmZmZmbm/mpmZmZmZub+amZmZmZm5v5qZmZmZmbm/mpmZmZmZub+amZmZmZm5v5qZmZmZmbk/mpmZmZmZuT+amZmZmZm5P5qZmZmZmbk/mpmZmZmZuT+amZmZmZm5P5qZmZmZmbk/mpmZmZmZuT+amZmZmZm5P5qZmZmZmbk/mpmZmZmZuT+amZmZmZm5P5qZmZmZmbk/mpmZmZmZuT+amZmZmZm5P5qZmZmZmbk/mpmZmZmZuT+amZmZmZm5P5qZmZmZmbk/mpmZmZmZuT+amZmZmZm5P5qZmZmZmbk/mpmZmZmZuT+amZmZmZm5P5qZmZmZmbk/mpmZmZmZub+amZmZmZm5v5qZmZmZmbm/mpmZmZmZub+amZmZmZm5v5qZmZmZmbm/mpmZmZmZub+amZmZmZm5v5qZmZmZmbm/mpmZmZmZub+amZmZmZm5v5qZmZmZmbm/mpmZmZmZub+amZmZmZm5v5qZmZmZmbm/mpmZmZmZub+amZmZmZm5v5qZmZmZmbm/mpmZmZmZub+amZmZmZm5v5qZmZmZmbm/mpmZmZmZub+amZmZmZm5v5qZmZmZmbm/mpmZmZmZub+amZmZmZm5Pw==\"},\"shape\":[95],\"dtype\":\"float64\",\"order\":\"little\"}]]}}},\"view\":{\"type\":\"object\",\"name\":\"CDSView\",\"id\":\"p203791\",\"attributes\":{\"filter\":{\"type\":\"object\",\"name\":\"AllIndices\",\"id\":\"p203792\"}}},\"glyph\":{\"type\":\"object\",\"name\":\"Step\",\"id\":\"p203787\",\"attributes\":{\"x\":{\"type\":\"field\",\"field\":\"x\"},\"y\":{\"type\":\"field\",\"field\":\"y\"},\"line_dash\":[2,4],\"mode\":\"after\"}},\"nonselection_glyph\":{\"type\":\"object\",\"name\":\"Step\",\"id\":\"p203788\",\"attributes\":{\"x\":{\"type\":\"field\",\"field\":\"x\"},\"y\":{\"type\":\"field\",\"field\":\"y\"},\"line_alpha\":0.1,\"line_dash\":[2,4],\"mode\":\"after\"}},\"muted_glyph\":{\"type\":\"object\",\"name\":\"Step\",\"id\":\"p203789\",\"attributes\":{\"x\":{\"type\":\"field\",\"field\":\"x\"},\"y\":{\"type\":\"field\",\"field\":\"y\"},\"line_alpha\":0.2,\"line_dash\":[2,4],\"mode\":\"after\"}}}},{\"type\":\"object\",\"name\":\"GlyphRenderer\",\"id\":\"p203799\",\"attributes\":{\"data_source\":{\"type\":\"object\",\"name\":\"ColumnDataSource\",\"id\":\"p203793\",\"attributes\":{\"selected\":{\"type\":\"object\",\"name\":\"Selection\",\"id\":\"p203795\",\"attributes\":{\"indices\":[],\"line_indices\":[]}},\"selection_policy\":{\"type\":\"object\",\"name\":\"UnionRenderers\",\"id\":\"p203794\"},\"data\":{\"type\":\"map\",\"entries\":[[\"x\",{\"type\":\"ndarray\",\"array\":{\"type\":\"bytes\",\"data\":\"AAAAACCL78AAAAAAgOLtwAAAAACAOezAAAAAAECQ6sAAAAAAgOfowAAAAABgPufAAAAAACCV5cAAAAAAgOzjwAAAAACAQ+LAAAAAAACa4MAAAAAAgOLdwAAAAAAAkdrAAAAAAAA/18AAAAAAAO3TwAAAAAAAm9DAAAAAAACSysAAAAAAAO7DwAAAAAAAkbrAAAAAAACOqsAAAAAAAAAAAAAAAAAAjKpAAAAAAACMukAAAAAAAOvDQAAAAAAAkMpAAAAAAACZ0EAAAAAAQOvTQAAAAABAPddAAAAAAACQ2kAAAAAAAOHdQAAAAACAmeBAAAAAAKBC4kAAAAAAwOvjQAAAAADglOVAAAAAAKA950AAAAAA4OboQAAAAACgj+pAAAAAAOA47EAAAAAA4OHtQAAAAADAiu9AAAAAAMCZ8EAAAAAAQG7xQAAAAADwQvJAAAAAAHAX80AAAAAA0OvzQAAAAABAwPRAAAAAAOCU9UAAAAAAQGn2QAAAAADAPfdAAAAAAIAS+EAAAAAA0Ob4QAAAAABgu/lAAAAAAACQ+kAAAAAAUGT7QAAAAADAOPxAAAAAAFAN/UAAAAAAwOH9QAAAAABAtv5AAAAAAMCK/0AAAAAA0C8AQQAAAADomQBBAAAAACAEAUEAAAAAgG4BQQAAAACw2AFBAAAAAOBCAkEAAAAAIK0CQQAAAABgFwNBAAAAAKCBA0EAAAAA+OsDQQAAAAAwVgRBAAAAAIDABEEAAAAAuCoFQQAAAAAAlQVBAAAAACD/BUEAAAAAaGkGQQAAAACg0wZBAAAAAOA9B0EAAAAAIKgHQQAAAAB4EghBAAAAAKh8CEEAAAAAAOcIQQAAAABYUQlBAAAAAHi7CUEAAAAAwCUKQQAAAAD4jwpBAAAAAED6CkEAAAAAeGQLQQAAAAC4zgtBAAAAAPg4DEEAAAAAQKMMQQAAAABgDQ1BAAAAALh3DUEAAAAA6OENQQAAAAA4TA5BAAAAAGC2DkEAAAAAoCAPQQ==\"},\"shape\":[95],\"dtype\":\"float64\",\"order\":\"little\"}],[\"y\",{\"type\":\"ndarray\",\"array\":{\"type\":\"bytes\",\"data\":\"KnKIuDmVsD8j3GRUGcaxP2WlSSno9rI/ZaVJKej2sj8j3GRUGcaxP2WlSSno9rI/ZaVJKej2sj9eDybFxye0P14PJsXHJ7Q/ZaVJKej2sj+h2Aqalli1P5pC5zV2ibY/Xg8mxccntD9eDybFxye0P14PJsXHJ7Q/Xg8mxccntD+h2Aqalli1P5pC5zV2ibY/odgKmpZYtT+h2Aqalli1P919jo8WZ6w/Nnf0v1yLNr/artAHy9igvzS9xFimX6q/FZD2P8Basb9Ujsni/iOzv1SOyeL+I7O/WFnbFI+Lsr8YWwhyUMKwv034pX7eVLS/EcXkDTDzsb9Ujsni/iOzv034pX7eVLS/Tfilft5UtL9N+KV+3lS0v5DBilOthbW/kMGKU62Ftb9N+KV+3lS0v1SOyeL+I7O/Tfilft5UtL+QwYpTrYW1v1SOyeL+I7O/Tfilft5UtL+IK2fvjLa2v5DBilOthbW/QukLIef9p7+h20sao3V0v+6UDtb/OZw/3X2OjxZnrD8qcoi4OZWwP2WlSSno9rI/I9xkVBnGsT8mp3aGqS2xPyPcZFQZxrE/Xg8mxccntD9lpUkp6PayP6HYCpqWWLU/aXBbW3hesj9eDybFxye0P14PJsXHJ7Q/ZaVJKej2sj9lpUkp6PayP14PJsXHJ7Q/Xg8mxccntD+aQuc1dom2P6HYCpqWWLU/Xg8mxccntD+h2Aqalli1P6HYCpqWWLU/odgKmpZYtT9X68TleAWqPyP2CaAYWYI/qDgOvFrunL+rI0c6AyOvvxhbCHJQwrC/VI7J4v4js79Ujsni/iOzvxHF5A0w87G/EcXkDTDzsb+IK2fvjLa2v034pX7eVLS/Tfilft5UtL8YWwhyUMKwv034pX7eVLS/Tfilft5UtL9N+KV+3lS0v034pX7eVLS/Tfilft5UtL9N+KV+3lS0v1SOyeL+I7O/k4ychT3ttL9N+KV+3lS0v5DBilOthbW/kMGKU62Ftb9Ujsni/iOzvw==\"},\"shape\":[95],\"dtype\":\"float64\",\"order\":\"little\"}]]}}},\"view\":{\"type\":\"object\",\"name\":\"CDSView\",\"id\":\"p203800\",\"attributes\":{\"filter\":{\"type\":\"object\",\"name\":\"AllIndices\",\"id\":\"p203801\"}}},\"glyph\":{\"type\":\"object\",\"name\":\"Step\",\"id\":\"p203796\",\"attributes\":{\"x\":{\"type\":\"field\",\"field\":\"x\"},\"y\":{\"type\":\"field\",\"field\":\"y\"},\"line_color\":\"#1f77b4\",\"mode\":\"after\"}},\"nonselection_glyph\":{\"type\":\"object\",\"name\":\"Step\",\"id\":\"p203797\",\"attributes\":{\"x\":{\"type\":\"field\",\"field\":\"x\"},\"y\":{\"type\":\"field\",\"field\":\"y\"},\"line_color\":\"#1f77b4\",\"line_alpha\":0.1,\"mode\":\"after\"}},\"muted_glyph\":{\"type\":\"object\",\"name\":\"Step\",\"id\":\"p203798\",\"attributes\":{\"x\":{\"type\":\"field\",\"field\":\"x\"},\"y\":{\"type\":\"field\",\"field\":\"y\"},\"line_color\":\"#1f77b4\",\"line_alpha\":0.2,\"mode\":\"after\"}}}},{\"type\":\"object\",\"name\":\"GlyphRenderer\",\"id\":\"p203808\",\"attributes\":{\"data_source\":{\"type\":\"object\",\"name\":\"ColumnDataSource\",\"id\":\"p203802\",\"attributes\":{\"selected\":{\"type\":\"object\",\"name\":\"Selection\",\"id\":\"p203804\",\"attributes\":{\"indices\":[],\"line_indices\":[]}},\"selection_policy\":{\"type\":\"object\",\"name\":\"UnionRenderers\",\"id\":\"p203803\"},\"data\":{\"type\":\"map\",\"entries\":[[\"x\",{\"type\":\"ndarray\",\"array\":{\"type\":\"bytes\",\"data\":\"AAAAACCL78AAAAAAgOLtwAAAAACAOezAAAAAAECQ6sAAAAAAgOfowAAAAABgPufAAAAAACCV5cAAAAAAgOzjwAAAAACAQ+LAAAAAAACa4MAAAAAAgOLdwAAAAAAAkdrAAAAAAAA/18AAAAAAAO3TwAAAAAAAm9DAAAAAAACSysAAAAAAAO7DwAAAAAAAkbrAAAAAAACOqsAAAAAAAAAAAAAAAAAAjKpAAAAAAACMukAAAAAAAOvDQAAAAAAAkMpAAAAAAACZ0EAAAAAAQOvTQAAAAABAPddAAAAAAACQ2kAAAAAAAOHdQAAAAACAmeBAAAAAAKBC4kAAAAAAwOvjQAAAAADglOVAAAAAAKA950AAAAAA4OboQAAAAACgj+pAAAAAAOA47EAAAAAA4OHtQAAAAADAiu9AAAAAAMCZ8EAAAAAAQG7xQAAAAADwQvJAAAAAAHAX80AAAAAA0OvzQAAAAABAwPRAAAAAAOCU9UAAAAAAQGn2QAAAAADAPfdAAAAAAIAS+EAAAAAA0Ob4QAAAAABgu/lAAAAAAACQ+kAAAAAAUGT7QAAAAADAOPxAAAAAAFAN/UAAAAAAwOH9QAAAAABAtv5AAAAAAMCK/0AAAAAA0C8AQQAAAADomQBBAAAAACAEAUEAAAAAgG4BQQAAAACw2AFBAAAAAOBCAkEAAAAAIK0CQQAAAABgFwNBAAAAAKCBA0EAAAAA+OsDQQAAAAAwVgRBAAAAAIDABEEAAAAAuCoFQQAAAAAAlQVBAAAAACD/BUEAAAAAaGkGQQAAAACg0wZBAAAAAOA9B0EAAAAAIKgHQQAAAAB4EghBAAAAAKh8CEEAAAAAAOcIQQAAAABYUQlBAAAAAHi7CUEAAAAAwCUKQQAAAAD4jwpBAAAAAED6CkEAAAAAeGQLQQAAAAC4zgtBAAAAAPg4DEEAAAAAQKMMQQAAAABgDQ1BAAAAALh3DUEAAAAA6OENQQAAAAA4TA5BAAAAAGC2DkEAAAAAoCAPQQ==\"},\"shape\":[95],\"dtype\":\"float64\",\"order\":\"little\"}],[\"y\",{\"type\":\"ndarray\",\"array\":{\"type\":\"bytes\",\"data\":\"KnKIuDmVsD8j3GRUGcaxP2WlSSno9rI/ZaVJKej2sj8j3GRUGcaxP2WlSSno9rI/ZaVJKej2sj9eDybFxye0P14PJsXHJ7Q/ZaVJKej2sj+h2Aqalli1P5pC5zV2ibY/Xg8mxccntD9eDybFxye0P14PJsXHJ7Q/Xg8mxccntD+h2Aqalli1P5pC5zV2ibY/odgKmpZYtT+h2Aqalli1P919jo8WZ6w/Nnf0v1yLNr/artAHy9igvzS9xFimX6q/FZD2P8Basb9Ujsni/iOzv1SOyeL+I7O/WFnbFI+Lsr8YWwhyUMKwv034pX7eVLS/EcXkDTDzsb9Ujsni/iOzv034pX7eVLS/Tfilft5UtL9N+KV+3lS0v5DBilOthbW/kMGKU62Ftb9N+KV+3lS0v1SOyeL+I7O/Tfilft5UtL+QwYpTrYW1v1SOyeL+I7O/Tfilft5UtL+IK2fvjLa2v5DBilOthbW/QukLIef9p7+h20sao3V0v+6UDtb/OZw/3X2OjxZnrD8qcoi4OZWwP2WlSSno9rI/I9xkVBnGsT8mp3aGqS2xPyPcZFQZxrE/Xg8mxccntD9lpUkp6PayP6HYCpqWWLU/aXBbW3hesj9eDybFxye0P14PJsXHJ7Q/ZaVJKej2sj9lpUkp6PayP14PJsXHJ7Q/Xg8mxccntD+aQuc1dom2P6HYCpqWWLU/Xg8mxccntD+h2Aqalli1P6HYCpqWWLU/odgKmpZYtT9X68TleAWqPyP2CaAYWYI/qDgOvFrunL+rI0c6AyOvvxhbCHJQwrC/VI7J4v4js79Ujsni/iOzvxHF5A0w87G/EcXkDTDzsb+IK2fvjLa2v034pX7eVLS/Tfilft5UtL8YWwhyUMKwv034pX7eVLS/Tfilft5UtL9N+KV+3lS0v034pX7eVLS/Tfilft5UtL9N+KV+3lS0v1SOyeL+I7O/k4ychT3ttL9N+KV+3lS0v5DBilOthbW/kMGKU62Ftb9Ujsni/iOzvw==\"},\"shape\":[95],\"dtype\":\"float64\",\"order\":\"little\"}]]}}},\"view\":{\"type\":\"object\",\"name\":\"CDSView\",\"id\":\"p203809\",\"attributes\":{\"filter\":{\"type\":\"object\",\"name\":\"AllIndices\",\"id\":\"p203810\"}}},\"glyph\":{\"type\":\"object\",\"name\":\"Circle\",\"id\":\"p203805\",\"attributes\":{\"x\":{\"type\":\"field\",\"field\":\"x\"},\"y\":{\"type\":\"field\",\"field\":\"y\"},\"size\":{\"type\":\"value\",\"value\":2},\"line_color\":{\"type\":\"value\",\"value\":\"#1f77b4\"},\"fill_color\":{\"type\":\"value\",\"value\":\"#1f77b4\"}}},\"nonselection_glyph\":{\"type\":\"object\",\"name\":\"Circle\",\"id\":\"p203806\",\"attributes\":{\"x\":{\"type\":\"field\",\"field\":\"x\"},\"y\":{\"type\":\"field\",\"field\":\"y\"},\"size\":{\"type\":\"value\",\"value\":2},\"line_color\":{\"type\":\"value\",\"value\":\"#1f77b4\"},\"line_alpha\":{\"type\":\"value\",\"value\":0.1},\"fill_color\":{\"type\":\"value\",\"value\":\"#1f77b4\"},\"fill_alpha\":{\"type\":\"value\",\"value\":0.1},\"hatch_alpha\":{\"type\":\"value\",\"value\":0.1}}},\"muted_glyph\":{\"type\":\"object\",\"name\":\"Circle\",\"id\":\"p203807\",\"attributes\":{\"x\":{\"type\":\"field\",\"field\":\"x\"},\"y\":{\"type\":\"field\",\"field\":\"y\"},\"size\":{\"type\":\"value\",\"value\":2},\"line_color\":{\"type\":\"value\",\"value\":\"#1f77b4\"},\"line_alpha\":{\"type\":\"value\",\"value\":0.2},\"fill_color\":{\"type\":\"value\",\"value\":\"#1f77b4\"},\"fill_alpha\":{\"type\":\"value\",\"value\":0.2},\"hatch_alpha\":{\"type\":\"value\",\"value\":0.2}}}}},{\"type\":\"object\",\"name\":\"GlyphRenderer\",\"id\":\"p203817\",\"attributes\":{\"data_source\":{\"type\":\"object\",\"name\":\"ColumnDataSource\",\"id\":\"p203811\",\"attributes\":{\"selected\":{\"type\":\"object\",\"name\":\"Selection\",\"id\":\"p203813\",\"attributes\":{\"indices\":[],\"line_indices\":[]}},\"selection_policy\":{\"type\":\"object\",\"name\":\"UnionRenderers\",\"id\":\"p203812\"},\"data\":{\"type\":\"map\",\"entries\":[[\"x\",{\"type\":\"ndarray\",\"array\":{\"type\":\"bytes\",\"data\":\"AAAAACCL78AAAAAAgOLtwAAAAACAOezAAAAAAECQ6sAAAAAAgOfowAAAAABgPufAAAAAACCV5cAAAAAAgOzjwAAAAACAQ+LAAAAAAACa4MAAAAAAgOLdwAAAAAAAkdrAAAAAAAA/18AAAAAAAO3TwAAAAAAAm9DAAAAAAACSysAAAAAAAO7DwAAAAAAAkbrAAAAAAACOqsAAAAAAAAAAAAAAAAAAjKpAAAAAAACMukAAAAAAAOvDQAAAAAAAkMpAAAAAAACZ0EAAAAAAQOvTQAAAAABAPddAAAAAAACQ2kAAAAAAAOHdQAAAAACAmeBAAAAAAKBC4kAAAAAAwOvjQAAAAADglOVAAAAAAKA950AAAAAA4OboQAAAAACgj+pAAAAAAOA47EAAAAAA4OHtQAAAAADAiu9AAAAAAMCZ8EAAAAAAQG7xQAAAAADwQvJAAAAAAHAX80AAAAAA0OvzQAAAAABAwPRAAAAAAOCU9UAAAAAAQGn2QAAAAADAPfdAAAAAAIAS+EAAAAAA0Ob4QAAAAABgu/lAAAAAAACQ+kAAAAAAUGT7QAAAAADAOPxAAAAAAFAN/UAAAAAAwOH9QAAAAABAtv5AAAAAAMCK/0AAAAAA0C8AQQAAAADomQBBAAAAACAEAUEAAAAAgG4BQQAAAACw2AFBAAAAAOBCAkEAAAAAIK0CQQAAAABgFwNBAAAAAKCBA0EAAAAA+OsDQQAAAAAwVgRBAAAAAIDABEEAAAAAuCoFQQAAAAAAlQVBAAAAACD/BUEAAAAAaGkGQQAAAACg0wZBAAAAAOA9B0EAAAAAIKgHQQAAAAB4EghBAAAAAKh8CEEAAAAAAOcIQQAAAABYUQlBAAAAAHi7CUEAAAAAwCUKQQAAAAD4jwpBAAAAAED6CkEAAAAAeGQLQQAAAAC4zgtBAAAAAPg4DEEAAAAAQKMMQQAAAABgDQ1BAAAAALh3DUEAAAAA6OENQQAAAAA4TA5BAAAAAGC2DkEAAAAAoCAPQQ==\"},\"shape\":[95],\"dtype\":\"float64\",\"order\":\"little\"}],[\"y\",{\"type\":\"ndarray\",\"array\":{\"type\":\"bytes\",\"data\":\"mpmZmZmZuT+amZmZmZm5P5qZmZmZmbk/mpmZmZmZuT+amZmZmZm5P5qZmZmZmbk/mpmZmZmZuT+amZmZmZm5P5qZmZmZmbk/mpmZmZmZuT+amZmZmZm5P5qZmZmZmbk/mpmZmZmZuT+amZmZmZm5P5qZmZmZmbk/mpmZmZmZuT+amZmZmZm5P5qZmZmZmbk/mpmZmZmZuT+amZmZmZm5v5qZmZmZmbm/mpmZmZmZub+amZmZmZm5v5qZmZmZmbm/mpmZmZmZub+amZmZmZm5v5qZmZmZmbm/mpmZmZmZub+amZmZmZm5v5qZmZmZmbm/mpmZmZmZub+amZmZmZm5v5qZmZmZmbm/mpmZmZmZub+amZmZmZm5v5qZmZmZmbm/mpmZmZmZub+amZmZmZm5v5qZmZmZmbm/mpmZmZmZub+amZmZmZm5v5qZmZmZmbm/mpmZmZmZub+amZmZmZm5v5qZmZmZmbk/mpmZmZmZuT+amZmZmZm5P5qZmZmZmbk/mpmZmZmZuT+amZmZmZm5P5qZmZmZmbk/mpmZmZmZuT+amZmZmZm5P5qZmZmZmbk/mpmZmZmZuT+amZmZmZm5P5qZmZmZmbk/mpmZmZmZuT+amZmZmZm5P5qZmZmZmbk/mpmZmZmZuT+amZmZmZm5P5qZmZmZmbk/mpmZmZmZuT+amZmZmZm5P5qZmZmZmbk/mpmZmZmZuT+amZmZmZm5P5qZmZmZmbk/mpmZmZmZub+amZmZmZm5v5qZmZmZmbm/mpmZmZmZub+amZmZmZm5v5qZmZmZmbm/mpmZmZmZub+amZmZmZm5v5qZmZmZmbm/mpmZmZmZub+amZmZmZm5v5qZmZmZmbm/mpmZmZmZub+amZmZmZm5v5qZmZmZmbm/mpmZmZmZub+amZmZmZm5v5qZmZmZmbm/mpmZmZmZub+amZmZmZm5v5qZmZmZmbm/mpmZmZmZub+amZmZmZm5v5qZmZmZmbm/mpmZmZmZub+amZmZmZm5Pw==\"},\"shape\":[95],\"dtype\":\"float64\",\"order\":\"little\"}]]}}},\"view\":{\"type\":\"object\",\"name\":\"CDSView\",\"id\":\"p203818\",\"attributes\":{\"filter\":{\"type\":\"object\",\"name\":\"AllIndices\",\"id\":\"p203819\"}}},\"glyph\":{\"type\":\"object\",\"name\":\"Step\",\"id\":\"p203814\",\"attributes\":{\"x\":{\"type\":\"field\",\"field\":\"x\"},\"y\":{\"type\":\"field\",\"field\":\"y\"},\"line_dash\":[2,4],\"mode\":\"after\"}},\"nonselection_glyph\":{\"type\":\"object\",\"name\":\"Step\",\"id\":\"p203815\",\"attributes\":{\"x\":{\"type\":\"field\",\"field\":\"x\"},\"y\":{\"type\":\"field\",\"field\":\"y\"},\"line_alpha\":0.1,\"line_dash\":[2,4],\"mode\":\"after\"}},\"muted_glyph\":{\"type\":\"object\",\"name\":\"Step\",\"id\":\"p203816\",\"attributes\":{\"x\":{\"type\":\"field\",\"field\":\"x\"},\"y\":{\"type\":\"field\",\"field\":\"y\"},\"line_alpha\":0.2,\"line_dash\":[2,4],\"mode\":\"after\"}}}},{\"type\":\"object\",\"name\":\"GlyphRenderer\",\"id\":\"p203826\",\"attributes\":{\"data_source\":{\"type\":\"object\",\"name\":\"ColumnDataSource\",\"id\":\"p203820\",\"attributes\":{\"selected\":{\"type\":\"object\",\"name\":\"Selection\",\"id\":\"p203822\",\"attributes\":{\"indices\":[],\"line_indices\":[]}},\"selection_policy\":{\"type\":\"object\",\"name\":\"UnionRenderers\",\"id\":\"p203821\"},\"data\":{\"type\":\"map\",\"entries\":[[\"x\",{\"type\":\"ndarray\",\"array\":{\"type\":\"bytes\",\"data\":\"AAAAAOCK78AAAAAA4OHtwAAAAACAOOzAAAAAAACQ6sAAAAAAAOfowAAAAADAPefAAAAAAACV5cAAAAAAAOzjwAAAAADAQuLAAAAAAKCZ4MAAAAAAAOHdwAAAAAAAkNrAAAAAAAA+18AAAAAAwOvTwAAAAAAAmtDAAAAAAACNysAAAAAAAOzDwAAAAAAAjbrAAAAAAACQqsAAAAAAAAAAAAAAAAAAkqpAAAAAAACSukAAAAAAAOzDQAAAAACAkcpAAAAAAACa0EAAAAAAQOzTQAAAAAAAPtdAAAAAAMCQ2kAAAAAAAOLdQAAAAABgmuBAAAAAAABD4kAAAAAAYOzjQAAAAAAgleVAAAAAAAA+50AAAAAAAOfoQAAAAABgkOpAAAAAACA57EAAAAAAYOLtQAAAAACAi+9AAAAAAACa8EAAAAAAoG7xQAAAAABAQ/JAAAAAAKAX80AAAAAAMOzzQAAAAACgwPRAAAAAAACV9UAAAAAAgGn2QAAAAABAPvdAAAAAAMAS+EAAAAAAIOf4QAAAAACAu/lAAAAAAACQ+kAAAAAAwGT7QAAAAAAwOfxAAAAAAMAN/UAAAAAAAOL9QAAAAACAtv5AAAAAADCL/0AAAAAAwC8AQQAAAAAQmgBBAAAAAEAEAUEAAAAAmG4BQQAAAADA2AFBAAAAACBDAkEAAAAAQK0CQQAAAACQFwNBAAAAAPiBA0EAAAAAAOwDQQAAAABIVgRBAAAAAKDABEEAAAAA0CoFQQAAAAAYlQVBAAAAAED/BUEAAAAAkGkGQQAAAADg0wZBAAAAABA+B0EAAAAAQKgHQQAAAACIEghBAAAAAOB8CEEAAAAAAOcIQQAAAABQUQlBAAAAAKC7CUEAAAAA0CUKQQAAAAAYkApBAAAAAED6CkEAAAAAmGQLQQAAAADAzgtBAAAAADA5DEEAAAAASKMMQQAAAACYDQ1BAAAAAMB3DUEAAAAAGOINQQAAAABATA5BAAAAAIi2DkEAAAAAyCAPQQ==\"},\"shape\":[95],\"dtype\":\"float64\",\"order\":\"little\"}],[\"y\",{\"type\":\"ndarray\",\"array\":{\"type\":\"bytes\",\"data\":\"I9xkVBnGsT9eDybFxye0P2WlSSno9rI/ZaVJKej2sj+h2Aqalli1P2WlSSno9rI/Xg8mxccntD9lpUkp6PayP6HYCpqWWLU/odgKmpZYtT9lpUkp6PayP14PJsXHJ7Q/I9xkVBnGsT8j3GRUGcaxP2WlSSno9rI/odgKmpZYtT+h2Aqalli1P6HYCpqWWLU/odgKmpZYtT9eDybFxye0P919jo8WZ6w/pRDIJY48YD/Lgok/ijqjvzS9xFimX6q/qyNHOgMjr78RxeQNMPOxv6sjRzoDI6+/EcXkDTDzsb9Ujsni/iOzv034pX7eVLS/GFsIclDCsL+QwYpTrYW1v1SOyeL+I7O/VI7J4v4js79Ujsni/iOzv034pX7eVLS/kMGKU62Ftb9Qw7ewbryzv1SOyeL+I7O/kMGKU62Ftb+QwYpTrYW1v4grZ++Mtra/iCtn74y2tr+IK2fvjLa2v034pX7eVLS/NL3EWKZfqr82d/S/XIs2v2kewCK/fqA/V+vE5XgFqj8qcoi4OZWwPyPcZFQZxrE/I9xkVBnGsT8j3GRUGcaxP2WlSSno9rI/Xg8mxccntD8j3GRUGcaxP14PJsXHJ7Q/odgKmpZYtT9i2jf3V4+zP2WlSSno9rI/I9xkVBnGsT8j3GRUGcaxP6HYCpqWWLU/Xg8mxccntD+h2Aqalli1P5pC5zV2ibY/ZaVJKej2sj9eDybFxye0P14PJsXHJ7Q/mkLnNXaJtj9X68TleAWqPxlYx/FDpXE/2q7QB8vYoL80vcRYpl+qv7K5ap4j8q2/VI7J4v4js78RxeQNMPOxv1SOyeL+I7O/EcXkDTDzsb9Ujsni/iOzv034pX7eVLS/GFsIclDCsL9N+KV+3lS0v034pX7eVLS/kMGKU62Ftb9N+KV+3lS0v034pX7eVLS/WFnbFI+Lsr9N+KV+3lS0v5OMnIU97bS/kMGKU62Ftb+QwYpTrYW1v4grZ++Mtra/kMGKU62Ftb+IK2fvjLa2vw==\"},\"shape\":[95],\"dtype\":\"float64\",\"order\":\"little\"}]]}}},\"view\":{\"type\":\"object\",\"name\":\"CDSView\",\"id\":\"p203827\",\"attributes\":{\"filter\":{\"type\":\"object\",\"name\":\"AllIndices\",\"id\":\"p203828\"}}},\"glyph\":{\"type\":\"object\",\"name\":\"Step\",\"id\":\"p203823\",\"attributes\":{\"x\":{\"type\":\"field\",\"field\":\"x\"},\"y\":{\"type\":\"field\",\"field\":\"y\"},\"line_color\":\"#1f77b4\",\"mode\":\"after\"}},\"nonselection_glyph\":{\"type\":\"object\",\"name\":\"Step\",\"id\":\"p203824\",\"attributes\":{\"x\":{\"type\":\"field\",\"field\":\"x\"},\"y\":{\"type\":\"field\",\"field\":\"y\"},\"line_color\":\"#1f77b4\",\"line_alpha\":0.1,\"mode\":\"after\"}},\"muted_glyph\":{\"type\":\"object\",\"name\":\"Step\",\"id\":\"p203825\",\"attributes\":{\"x\":{\"type\":\"field\",\"field\":\"x\"},\"y\":{\"type\":\"field\",\"field\":\"y\"},\"line_color\":\"#1f77b4\",\"line_alpha\":0.2,\"mode\":\"after\"}}}},{\"type\":\"object\",\"name\":\"GlyphRenderer\",\"id\":\"p203835\",\"attributes\":{\"data_source\":{\"type\":\"object\",\"name\":\"ColumnDataSource\",\"id\":\"p203829\",\"attributes\":{\"selected\":{\"type\":\"object\",\"name\":\"Selection\",\"id\":\"p203831\",\"attributes\":{\"indices\":[],\"line_indices\":[]}},\"selection_policy\":{\"type\":\"object\",\"name\":\"UnionRenderers\",\"id\":\"p203830\"},\"data\":{\"type\":\"map\",\"entries\":[[\"x\",{\"type\":\"ndarray\",\"array\":{\"type\":\"bytes\",\"data\":\"AAAAAOCK78AAAAAA4OHtwAAAAACAOOzAAAAAAACQ6sAAAAAAAOfowAAAAADAPefAAAAAAACV5cAAAAAAAOzjwAAAAADAQuLAAAAAAKCZ4MAAAAAAAOHdwAAAAAAAkNrAAAAAAAA+18AAAAAAwOvTwAAAAAAAmtDAAAAAAACNysAAAAAAAOzDwAAAAAAAjbrAAAAAAACQqsAAAAAAAAAAAAAAAAAAkqpAAAAAAACSukAAAAAAAOzDQAAAAACAkcpAAAAAAACa0EAAAAAAQOzTQAAAAAAAPtdAAAAAAMCQ2kAAAAAAAOLdQAAAAABgmuBAAAAAAABD4kAAAAAAYOzjQAAAAAAgleVAAAAAAAA+50AAAAAAAOfoQAAAAABgkOpAAAAAACA57EAAAAAAYOLtQAAAAACAi+9AAAAAAACa8EAAAAAAoG7xQAAAAABAQ/JAAAAAAKAX80AAAAAAMOzzQAAAAACgwPRAAAAAAACV9UAAAAAAgGn2QAAAAABAPvdAAAAAAMAS+EAAAAAAIOf4QAAAAACAu/lAAAAAAACQ+kAAAAAAwGT7QAAAAAAwOfxAAAAAAMAN/UAAAAAAAOL9QAAAAACAtv5AAAAAADCL/0AAAAAAwC8AQQAAAAAQmgBBAAAAAEAEAUEAAAAAmG4BQQAAAADA2AFBAAAAACBDAkEAAAAAQK0CQQAAAACQFwNBAAAAAPiBA0EAAAAAAOwDQQAAAABIVgRBAAAAAKDABEEAAAAA0CoFQQAAAAAYlQVBAAAAAED/BUEAAAAAkGkGQQAAAADg0wZBAAAAABA+B0EAAAAAQKgHQQAAAACIEghBAAAAAOB8CEEAAAAAAOcIQQAAAABQUQlBAAAAAKC7CUEAAAAA0CUKQQAAAAAYkApBAAAAAED6CkEAAAAAmGQLQQAAAADAzgtBAAAAADA5DEEAAAAASKMMQQAAAACYDQ1BAAAAAMB3DUEAAAAAGOINQQAAAABATA5BAAAAAIi2DkEAAAAAyCAPQQ==\"},\"shape\":[95],\"dtype\":\"float64\",\"order\":\"little\"}],[\"y\",{\"type\":\"ndarray\",\"array\":{\"type\":\"bytes\",\"data\":\"I9xkVBnGsT9eDybFxye0P2WlSSno9rI/ZaVJKej2sj+h2Aqalli1P2WlSSno9rI/Xg8mxccntD9lpUkp6PayP6HYCpqWWLU/odgKmpZYtT9lpUkp6PayP14PJsXHJ7Q/I9xkVBnGsT8j3GRUGcaxP2WlSSno9rI/odgKmpZYtT+h2Aqalli1P6HYCpqWWLU/odgKmpZYtT9eDybFxye0P919jo8WZ6w/pRDIJY48YD/Lgok/ijqjvzS9xFimX6q/qyNHOgMjr78RxeQNMPOxv6sjRzoDI6+/EcXkDTDzsb9Ujsni/iOzv034pX7eVLS/GFsIclDCsL+QwYpTrYW1v1SOyeL+I7O/VI7J4v4js79Ujsni/iOzv034pX7eVLS/kMGKU62Ftb9Qw7ewbryzv1SOyeL+I7O/kMGKU62Ftb+QwYpTrYW1v4grZ++Mtra/iCtn74y2tr+IK2fvjLa2v034pX7eVLS/NL3EWKZfqr82d/S/XIs2v2kewCK/fqA/V+vE5XgFqj8qcoi4OZWwPyPcZFQZxrE/I9xkVBnGsT8j3GRUGcaxP2WlSSno9rI/Xg8mxccntD8j3GRUGcaxP14PJsXHJ7Q/odgKmpZYtT9i2jf3V4+zP2WlSSno9rI/I9xkVBnGsT8j3GRUGcaxP6HYCpqWWLU/Xg8mxccntD+h2Aqalli1P5pC5zV2ibY/ZaVJKej2sj9eDybFxye0P14PJsXHJ7Q/mkLnNXaJtj9X68TleAWqPxlYx/FDpXE/2q7QB8vYoL80vcRYpl+qv7K5ap4j8q2/VI7J4v4js78RxeQNMPOxv1SOyeL+I7O/EcXkDTDzsb9Ujsni/iOzv034pX7eVLS/GFsIclDCsL9N+KV+3lS0v034pX7eVLS/kMGKU62Ftb9N+KV+3lS0v034pX7eVLS/WFnbFI+Lsr9N+KV+3lS0v5OMnIU97bS/kMGKU62Ftb+QwYpTrYW1v4grZ++Mtra/kMGKU62Ftb+IK2fvjLa2vw==\"},\"shape\":[95],\"dtype\":\"float64\",\"order\":\"little\"}]]}}},\"view\":{\"type\":\"object\",\"name\":\"CDSView\",\"id\":\"p203836\",\"attributes\":{\"filter\":{\"type\":\"object\",\"name\":\"AllIndices\",\"id\":\"p203837\"}}},\"glyph\":{\"type\":\"object\",\"name\":\"Circle\",\"id\":\"p203832\",\"attributes\":{\"x\":{\"type\":\"field\",\"field\":\"x\"},\"y\":{\"type\":\"field\",\"field\":\"y\"},\"size\":{\"type\":\"value\",\"value\":2},\"line_color\":{\"type\":\"value\",\"value\":\"#1f77b4\"},\"fill_color\":{\"type\":\"value\",\"value\":\"#1f77b4\"}}},\"nonselection_glyph\":{\"type\":\"object\",\"name\":\"Circle\",\"id\":\"p203833\",\"attributes\":{\"x\":{\"type\":\"field\",\"field\":\"x\"},\"y\":{\"type\":\"field\",\"field\":\"y\"},\"size\":{\"type\":\"value\",\"value\":2},\"line_color\":{\"type\":\"value\",\"value\":\"#1f77b4\"},\"line_alpha\":{\"type\":\"value\",\"value\":0.1},\"fill_color\":{\"type\":\"value\",\"value\":\"#1f77b4\"},\"fill_alpha\":{\"type\":\"value\",\"value\":0.1},\"hatch_alpha\":{\"type\":\"value\",\"value\":0.1}}},\"muted_glyph\":{\"type\":\"object\",\"name\":\"Circle\",\"id\":\"p203834\",\"attributes\":{\"x\":{\"type\":\"field\",\"field\":\"x\"},\"y\":{\"type\":\"field\",\"field\":\"y\"},\"size\":{\"type\":\"value\",\"value\":2},\"line_color\":{\"type\":\"value\",\"value\":\"#1f77b4\"},\"line_alpha\":{\"type\":\"value\",\"value\":0.2},\"fill_color\":{\"type\":\"value\",\"value\":\"#1f77b4\"},\"fill_alpha\":{\"type\":\"value\",\"value\":0.2},\"hatch_alpha\":{\"type\":\"value\",\"value\":0.2}}}}},{\"type\":\"object\",\"name\":\"GlyphRenderer\",\"id\":\"p203844\",\"attributes\":{\"data_source\":{\"type\":\"object\",\"name\":\"ColumnDataSource\",\"id\":\"p203838\",\"attributes\":{\"selected\":{\"type\":\"object\",\"name\":\"Selection\",\"id\":\"p203840\",\"attributes\":{\"indices\":[],\"line_indices\":[]}},\"selection_policy\":{\"type\":\"object\",\"name\":\"UnionRenderers\",\"id\":\"p203839\"},\"data\":{\"type\":\"map\",\"entries\":[[\"x\",{\"type\":\"ndarray\",\"array\":{\"type\":\"bytes\",\"data\":\"AAAAAOCK78AAAAAA4OHtwAAAAACAOOzAAAAAAACQ6sAAAAAAAOfowAAAAADAPefAAAAAAACV5cAAAAAAAOzjwAAAAADAQuLAAAAAAKCZ4MAAAAAAAOHdwAAAAAAAkNrAAAAAAAA+18AAAAAAwOvTwAAAAAAAmtDAAAAAAACNysAAAAAAAOzDwAAAAAAAjbrAAAAAAACQqsAAAAAAAAAAAAAAAAAAkqpAAAAAAACSukAAAAAAAOzDQAAAAACAkcpAAAAAAACa0EAAAAAAQOzTQAAAAAAAPtdAAAAAAMCQ2kAAAAAAAOLdQAAAAABgmuBAAAAAAABD4kAAAAAAYOzjQAAAAAAgleVAAAAAAAA+50AAAAAAAOfoQAAAAABgkOpAAAAAACA57EAAAAAAYOLtQAAAAACAi+9AAAAAAACa8EAAAAAAoG7xQAAAAABAQ/JAAAAAAKAX80AAAAAAMOzzQAAAAACgwPRAAAAAAACV9UAAAAAAgGn2QAAAAABAPvdAAAAAAMAS+EAAAAAAIOf4QAAAAACAu/lAAAAAAACQ+kAAAAAAwGT7QAAAAAAwOfxAAAAAAMAN/UAAAAAAAOL9QAAAAACAtv5AAAAAADCL/0AAAAAAwC8AQQAAAAAQmgBBAAAAAEAEAUEAAAAAmG4BQQAAAADA2AFBAAAAACBDAkEAAAAAQK0CQQAAAACQFwNBAAAAAPiBA0EAAAAAAOwDQQAAAABIVgRBAAAAAKDABEEAAAAA0CoFQQAAAAAYlQVBAAAAAED/BUEAAAAAkGkGQQAAAADg0wZBAAAAABA+B0EAAAAAQKgHQQAAAACIEghBAAAAAOB8CEEAAAAAAOcIQQAAAABQUQlBAAAAAKC7CUEAAAAA0CUKQQAAAAAYkApBAAAAAED6CkEAAAAAmGQLQQAAAADAzgtBAAAAADA5DEEAAAAASKMMQQAAAACYDQ1BAAAAAMB3DUEAAAAAGOINQQAAAABATA5BAAAAAIi2DkEAAAAAyCAPQQ==\"},\"shape\":[95],\"dtype\":\"float64\",\"order\":\"little\"}],[\"y\",{\"type\":\"ndarray\",\"array\":{\"type\":\"bytes\",\"data\":\"mpmZmZmZuT+amZmZmZm5P5qZmZmZmbk/mpmZmZmZuT+amZmZmZm5P5qZmZmZmbk/mpmZmZmZuT+amZmZmZm5P5qZmZmZmbk/mpmZmZmZuT+amZmZmZm5P5qZmZmZmbk/mpmZmZmZuT+amZmZmZm5P5qZmZmZmbk/mpmZmZmZuT+amZmZmZm5P5qZmZmZmbk/mpmZmZmZuT+amZmZmZm5v5qZmZmZmbm/mpmZmZmZub+amZmZmZm5v5qZmZmZmbm/mpmZmZmZub+amZmZmZm5v5qZmZmZmbm/mpmZmZmZub+amZmZmZm5v5qZmZmZmbm/mpmZmZmZub+amZmZmZm5v5qZmZmZmbm/mpmZmZmZub+amZmZmZm5v5qZmZmZmbm/mpmZmZmZub+amZmZmZm5v5qZmZmZmbm/mpmZmZmZub+amZmZmZm5v5qZmZmZmbm/mpmZmZmZub+amZmZmZm5v5qZmZmZmbk/mpmZmZmZuT+amZmZmZm5P5qZmZmZmbk/mpmZmZmZuT+amZmZmZm5P5qZmZmZmbk/mpmZmZmZuT+amZmZmZm5P5qZmZmZmbk/mpmZmZmZuT+amZmZmZm5P5qZmZmZmbk/mpmZmZmZuT+amZmZmZm5P5qZmZmZmbk/mpmZmZmZuT+amZmZmZm5P5qZmZmZmbk/mpmZmZmZuT+amZmZmZm5P5qZmZmZmbk/mpmZmZmZuT+amZmZmZm5P5qZmZmZmbk/mpmZmZmZub+amZmZmZm5v5qZmZmZmbm/mpmZmZmZub+amZmZmZm5v5qZmZmZmbm/mpmZmZmZub+amZmZmZm5v5qZmZmZmbm/mpmZmZmZub+amZmZmZm5v5qZmZmZmbm/mpmZmZmZub+amZmZmZm5v5qZmZmZmbm/mpmZmZmZub+amZmZmZm5v5qZmZmZmbm/mpmZmZmZub+amZmZmZm5v5qZmZmZmbm/mpmZmZmZub+amZmZmZm5v5qZmZmZmbm/mpmZmZmZub+amZmZmZm5Pw==\"},\"shape\":[95],\"dtype\":\"float64\",\"order\":\"little\"}]]}}},\"view\":{\"type\":\"object\",\"name\":\"CDSView\",\"id\":\"p203845\",\"attributes\":{\"filter\":{\"type\":\"object\",\"name\":\"AllIndices\",\"id\":\"p203846\"}}},\"glyph\":{\"type\":\"object\",\"name\":\"Step\",\"id\":\"p203841\",\"attributes\":{\"x\":{\"type\":\"field\",\"field\":\"x\"},\"y\":{\"type\":\"field\",\"field\":\"y\"},\"line_dash\":[2,4],\"mode\":\"after\"}},\"nonselection_glyph\":{\"type\":\"object\",\"name\":\"Step\",\"id\":\"p203842\",\"attributes\":{\"x\":{\"type\":\"field\",\"field\":\"x\"},\"y\":{\"type\":\"field\",\"field\":\"y\"},\"line_alpha\":0.1,\"line_dash\":[2,4],\"mode\":\"after\"}},\"muted_glyph\":{\"type\":\"object\",\"name\":\"Step\",\"id\":\"p203843\",\"attributes\":{\"x\":{\"type\":\"field\",\"field\":\"x\"},\"y\":{\"type\":\"field\",\"field\":\"y\"},\"line_alpha\":0.2,\"line_dash\":[2,4],\"mode\":\"after\"}}}},{\"type\":\"object\",\"name\":\"GlyphRenderer\",\"id\":\"p203853\",\"attributes\":{\"data_source\":{\"type\":\"object\",\"name\":\"ColumnDataSource\",\"id\":\"p203847\",\"attributes\":{\"selected\":{\"type\":\"object\",\"name\":\"Selection\",\"id\":\"p203849\",\"attributes\":{\"indices\":[],\"line_indices\":[]}},\"selection_policy\":{\"type\":\"object\",\"name\":\"UnionRenderers\",\"id\":\"p203848\"},\"data\":{\"type\":\"map\",\"entries\":[[\"x\",{\"type\":\"ndarray\",\"array\":{\"type\":\"bytes\",\"data\":\"AAAAAECL78AAAAAAgOLtwAAAAACAOezAAAAAAECQ6sAAAAAAgOfowAAAAACAPufAAAAAAICV5cAAAAAAQOzjwAAAAACAQ+LAAAAAAACa4MAAAAAAAOLdwAAAAAAAkdrAAAAAAAA/18AAAAAAwOrTwAAAAACAmtDAAAAAAICRysAAAAAAAO7DwAAAAAAAlLrAAAAAAACQqsAAAAAAAAAAAAAAAAAAiKpAAAAAAACQukAAAAAAgOrDQAAAAACAj8pAAAAAAMCZ0EAAAAAAAOzTQAAAAADAPddAAAAAAACQ2kAAAAAAgOHdQAAAAADgmeBAAAAAAKBC4kAAAAAAgOvjQAAAAACAlOVAAAAAAIA950AAAAAAgOboQAAAAAAAkOpAAAAAAIA47EAAAAAAgOHtQAAAAADgiu9AAAAAAMCZ8EAAAAAAQG7xQAAAAADgQvJAAAAAAFAX80AAAAAA0OvzQAAAAABAwPRAAAAAAMCU9UAAAAAAQGn2QAAAAADgPfdAAAAAAEAS+EAAAAAAwOb4QAAAAACQu/lAAAAAAMCP+kAAAAAAcGT7QAAAAADQOPxAAAAAAEAN/UAAAAAA0OH9QAAAAABQtv5AAAAAABCL/0AAAAAAoC8AQQAAAADwmQBBAAAAADgEAUEAAAAAaG4BQQAAAACg2AFBAAAAAABDAkEAAAAAOK0CQQAAAACAFwNBAAAAALCBA0EAAAAA6OsDQQAAAAAgVgRBAAAAAGDABEEAAAAAoCoFQQAAAADolAVBAAAAACD/BUEAAAAAYGkGQQAAAACg0wZBAAAAAOA9B0EAAAAAIKgHQQAAAABgEghBAAAAAKB8CEEAAAAA4OYIQQAAAAAgUQlBAAAAAGC7CUEAAAAAoCUKQQAAAADgjwpBAAAAACD6CkEAAAAAmGULQQAAAACgzgtBAAAAAOA4DEEAAAAAIKMMQQAAAABgDQ1BAAAAAKh3DUEAAAAA4OENQQAAAAAgTA5BAAAAAGC2DkEAAAAAoCAPQQ==\"},\"shape\":[95],\"dtype\":\"float64\",\"order\":\"little\"}],[\"y\",{\"type\":\"ndarray\",\"array\":{\"type\":\"bytes\",\"data\":\"I9xkVBnGsT9eDybFxye0P2WlSSno9rI/odgKmpZYtT+h2Aqalli1P6WjHMwmwLQ/ZaVJKej2sj/OUUfH1ciuP14PJsXHJ7Q/ZaVJKej2sj9eDybFxye0P14PJsXHJ7Q/odgKmpZYtT9lpUkp6PayP6HYCpqWWLU/I9xkVBnGsT9eDybFxye0P6HYCpqWWLU/mkLnNXaJtj/dC8wKRbq3P1frxOV4Bao/odtLGqN1dL+oOA68Wu6cv0LpCyHn/ae/EcXkDTDzsb8RxeQNMPOxv1SOyeL+I7O/VI7J4v4js79N+KV+3lS0vxhbCHJQwrC/GFsIclDCsL9Ujsni/iOzv1SOyeL+I7O/VI7J4v4js78RxeQNMPOxv034pX7eVLS/EcXkDTDzsb9N+KV+3lS0v4grZ++Mtra/kMGKU62Ftb+QwYpTrYW1v034pX7eVLS/kMGKU62Ftb9N+KV+3lS0v4grZ++Mtra/kMGKU62Ftb+5T44CRMGsv6HbSxqjdXS/7rCJzFzgoj/dfY6PFmesPyPcZFQZxrE/KnKIuDmVsD8j3GRUGcaxPyPcZFQZxrE/ZaVJKej2sj9lpUkp6PayPyPcZFQZxrE/odgKmpZYtT9eDybFxye0P2WlSSno9rI/Xg8mxccntD9lpUkp6PayP2WlSSno9rI/ZaVJKej2sj+h2Aqalli1P6HYCpqWWLU/mkLnNXaJtj9eDybFxye0P2WlSSno9rI/odgKmpZYtT+aQuc1dom2P1frxOV4Bao/GVjH8UOlcT+oOA68Wu6cv6sjRzoDI6+/EcXkDTDzsb8RxeQNMPOxvxHF5A0w87G/EcXkDTDzsb8RxeQNMPOxv034pX7eVLS/EcXkDTDzsb9N+KV+3lS0vxHF5A0w87G/VI7J4v4js7+QwYpTrYW1v034pX7eVLS/kMGKU62Ftb9N+KV+3lS0v034pX7eVLS/Tfilft5UtL9N+KV+3lS0v8v0S8Rb57e/kMGKU62Ftb9N+KV+3lS0vw==\"},\"shape\":[95],\"dtype\":\"float64\",\"order\":\"little\"}]]}}},\"view\":{\"type\":\"object\",\"name\":\"CDSView\",\"id\":\"p203854\",\"attributes\":{\"filter\":{\"type\":\"object\",\"name\":\"AllIndices\",\"id\":\"p203855\"}}},\"glyph\":{\"type\":\"object\",\"name\":\"Step\",\"id\":\"p203850\",\"attributes\":{\"x\":{\"type\":\"field\",\"field\":\"x\"},\"y\":{\"type\":\"field\",\"field\":\"y\"},\"line_color\":\"#1f77b4\",\"mode\":\"after\"}},\"nonselection_glyph\":{\"type\":\"object\",\"name\":\"Step\",\"id\":\"p203851\",\"attributes\":{\"x\":{\"type\":\"field\",\"field\":\"x\"},\"y\":{\"type\":\"field\",\"field\":\"y\"},\"line_color\":\"#1f77b4\",\"line_alpha\":0.1,\"mode\":\"after\"}},\"muted_glyph\":{\"type\":\"object\",\"name\":\"Step\",\"id\":\"p203852\",\"attributes\":{\"x\":{\"type\":\"field\",\"field\":\"x\"},\"y\":{\"type\":\"field\",\"field\":\"y\"},\"line_color\":\"#1f77b4\",\"line_alpha\":0.2,\"mode\":\"after\"}}}},{\"type\":\"object\",\"name\":\"GlyphRenderer\",\"id\":\"p203862\",\"attributes\":{\"data_source\":{\"type\":\"object\",\"name\":\"ColumnDataSource\",\"id\":\"p203856\",\"attributes\":{\"selected\":{\"type\":\"object\",\"name\":\"Selection\",\"id\":\"p203858\",\"attributes\":{\"indices\":[],\"line_indices\":[]}},\"selection_policy\":{\"type\":\"object\",\"name\":\"UnionRenderers\",\"id\":\"p203857\"},\"data\":{\"type\":\"map\",\"entries\":[[\"x\",{\"type\":\"ndarray\",\"array\":{\"type\":\"bytes\",\"data\":\"AAAAAECL78AAAAAAgOLtwAAAAACAOezAAAAAAECQ6sAAAAAAgOfowAAAAACAPufAAAAAAICV5cAAAAAAQOzjwAAAAACAQ+LAAAAAAACa4MAAAAAAAOLdwAAAAAAAkdrAAAAAAAA/18AAAAAAwOrTwAAAAACAmtDAAAAAAICRysAAAAAAAO7DwAAAAAAAlLrAAAAAAACQqsAAAAAAAAAAAAAAAAAAiKpAAAAAAACQukAAAAAAgOrDQAAAAACAj8pAAAAAAMCZ0EAAAAAAAOzTQAAAAADAPddAAAAAAACQ2kAAAAAAgOHdQAAAAADgmeBAAAAAAKBC4kAAAAAAgOvjQAAAAACAlOVAAAAAAIA950AAAAAAgOboQAAAAAAAkOpAAAAAAIA47EAAAAAAgOHtQAAAAADgiu9AAAAAAMCZ8EAAAAAAQG7xQAAAAADgQvJAAAAAAFAX80AAAAAA0OvzQAAAAABAwPRAAAAAAMCU9UAAAAAAQGn2QAAAAADgPfdAAAAAAEAS+EAAAAAAwOb4QAAAAACQu/lAAAAAAMCP+kAAAAAAcGT7QAAAAADQOPxAAAAAAEAN/UAAAAAA0OH9QAAAAABQtv5AAAAAABCL/0AAAAAAoC8AQQAAAADwmQBBAAAAADgEAUEAAAAAaG4BQQAAAACg2AFBAAAAAABDAkEAAAAAOK0CQQAAAACAFwNBAAAAALCBA0EAAAAA6OsDQQAAAAAgVgRBAAAAAGDABEEAAAAAoCoFQQAAAADolAVBAAAAACD/BUEAAAAAYGkGQQAAAACg0wZBAAAAAOA9B0EAAAAAIKgHQQAAAABgEghBAAAAAKB8CEEAAAAA4OYIQQAAAAAgUQlBAAAAAGC7CUEAAAAAoCUKQQAAAADgjwpBAAAAACD6CkEAAAAAmGULQQAAAACgzgtBAAAAAOA4DEEAAAAAIKMMQQAAAABgDQ1BAAAAAKh3DUEAAAAA4OENQQAAAAAgTA5BAAAAAGC2DkEAAAAAoCAPQQ==\"},\"shape\":[95],\"dtype\":\"float64\",\"order\":\"little\"}],[\"y\",{\"type\":\"ndarray\",\"array\":{\"type\":\"bytes\",\"data\":\"I9xkVBnGsT9eDybFxye0P2WlSSno9rI/odgKmpZYtT+h2Aqalli1P6WjHMwmwLQ/ZaVJKej2sj/OUUfH1ciuP14PJsXHJ7Q/ZaVJKej2sj9eDybFxye0P14PJsXHJ7Q/odgKmpZYtT9lpUkp6PayP6HYCpqWWLU/I9xkVBnGsT9eDybFxye0P6HYCpqWWLU/mkLnNXaJtj/dC8wKRbq3P1frxOV4Bao/odtLGqN1dL+oOA68Wu6cv0LpCyHn/ae/EcXkDTDzsb8RxeQNMPOxv1SOyeL+I7O/VI7J4v4js79N+KV+3lS0vxhbCHJQwrC/GFsIclDCsL9Ujsni/iOzv1SOyeL+I7O/VI7J4v4js78RxeQNMPOxv034pX7eVLS/EcXkDTDzsb9N+KV+3lS0v4grZ++Mtra/kMGKU62Ftb+QwYpTrYW1v034pX7eVLS/kMGKU62Ftb9N+KV+3lS0v4grZ++Mtra/kMGKU62Ftb+5T44CRMGsv6HbSxqjdXS/7rCJzFzgoj/dfY6PFmesPyPcZFQZxrE/KnKIuDmVsD8j3GRUGcaxPyPcZFQZxrE/ZaVJKej2sj9lpUkp6PayPyPcZFQZxrE/odgKmpZYtT9eDybFxye0P2WlSSno9rI/Xg8mxccntD9lpUkp6PayP2WlSSno9rI/ZaVJKej2sj+h2Aqalli1P6HYCpqWWLU/mkLnNXaJtj9eDybFxye0P2WlSSno9rI/odgKmpZYtT+aQuc1dom2P1frxOV4Bao/GVjH8UOlcT+oOA68Wu6cv6sjRzoDI6+/EcXkDTDzsb8RxeQNMPOxvxHF5A0w87G/EcXkDTDzsb8RxeQNMPOxv034pX7eVLS/EcXkDTDzsb9N+KV+3lS0vxHF5A0w87G/VI7J4v4js7+QwYpTrYW1v034pX7eVLS/kMGKU62Ftb9N+KV+3lS0v034pX7eVLS/Tfilft5UtL9N+KV+3lS0v8v0S8Rb57e/kMGKU62Ftb9N+KV+3lS0vw==\"},\"shape\":[95],\"dtype\":\"float64\",\"order\":\"little\"}]]}}},\"view\":{\"type\":\"object\",\"name\":\"CDSView\",\"id\":\"p203863\",\"attributes\":{\"filter\":{\"type\":\"object\",\"name\":\"AllIndices\",\"id\":\"p203864\"}}},\"glyph\":{\"type\":\"object\",\"name\":\"Circle\",\"id\":\"p203859\",\"attributes\":{\"x\":{\"type\":\"field\",\"field\":\"x\"},\"y\":{\"type\":\"field\",\"field\":\"y\"},\"size\":{\"type\":\"value\",\"value\":2},\"line_color\":{\"type\":\"value\",\"value\":\"#1f77b4\"},\"fill_color\":{\"type\":\"value\",\"value\":\"#1f77b4\"}}},\"nonselection_glyph\":{\"type\":\"object\",\"name\":\"Circle\",\"id\":\"p203860\",\"attributes\":{\"x\":{\"type\":\"field\",\"field\":\"x\"},\"y\":{\"type\":\"field\",\"field\":\"y\"},\"size\":{\"type\":\"value\",\"value\":2},\"line_color\":{\"type\":\"value\",\"value\":\"#1f77b4\"},\"line_alpha\":{\"type\":\"value\",\"value\":0.1},\"fill_color\":{\"type\":\"value\",\"value\":\"#1f77b4\"},\"fill_alpha\":{\"type\":\"value\",\"value\":0.1},\"hatch_alpha\":{\"type\":\"value\",\"value\":0.1}}},\"muted_glyph\":{\"type\":\"object\",\"name\":\"Circle\",\"id\":\"p203861\",\"attributes\":{\"x\":{\"type\":\"field\",\"field\":\"x\"},\"y\":{\"type\":\"field\",\"field\":\"y\"},\"size\":{\"type\":\"value\",\"value\":2},\"line_color\":{\"type\":\"value\",\"value\":\"#1f77b4\"},\"line_alpha\":{\"type\":\"value\",\"value\":0.2},\"fill_color\":{\"type\":\"value\",\"value\":\"#1f77b4\"},\"fill_alpha\":{\"type\":\"value\",\"value\":0.2},\"hatch_alpha\":{\"type\":\"value\",\"value\":0.2}}}}},{\"type\":\"object\",\"name\":\"GlyphRenderer\",\"id\":\"p203871\",\"attributes\":{\"data_source\":{\"type\":\"object\",\"name\":\"ColumnDataSource\",\"id\":\"p203865\",\"attributes\":{\"selected\":{\"type\":\"object\",\"name\":\"Selection\",\"id\":\"p203867\",\"attributes\":{\"indices\":[],\"line_indices\":[]}},\"selection_policy\":{\"type\":\"object\",\"name\":\"UnionRenderers\",\"id\":\"p203866\"},\"data\":{\"type\":\"map\",\"entries\":[[\"x\",{\"type\":\"ndarray\",\"array\":{\"type\":\"bytes\",\"data\":\"AAAAAECL78AAAAAAgOLtwAAAAACAOezAAAAAAECQ6sAAAAAAgOfowAAAAACAPufAAAAAAICV5cAAAAAAQOzjwAAAAACAQ+LAAAAAAACa4MAAAAAAAOLdwAAAAAAAkdrAAAAAAAA/18AAAAAAwOrTwAAAAACAmtDAAAAAAICRysAAAAAAAO7DwAAAAAAAlLrAAAAAAACQqsAAAAAAAAAAAAAAAAAAiKpAAAAAAACQukAAAAAAgOrDQAAAAACAj8pAAAAAAMCZ0EAAAAAAAOzTQAAAAADAPddAAAAAAACQ2kAAAAAAgOHdQAAAAADgmeBAAAAAAKBC4kAAAAAAgOvjQAAAAACAlOVAAAAAAIA950AAAAAAgOboQAAAAAAAkOpAAAAAAIA47EAAAAAAgOHtQAAAAADgiu9AAAAAAMCZ8EAAAAAAQG7xQAAAAADgQvJAAAAAAFAX80AAAAAA0OvzQAAAAABAwPRAAAAAAMCU9UAAAAAAQGn2QAAAAADgPfdAAAAAAEAS+EAAAAAAwOb4QAAAAACQu/lAAAAAAMCP+kAAAAAAcGT7QAAAAADQOPxAAAAAAEAN/UAAAAAA0OH9QAAAAABQtv5AAAAAABCL/0AAAAAAoC8AQQAAAADwmQBBAAAAADgEAUEAAAAAaG4BQQAAAACg2AFBAAAAAABDAkEAAAAAOK0CQQAAAACAFwNBAAAAALCBA0EAAAAA6OsDQQAAAAAgVgRBAAAAAGDABEEAAAAAoCoFQQAAAADolAVBAAAAACD/BUEAAAAAYGkGQQAAAACg0wZBAAAAAOA9B0EAAAAAIKgHQQAAAABgEghBAAAAAKB8CEEAAAAA4OYIQQAAAAAgUQlBAAAAAGC7CUEAAAAAoCUKQQAAAADgjwpBAAAAACD6CkEAAAAAmGULQQAAAACgzgtBAAAAAOA4DEEAAAAAIKMMQQAAAABgDQ1BAAAAAKh3DUEAAAAA4OENQQAAAAAgTA5BAAAAAGC2DkEAAAAAoCAPQQ==\"},\"shape\":[95],\"dtype\":\"float64\",\"order\":\"little\"}],[\"y\",{\"type\":\"ndarray\",\"array\":{\"type\":\"bytes\",\"data\":\"mpmZmZmZuT+amZmZmZm5P5qZmZmZmbk/mpmZmZmZuT+amZmZmZm5P5qZmZmZmbk/mpmZmZmZuT+amZmZmZm5P5qZmZmZmbk/mpmZmZmZuT+amZmZmZm5P5qZmZmZmbk/mpmZmZmZuT+amZmZmZm5P5qZmZmZmbk/mpmZmZmZuT+amZmZmZm5P5qZmZmZmbk/mpmZmZmZuT+amZmZmZm5v5qZmZmZmbm/mpmZmZmZub+amZmZmZm5v5qZmZmZmbm/mpmZmZmZub+amZmZmZm5v5qZmZmZmbm/mpmZmZmZub+amZmZmZm5v5qZmZmZmbm/mpmZmZmZub+amZmZmZm5v5qZmZmZmbm/mpmZmZmZub+amZmZmZm5v5qZmZmZmbm/mpmZmZmZub+amZmZmZm5v5qZmZmZmbm/mpmZmZmZub+amZmZmZm5v5qZmZmZmbm/mpmZmZmZub+amZmZmZm5v5qZmZmZmbm/mpmZmZmZuT+amZmZmZm5P5qZmZmZmbk/mpmZmZmZuT+amZmZmZm5P5qZmZmZmbk/mpmZmZmZuT+amZmZmZm5P5qZmZmZmbk/mpmZmZmZuT+amZmZmZm5P5qZmZmZmbk/mpmZmZmZuT+amZmZmZm5P5qZmZmZmbk/mpmZmZmZuT+amZmZmZm5P5qZmZmZmbk/mpmZmZmZuT+amZmZmZm5P5qZmZmZmbk/mpmZmZmZuT+amZmZmZm5P5qZmZmZmbk/mpmZmZmZuT+amZmZmZm5v5qZmZmZmbm/mpmZmZmZub+amZmZmZm5v5qZmZmZmbm/mpmZmZmZub+amZmZmZm5v5qZmZmZmbm/mpmZmZmZub+amZmZmZm5v5qZmZmZmbm/mpmZmZmZub+amZmZmZm5v5qZmZmZmbm/mpmZmZmZub+amZmZmZm5v5qZmZmZmbm/mpmZmZmZub+amZmZmZm5v5qZmZmZmbm/mpmZmZmZub+amZmZmZm5v5qZmZmZmbm/mpmZmZmZub+amZmZmZm5vw==\"},\"shape\":[95],\"dtype\":\"float64\",\"order\":\"little\"}]]}}},\"view\":{\"type\":\"object\",\"name\":\"CDSView\",\"id\":\"p203872\",\"attributes\":{\"filter\":{\"type\":\"object\",\"name\":\"AllIndices\",\"id\":\"p203873\"}}},\"glyph\":{\"type\":\"object\",\"name\":\"Step\",\"id\":\"p203868\",\"attributes\":{\"x\":{\"type\":\"field\",\"field\":\"x\"},\"y\":{\"type\":\"field\",\"field\":\"y\"},\"line_dash\":[2,4],\"mode\":\"after\"}},\"nonselection_glyph\":{\"type\":\"object\",\"name\":\"Step\",\"id\":\"p203869\",\"attributes\":{\"x\":{\"type\":\"field\",\"field\":\"x\"},\"y\":{\"type\":\"field\",\"field\":\"y\"},\"line_alpha\":0.1,\"line_dash\":[2,4],\"mode\":\"after\"}},\"muted_glyph\":{\"type\":\"object\",\"name\":\"Step\",\"id\":\"p203870\",\"attributes\":{\"x\":{\"type\":\"field\",\"field\":\"x\"},\"y\":{\"type\":\"field\",\"field\":\"y\"},\"line_alpha\":0.2,\"line_dash\":[2,4],\"mode\":\"after\"}}}},{\"type\":\"object\",\"name\":\"GlyphRenderer\",\"id\":\"p203880\",\"attributes\":{\"data_source\":{\"type\":\"object\",\"name\":\"ColumnDataSource\",\"id\":\"p203874\",\"attributes\":{\"selected\":{\"type\":\"object\",\"name\":\"Selection\",\"id\":\"p203876\",\"attributes\":{\"indices\":[],\"line_indices\":[]}},\"selection_policy\":{\"type\":\"object\",\"name\":\"UnionRenderers\",\"id\":\"p203875\"},\"data\":{\"type\":\"map\",\"entries\":[[\"x\",{\"type\":\"ndarray\",\"array\":{\"type\":\"bytes\",\"data\":\"AAAAAPCZ8MAAAAAAAIvvwAAAAAAg4e3AAAAAAAA57MAAAAAAwI/qwAAAAADg5ujAAAAAAMA958AAAAAA4JTlwAAAAAAA7OPAAAAAAABD4sAAAAAAgJngwAAAAAAA4d3AAAAAAMCP2sAAAAAAQD3XwAAAAADA69PAAAAAAACZ0MAAAAAAAJDKwAAAAAAA7MPAAAAAAACQusAAAAAAAI6qwAAAAAAAAAAAAAAAAACYqkAAAAAAAJC6QAAAAACA7MNAAAAAAACQykAAAAAAAJvQQAAAAABA7NNAAAAAAAA+10AAAAAAAJDaQAAAAAAA4t1AAAAAACCa4EAAAAAAgEPiQAAAAAAA7ONAAAAAAICV5UAAAAAAQD7nQAAAAABA5+hAAAAAAECQ6kAAAAAAADnsQAAAAAAA4u1AAAAAAECL70AAAAAAEJrwQAAAAACAbvFAAAAAAABD8kAAAAAAoBfzQAAAAAAQ7PNAAAAAAIDA9EAAAAAAAJX1QAAAAACgafZAAAAAAAA+90AAAAAAgBL4QAAAAABA5/hAAAAAAKC7+UAAAAAAAJD6QAAAAACQZPtAAAAAABA5/EAAAAAAoA39QAAAAAAA4v1AAAAAAKC2/kAAAAAAAIv/QAAAAADALwBBAAAAABiaAEEAAAAAQAQBQQAAAACgbgFBAAAAAODYAUEAAAAAAEMCQQAAAABArQJBAAAAAIAXA0EAAAAAwIEDQQAAAAAA7ANBAAAAAEBWBEEAAAAAmMAEQQAAAADAKgVBAAAAAACVBUEAAAAAQP8FQQAAAACAaQZBAAAAAMDTBkEAAAAAAD4HQQAAAABAqAdBAAAAAIASCEEAAAAAwHwIQQAAAAAA5whBAAAAAEBRCUEAAAAAgLsJQQAAAADAJQpBAAAAAACQCkEAAAAASPoKQQAAAACIZAtBAAAAAMDOC0EAAAAAADkMQQAAAABAowxBAAAAAIgNDUEAAAAAyHcNQQAAAAAA4g1BAAAAAEBMDkEAAAAAgLYOQQ==\"},\"shape\":[95],\"dtype\":\"float64\",\"order\":\"little\"}],[\"y\",{\"type\":\"ndarray\",\"array\":{\"type\":\"bytes\",\"data\":\"zlFHx9XIrj9lpUkp6PayPyPcZFQZxrE/ZaVJKej2sj9lpUkp6PayP14PJsXHJ7Q/I9xkVBnGsT8j3GRUGcaxP2WlSSno9rI/Xg8mxccntD9eDybFxye0P6HYCpqWWLU/Xg8mxccntD+h2Aqalli1P2WlSSno9rI/odgKmpZYtT+h2Aqalli1P6HYCpqWWLU/odgKmpZYtT+h2Aqalli1P90LzApFurc/3X2OjxZnrD82d/S/XIs2v0LpCyHn/ae/QukLIef9p7+rI0c6AyOvv1SOyeL+I7O/EcXkDTDzsb8RxeQNMPOxv1SOyeL+I7O/EcXkDTDzsb9N+KV+3lS0v1SOyeL+I7O/FZD2P8Basb9N+KV+3lS0v034pX7eVLS/Tfilft5UtL8RxeQNMPOxv034pX7eVLS/Tfilft5UtL+QwYpTrYW1v5DBilOthbW/Tfilft5UtL9N+KV+3lS0v5DBilOthbW/iCtn74y2tr80vcRYpl+qvyP2CaAYWYI/aR7AIr9+oD9X68TleAWqP85RR8fVyK4/KnKIuDmVsD8j3GRUGcaxP2WlSSno9rI/ZaVJKej2sj9lpUkp6PayP14PJsXHJ7Q/ZaVJKej2sj9lpUkp6PayP14PJsXHJ7Q/odgKmpZYtT+loxzMJsC0P6HYCpqWWLU/odgKmpZYtT9lpUkp6PayP6HYCpqWWLU/Xg8mxccntD9lpUkp6PayP50N+WcG8bU/Xg8mxccntD+aQuc1dom2P1frxOV4Bao/I/YJoBhZgj+oOA68Wu6cv7lPjgJEway/EcXkDTDzsb8RxeQNMPOxvxWQ9j/AWrG/EcXkDTDzsb9N+KV+3lS0v1SOyeL+I7O/GFsIclDCsL+QwYpTrYW1v034pX7eVLS/Tfilft5UtL9Ujsni/iOzv1SOyeL+I7O/kMGKU62Ftb9N+KV+3lS0v1SOyeL+I7O/iCtn74y2tr+IK2fvjLa2v034pX7eVLS/Tfilft5UtL+QwYpTrYW1vw==\"},\"shape\":[95],\"dtype\":\"float64\",\"order\":\"little\"}]]}}},\"view\":{\"type\":\"object\",\"name\":\"CDSView\",\"id\":\"p203881\",\"attributes\":{\"filter\":{\"type\":\"object\",\"name\":\"AllIndices\",\"id\":\"p203882\"}}},\"glyph\":{\"type\":\"object\",\"name\":\"Step\",\"id\":\"p203877\",\"attributes\":{\"x\":{\"type\":\"field\",\"field\":\"x\"},\"y\":{\"type\":\"field\",\"field\":\"y\"},\"line_color\":\"#1f77b4\",\"mode\":\"after\"}},\"nonselection_glyph\":{\"type\":\"object\",\"name\":\"Step\",\"id\":\"p203878\",\"attributes\":{\"x\":{\"type\":\"field\",\"field\":\"x\"},\"y\":{\"type\":\"field\",\"field\":\"y\"},\"line_color\":\"#1f77b4\",\"line_alpha\":0.1,\"mode\":\"after\"}},\"muted_glyph\":{\"type\":\"object\",\"name\":\"Step\",\"id\":\"p203879\",\"attributes\":{\"x\":{\"type\":\"field\",\"field\":\"x\"},\"y\":{\"type\":\"field\",\"field\":\"y\"},\"line_color\":\"#1f77b4\",\"line_alpha\":0.2,\"mode\":\"after\"}}}},{\"type\":\"object\",\"name\":\"GlyphRenderer\",\"id\":\"p203889\",\"attributes\":{\"data_source\":{\"type\":\"object\",\"name\":\"ColumnDataSource\",\"id\":\"p203883\",\"attributes\":{\"selected\":{\"type\":\"object\",\"name\":\"Selection\",\"id\":\"p203885\",\"attributes\":{\"indices\":[],\"line_indices\":[]}},\"selection_policy\":{\"type\":\"object\",\"name\":\"UnionRenderers\",\"id\":\"p203884\"},\"data\":{\"type\":\"map\",\"entries\":[[\"x\",{\"type\":\"ndarray\",\"array\":{\"type\":\"bytes\",\"data\":\"AAAAAPCZ8MAAAAAAAIvvwAAAAAAg4e3AAAAAAAA57MAAAAAAwI/qwAAAAADg5ujAAAAAAMA958AAAAAA4JTlwAAAAAAA7OPAAAAAAABD4sAAAAAAgJngwAAAAAAA4d3AAAAAAMCP2sAAAAAAQD3XwAAAAADA69PAAAAAAACZ0MAAAAAAAJDKwAAAAAAA7MPAAAAAAACQusAAAAAAAI6qwAAAAAAAAAAAAAAAAACYqkAAAAAAAJC6QAAAAACA7MNAAAAAAACQykAAAAAAAJvQQAAAAABA7NNAAAAAAAA+10AAAAAAAJDaQAAAAAAA4t1AAAAAACCa4EAAAAAAgEPiQAAAAAAA7ONAAAAAAICV5UAAAAAAQD7nQAAAAABA5+hAAAAAAECQ6kAAAAAAADnsQAAAAAAA4u1AAAAAAECL70AAAAAAEJrwQAAAAACAbvFAAAAAAABD8kAAAAAAoBfzQAAAAAAQ7PNAAAAAAIDA9EAAAAAAAJX1QAAAAACgafZAAAAAAAA+90AAAAAAgBL4QAAAAABA5/hAAAAAAKC7+UAAAAAAAJD6QAAAAACQZPtAAAAAABA5/EAAAAAAoA39QAAAAAAA4v1AAAAAAKC2/kAAAAAAAIv/QAAAAADALwBBAAAAABiaAEEAAAAAQAQBQQAAAACgbgFBAAAAAODYAUEAAAAAAEMCQQAAAABArQJBAAAAAIAXA0EAAAAAwIEDQQAAAAAA7ANBAAAAAEBWBEEAAAAAmMAEQQAAAADAKgVBAAAAAACVBUEAAAAAQP8FQQAAAACAaQZBAAAAAMDTBkEAAAAAAD4HQQAAAABAqAdBAAAAAIASCEEAAAAAwHwIQQAAAAAA5whBAAAAAEBRCUEAAAAAgLsJQQAAAADAJQpBAAAAAACQCkEAAAAASPoKQQAAAACIZAtBAAAAAMDOC0EAAAAAADkMQQAAAABAowxBAAAAAIgNDUEAAAAAyHcNQQAAAAAA4g1BAAAAAEBMDkEAAAAAgLYOQQ==\"},\"shape\":[95],\"dtype\":\"float64\",\"order\":\"little\"}],[\"y\",{\"type\":\"ndarray\",\"array\":{\"type\":\"bytes\",\"data\":\"zlFHx9XIrj9lpUkp6PayPyPcZFQZxrE/ZaVJKej2sj9lpUkp6PayP14PJsXHJ7Q/I9xkVBnGsT8j3GRUGcaxP2WlSSno9rI/Xg8mxccntD9eDybFxye0P6HYCpqWWLU/Xg8mxccntD+h2Aqalli1P2WlSSno9rI/odgKmpZYtT+h2Aqalli1P6HYCpqWWLU/odgKmpZYtT+h2Aqalli1P90LzApFurc/3X2OjxZnrD82d/S/XIs2v0LpCyHn/ae/QukLIef9p7+rI0c6AyOvv1SOyeL+I7O/EcXkDTDzsb8RxeQNMPOxv1SOyeL+I7O/EcXkDTDzsb9N+KV+3lS0v1SOyeL+I7O/FZD2P8Basb9N+KV+3lS0v034pX7eVLS/Tfilft5UtL8RxeQNMPOxv034pX7eVLS/Tfilft5UtL+QwYpTrYW1v5DBilOthbW/Tfilft5UtL9N+KV+3lS0v5DBilOthbW/iCtn74y2tr80vcRYpl+qvyP2CaAYWYI/aR7AIr9+oD9X68TleAWqP85RR8fVyK4/KnKIuDmVsD8j3GRUGcaxP2WlSSno9rI/ZaVJKej2sj9lpUkp6PayP14PJsXHJ7Q/ZaVJKej2sj9lpUkp6PayP14PJsXHJ7Q/odgKmpZYtT+loxzMJsC0P6HYCpqWWLU/odgKmpZYtT9lpUkp6PayP6HYCpqWWLU/Xg8mxccntD9lpUkp6PayP50N+WcG8bU/Xg8mxccntD+aQuc1dom2P1frxOV4Bao/I/YJoBhZgj+oOA68Wu6cv7lPjgJEway/EcXkDTDzsb8RxeQNMPOxvxWQ9j/AWrG/EcXkDTDzsb9N+KV+3lS0v1SOyeL+I7O/GFsIclDCsL+QwYpTrYW1v034pX7eVLS/Tfilft5UtL9Ujsni/iOzv1SOyeL+I7O/kMGKU62Ftb9N+KV+3lS0v1SOyeL+I7O/iCtn74y2tr+IK2fvjLa2v034pX7eVLS/Tfilft5UtL+QwYpTrYW1vw==\"},\"shape\":[95],\"dtype\":\"float64\",\"order\":\"little\"}]]}}},\"view\":{\"type\":\"object\",\"name\":\"CDSView\",\"id\":\"p203890\",\"attributes\":{\"filter\":{\"type\":\"object\",\"name\":\"AllIndices\",\"id\":\"p203891\"}}},\"glyph\":{\"type\":\"object\",\"name\":\"Circle\",\"id\":\"p203886\",\"attributes\":{\"x\":{\"type\":\"field\",\"field\":\"x\"},\"y\":{\"type\":\"field\",\"field\":\"y\"},\"size\":{\"type\":\"value\",\"value\":2},\"line_color\":{\"type\":\"value\",\"value\":\"#1f77b4\"},\"fill_color\":{\"type\":\"value\",\"value\":\"#1f77b4\"}}},\"nonselection_glyph\":{\"type\":\"object\",\"name\":\"Circle\",\"id\":\"p203887\",\"attributes\":{\"x\":{\"type\":\"field\",\"field\":\"x\"},\"y\":{\"type\":\"field\",\"field\":\"y\"},\"size\":{\"type\":\"value\",\"value\":2},\"line_color\":{\"type\":\"value\",\"value\":\"#1f77b4\"},\"line_alpha\":{\"type\":\"value\",\"value\":0.1},\"fill_color\":{\"type\":\"value\",\"value\":\"#1f77b4\"},\"fill_alpha\":{\"type\":\"value\",\"value\":0.1},\"hatch_alpha\":{\"type\":\"value\",\"value\":0.1}}},\"muted_glyph\":{\"type\":\"object\",\"name\":\"Circle\",\"id\":\"p203888\",\"attributes\":{\"x\":{\"type\":\"field\",\"field\":\"x\"},\"y\":{\"type\":\"field\",\"field\":\"y\"},\"size\":{\"type\":\"value\",\"value\":2},\"line_color\":{\"type\":\"value\",\"value\":\"#1f77b4\"},\"line_alpha\":{\"type\":\"value\",\"value\":0.2},\"fill_color\":{\"type\":\"value\",\"value\":\"#1f77b4\"},\"fill_alpha\":{\"type\":\"value\",\"value\":0.2},\"hatch_alpha\":{\"type\":\"value\",\"value\":0.2}}}}},{\"type\":\"object\",\"name\":\"GlyphRenderer\",\"id\":\"p203898\",\"attributes\":{\"data_source\":{\"type\":\"object\",\"name\":\"ColumnDataSource\",\"id\":\"p203892\",\"attributes\":{\"selected\":{\"type\":\"object\",\"name\":\"Selection\",\"id\":\"p203894\",\"attributes\":{\"indices\":[],\"line_indices\":[]}},\"selection_policy\":{\"type\":\"object\",\"name\":\"UnionRenderers\",\"id\":\"p203893\"},\"data\":{\"type\":\"map\",\"entries\":[[\"x\",{\"type\":\"ndarray\",\"array\":{\"type\":\"bytes\",\"data\":\"AAAAAPCZ8MAAAAAAAIvvwAAAAAAg4e3AAAAAAAA57MAAAAAAwI/qwAAAAADg5ujAAAAAAMA958AAAAAA4JTlwAAAAAAA7OPAAAAAAABD4sAAAAAAgJngwAAAAAAA4d3AAAAAAMCP2sAAAAAAQD3XwAAAAADA69PAAAAAAACZ0MAAAAAAAJDKwAAAAAAA7MPAAAAAAACQusAAAAAAAI6qwAAAAAAAAAAAAAAAAACYqkAAAAAAAJC6QAAAAACA7MNAAAAAAACQykAAAAAAAJvQQAAAAABA7NNAAAAAAAA+10AAAAAAAJDaQAAAAAAA4t1AAAAAACCa4EAAAAAAgEPiQAAAAAAA7ONAAAAAAICV5UAAAAAAQD7nQAAAAABA5+hAAAAAAECQ6kAAAAAAADnsQAAAAAAA4u1AAAAAAECL70AAAAAAEJrwQAAAAACAbvFAAAAAAABD8kAAAAAAoBfzQAAAAAAQ7PNAAAAAAIDA9EAAAAAAAJX1QAAAAACgafZAAAAAAAA+90AAAAAAgBL4QAAAAABA5/hAAAAAAKC7+UAAAAAAAJD6QAAAAACQZPtAAAAAABA5/EAAAAAAoA39QAAAAAAA4v1AAAAAAKC2/kAAAAAAAIv/QAAAAADALwBBAAAAABiaAEEAAAAAQAQBQQAAAACgbgFBAAAAAODYAUEAAAAAAEMCQQAAAABArQJBAAAAAIAXA0EAAAAAwIEDQQAAAAAA7ANBAAAAAEBWBEEAAAAAmMAEQQAAAADAKgVBAAAAAACVBUEAAAAAQP8FQQAAAACAaQZBAAAAAMDTBkEAAAAAAD4HQQAAAABAqAdBAAAAAIASCEEAAAAAwHwIQQAAAAAA5whBAAAAAEBRCUEAAAAAgLsJQQAAAADAJQpBAAAAAACQCkEAAAAASPoKQQAAAACIZAtBAAAAAMDOC0EAAAAAADkMQQAAAABAowxBAAAAAIgNDUEAAAAAyHcNQQAAAAAA4g1BAAAAAEBMDkEAAAAAgLYOQQ==\"},\"shape\":[95],\"dtype\":\"float64\",\"order\":\"little\"}],[\"y\",{\"type\":\"ndarray\",\"array\":{\"type\":\"bytes\",\"data\":\"mpmZmZmZuT+amZmZmZm5P5qZmZmZmbk/mpmZmZmZuT+amZmZmZm5P5qZmZmZmbk/mpmZmZmZuT+amZmZmZm5P5qZmZmZmbk/mpmZmZmZuT+amZmZmZm5P5qZmZmZmbk/mpmZmZmZuT+amZmZmZm5P5qZmZmZmbk/mpmZmZmZuT+amZmZmZm5P5qZmZmZmbk/mpmZmZmZuT+amZmZmZm5P5qZmZmZmbm/mpmZmZmZub+amZmZmZm5v5qZmZmZmbm/mpmZmZmZub+amZmZmZm5v5qZmZmZmbm/mpmZmZmZub+amZmZmZm5v5qZmZmZmbm/mpmZmZmZub+amZmZmZm5v5qZmZmZmbm/mpmZmZmZub+amZmZmZm5v5qZmZmZmbm/mpmZmZmZub+amZmZmZm5v5qZmZmZmbm/mpmZmZmZub+amZmZmZm5v5qZmZmZmbm/mpmZmZmZub+amZmZmZm5v5qZmZmZmbm/mpmZmZmZuT+amZmZmZm5P5qZmZmZmbk/mpmZmZmZuT+amZmZmZm5P5qZmZmZmbk/mpmZmZmZuT+amZmZmZm5P5qZmZmZmbk/mpmZmZmZuT+amZmZmZm5P5qZmZmZmbk/mpmZmZmZuT+amZmZmZm5P5qZmZmZmbk/mpmZmZmZuT+amZmZmZm5P5qZmZmZmbk/mpmZmZmZuT+amZmZmZm5P5qZmZmZmbk/mpmZmZmZuT+amZmZmZm5P5qZmZmZmbk/mpmZmZmZuT+amZmZmZm5v5qZmZmZmbm/mpmZmZmZub+amZmZmZm5v5qZmZmZmbm/mpmZmZmZub+amZmZmZm5v5qZmZmZmbm/mpmZmZmZub+amZmZmZm5v5qZmZmZmbm/mpmZmZmZub+amZmZmZm5v5qZmZmZmbm/mpmZmZmZub+amZmZmZm5v5qZmZmZmbm/mpmZmZmZub+amZmZmZm5v5qZmZmZmbm/mpmZmZmZub+amZmZmZm5v5qZmZmZmbm/mpmZmZmZub+amZmZmZm5vw==\"},\"shape\":[95],\"dtype\":\"float64\",\"order\":\"little\"}]]}}},\"view\":{\"type\":\"object\",\"name\":\"CDSView\",\"id\":\"p203899\",\"attributes\":{\"filter\":{\"type\":\"object\",\"name\":\"AllIndices\",\"id\":\"p203900\"}}},\"glyph\":{\"type\":\"object\",\"name\":\"Step\",\"id\":\"p203895\",\"attributes\":{\"x\":{\"type\":\"field\",\"field\":\"x\"},\"y\":{\"type\":\"field\",\"field\":\"y\"},\"line_dash\":[2,4],\"mode\":\"after\"}},\"nonselection_glyph\":{\"type\":\"object\",\"name\":\"Step\",\"id\":\"p203896\",\"attributes\":{\"x\":{\"type\":\"field\",\"field\":\"x\"},\"y\":{\"type\":\"field\",\"field\":\"y\"},\"line_alpha\":0.1,\"line_dash\":[2,4],\"mode\":\"after\"}},\"muted_glyph\":{\"type\":\"object\",\"name\":\"Step\",\"id\":\"p203897\",\"attributes\":{\"x\":{\"type\":\"field\",\"field\":\"x\"},\"y\":{\"type\":\"field\",\"field\":\"y\"},\"line_alpha\":0.2,\"line_dash\":[2,4],\"mode\":\"after\"}}}},{\"type\":\"object\",\"name\":\"GlyphRenderer\",\"id\":\"p203907\",\"attributes\":{\"data_source\":{\"type\":\"object\",\"name\":\"ColumnDataSource\",\"id\":\"p203901\",\"attributes\":{\"selected\":{\"type\":\"object\",\"name\":\"Selection\",\"id\":\"p203903\",\"attributes\":{\"indices\":[],\"line_indices\":[]}},\"selection_policy\":{\"type\":\"object\",\"name\":\"UnionRenderers\",\"id\":\"p203902\"},\"data\":{\"type\":\"map\",\"entries\":[[\"x\",{\"type\":\"ndarray\",\"array\":{\"type\":\"bytes\",\"data\":\"AAAAABCb8MAAAAAAYI3vwAAAAABg5O3AAAAAAAA77MAAAAAAYJLqwAAAAABg6ejAAAAAAGBA58AAAAAAIJflwAAAAADg7ePAAAAAAABF4sAAAAAAQJzgwAAAAADA5t3AAAAAAMCT2sAAAAAAQELXwAAAAACA8NPAAAAAAECb0MAAAAAAAJjKwAAAAACA9cPAAAAAAACgusAAAAAAALaqwAAAAAAAAAAAAAAAAABqqkAAAAAAAIC6QAAAAACA4sNAAAAAAICHykAAAAAAAJbQQAAAAACA6NNAAAAAAMA510AAAAAAQIzaQAAAAABA3d1AAAAAAKCX4EAAAAAAoEDiQAAAAADA6eNAAAAAAKCS5UAAAAAA4DvnQAAAAACg5OhAAAAAAKCN6kAAAAAAoDbsQAAAAAAA4O1AAAAAAKCI70AAAAAAYJnwQAAAAABgbfFAAAAAABBC8kAAAAAAgBbzQAAAAAAQ6/NAAAAAAKC/9EAAAAAA0JP1QAAAAABQaPZAAAAAAOA890AAAAAAkBH4QAAAAADQ5fhAAAAAAJC6+UAAAAAA0I76QAAAAABgY/tAAAAAAOA3/EAAAAAAYAz9QAAAAAAA4f1AAAAAAGC1/kAAAAAAEIr/QAAAAABALwBBAAAAAIiZAEEAAAAAqAMBQQAAAADobQFBAAAAAEDYAUEAAAAAiEICQQAAAAAgrQJBAAAAAPAWA0EAAAAAOIEDQQAAAACA6wNBAAAAAKhVBEEAAAAA6L8EQQAAAAA4KgVBAAAAAIiUBUEAAAAAwP4FQQAAAADoaAZBAAAAACjTBkEAAAAAaD0HQQAAAACopwdBAAAAAOgRCEEAAAAAKHwIQQAAAACI5ghBAAAAAKhQCUEAAAAA6LoJQQAAAAAoJQpBAAAAAGiPCkEAAAAAqPkKQQAAAADoYwtBAAAAACjOC0EAAAAAaDgMQQAAAACoogxBAAAAAPAMDUEAAAAAKHcNQQAAAABo4Q1BAAAAAKhLDkEAAAAA6LUOQQ==\"},\"shape\":[95],\"dtype\":\"float64\",\"order\":\"little\"}],[\"y\",{\"type\":\"ndarray\",\"array\":{\"type\":\"bytes\",\"data\":\"KnKIuDmVsD9lpUkp6PayP2WlSSno9rI/ZaVJKej2sj9lpUkp6PayP2WlSSno9rI/ZaVJKej2sj9lpUkp6PayP2WlSSno9rI/mkLnNXaJtj+aQuc1dom2P6HYCpqWWLU/Xg8mxccntD+h2Aqalli1P14PJsXHJ7Q/Xg8mxccntD+h2Aqalli1P2WlSSno9rI/odgKmpZYtT9eDybFxye0P6HYCpqWWLU/3X2OjxZnrD/pRe1+FeCLP5kMx/MZUJ+/qyNHOgMjr78YWwhyUMKwvxHF5A0w87G/GFsIclDCsL9N+KV+3lS0v1SOyeL+I7O/EcXkDTDzsb9Ujsni/iOzv034pX7eVLS/VI7J4v4js79Ujsni/iOzv4grZ++Mtra/VI7J4v4js78RxeQNMPOxv034pX7eVLS/EcXkDTDzsb+QwYpTrYW1v034pX7eVLS/iCtn74y2tr9N+KV+3lS0v5OMnIU97bS/jPZ4IR0etr+5T44CRMGsv5Y9CWzOwYO/aR7AIr9+oD9lFwyuuaOnP85RR8fVyK4/Xg8mxccntD9lpUkp6PayP2WlSSno9rI/Xg8mxccntD8qcoi4OZWwP14PJsXHJ7Q/ZaVJKej2sj9eDybFxye0P14PJsXHJ7Q/Yto391ePsz9lpUkp6PayP2LaN/dXj7M/Xg8mxccntD8qcoi4OZWwP14PJsXHJ7Q/Xg8mxccntD/dC8wKRbq3P5pC5zV2ibY/mkLnNXaJtj9eDybFxye0P919jo8WZ6w/GVjH8UOlcT/Lgok/ijqjv7lPjgJEway/qyNHOgMjr78YWwhyUMKwvxHF5A0w87G/VI7J4v4js78RxeQNMPOxv034pX7eVLS/VI7J4v4js79Ujsni/iOzv034pX7eVLS/Tfilft5UtL9N+KV+3lS0v034pX7eVLS/VI7J4v4js79N+KV+3lS0v5DBilOthbW/kMGKU62Ftb+QwYpTrYW1v5DBilOthbW/Tfilft5UtL+IK2fvjLa2vw==\"},\"shape\":[95],\"dtype\":\"float64\",\"order\":\"little\"}]]}}},\"view\":{\"type\":\"object\",\"name\":\"CDSView\",\"id\":\"p203908\",\"attributes\":{\"filter\":{\"type\":\"object\",\"name\":\"AllIndices\",\"id\":\"p203909\"}}},\"glyph\":{\"type\":\"object\",\"name\":\"Step\",\"id\":\"p203904\",\"attributes\":{\"x\":{\"type\":\"field\",\"field\":\"x\"},\"y\":{\"type\":\"field\",\"field\":\"y\"},\"line_color\":\"#1f77b4\",\"mode\":\"after\"}},\"nonselection_glyph\":{\"type\":\"object\",\"name\":\"Step\",\"id\":\"p203905\",\"attributes\":{\"x\":{\"type\":\"field\",\"field\":\"x\"},\"y\":{\"type\":\"field\",\"field\":\"y\"},\"line_color\":\"#1f77b4\",\"line_alpha\":0.1,\"mode\":\"after\"}},\"muted_glyph\":{\"type\":\"object\",\"name\":\"Step\",\"id\":\"p203906\",\"attributes\":{\"x\":{\"type\":\"field\",\"field\":\"x\"},\"y\":{\"type\":\"field\",\"field\":\"y\"},\"line_color\":\"#1f77b4\",\"line_alpha\":0.2,\"mode\":\"after\"}}}},{\"type\":\"object\",\"name\":\"GlyphRenderer\",\"id\":\"p203916\",\"attributes\":{\"data_source\":{\"type\":\"object\",\"name\":\"ColumnDataSource\",\"id\":\"p203910\",\"attributes\":{\"selected\":{\"type\":\"object\",\"name\":\"Selection\",\"id\":\"p203912\",\"attributes\":{\"indices\":[],\"line_indices\":[]}},\"selection_policy\":{\"type\":\"object\",\"name\":\"UnionRenderers\",\"id\":\"p203911\"},\"data\":{\"type\":\"map\",\"entries\":[[\"x\",{\"type\":\"ndarray\",\"array\":{\"type\":\"bytes\",\"data\":\"AAAAABCb8MAAAAAAYI3vwAAAAABg5O3AAAAAAAA77MAAAAAAYJLqwAAAAABg6ejAAAAAAGBA58AAAAAAIJflwAAAAADg7ePAAAAAAABF4sAAAAAAQJzgwAAAAADA5t3AAAAAAMCT2sAAAAAAQELXwAAAAACA8NPAAAAAAECb0MAAAAAAAJjKwAAAAACA9cPAAAAAAACgusAAAAAAALaqwAAAAAAAAAAAAAAAAABqqkAAAAAAAIC6QAAAAACA4sNAAAAAAICHykAAAAAAAJbQQAAAAACA6NNAAAAAAMA510AAAAAAQIzaQAAAAABA3d1AAAAAAKCX4EAAAAAAoEDiQAAAAADA6eNAAAAAAKCS5UAAAAAA4DvnQAAAAACg5OhAAAAAAKCN6kAAAAAAoDbsQAAAAAAA4O1AAAAAAKCI70AAAAAAYJnwQAAAAABgbfFAAAAAABBC8kAAAAAAgBbzQAAAAAAQ6/NAAAAAAKC/9EAAAAAA0JP1QAAAAABQaPZAAAAAAOA890AAAAAAkBH4QAAAAADQ5fhAAAAAAJC6+UAAAAAA0I76QAAAAABgY/tAAAAAAOA3/EAAAAAAYAz9QAAAAAAA4f1AAAAAAGC1/kAAAAAAEIr/QAAAAABALwBBAAAAAIiZAEEAAAAAqAMBQQAAAADobQFBAAAAAEDYAUEAAAAAiEICQQAAAAAgrQJBAAAAAPAWA0EAAAAAOIEDQQAAAACA6wNBAAAAAKhVBEEAAAAA6L8EQQAAAAA4KgVBAAAAAIiUBUEAAAAAwP4FQQAAAADoaAZBAAAAACjTBkEAAAAAaD0HQQAAAACopwdBAAAAAOgRCEEAAAAAKHwIQQAAAACI5ghBAAAAAKhQCUEAAAAA6LoJQQAAAAAoJQpBAAAAAGiPCkEAAAAAqPkKQQAAAADoYwtBAAAAACjOC0EAAAAAaDgMQQAAAACoogxBAAAAAPAMDUEAAAAAKHcNQQAAAABo4Q1BAAAAAKhLDkEAAAAA6LUOQQ==\"},\"shape\":[95],\"dtype\":\"float64\",\"order\":\"little\"}],[\"y\",{\"type\":\"ndarray\",\"array\":{\"type\":\"bytes\",\"data\":\"KnKIuDmVsD9lpUkp6PayP2WlSSno9rI/ZaVJKej2sj9lpUkp6PayP2WlSSno9rI/ZaVJKej2sj9lpUkp6PayP2WlSSno9rI/mkLnNXaJtj+aQuc1dom2P6HYCpqWWLU/Xg8mxccntD+h2Aqalli1P14PJsXHJ7Q/Xg8mxccntD+h2Aqalli1P2WlSSno9rI/odgKmpZYtT9eDybFxye0P6HYCpqWWLU/3X2OjxZnrD/pRe1+FeCLP5kMx/MZUJ+/qyNHOgMjr78YWwhyUMKwvxHF5A0w87G/GFsIclDCsL9N+KV+3lS0v1SOyeL+I7O/EcXkDTDzsb9Ujsni/iOzv034pX7eVLS/VI7J4v4js79Ujsni/iOzv4grZ++Mtra/VI7J4v4js78RxeQNMPOxv034pX7eVLS/EcXkDTDzsb+QwYpTrYW1v034pX7eVLS/iCtn74y2tr9N+KV+3lS0v5OMnIU97bS/jPZ4IR0etr+5T44CRMGsv5Y9CWzOwYO/aR7AIr9+oD9lFwyuuaOnP85RR8fVyK4/Xg8mxccntD9lpUkp6PayP2WlSSno9rI/Xg8mxccntD8qcoi4OZWwP14PJsXHJ7Q/ZaVJKej2sj9eDybFxye0P14PJsXHJ7Q/Yto391ePsz9lpUkp6PayP2LaN/dXj7M/Xg8mxccntD8qcoi4OZWwP14PJsXHJ7Q/Xg8mxccntD/dC8wKRbq3P5pC5zV2ibY/mkLnNXaJtj9eDybFxye0P919jo8WZ6w/GVjH8UOlcT/Lgok/ijqjv7lPjgJEway/qyNHOgMjr78YWwhyUMKwvxHF5A0w87G/VI7J4v4js78RxeQNMPOxv034pX7eVLS/VI7J4v4js79Ujsni/iOzv034pX7eVLS/Tfilft5UtL9N+KV+3lS0v034pX7eVLS/VI7J4v4js79N+KV+3lS0v5DBilOthbW/kMGKU62Ftb+QwYpTrYW1v5DBilOthbW/Tfilft5UtL+IK2fvjLa2vw==\"},\"shape\":[95],\"dtype\":\"float64\",\"order\":\"little\"}]]}}},\"view\":{\"type\":\"object\",\"name\":\"CDSView\",\"id\":\"p203917\",\"attributes\":{\"filter\":{\"type\":\"object\",\"name\":\"AllIndices\",\"id\":\"p203918\"}}},\"glyph\":{\"type\":\"object\",\"name\":\"Circle\",\"id\":\"p203913\",\"attributes\":{\"x\":{\"type\":\"field\",\"field\":\"x\"},\"y\":{\"type\":\"field\",\"field\":\"y\"},\"size\":{\"type\":\"value\",\"value\":2},\"line_color\":{\"type\":\"value\",\"value\":\"#1f77b4\"},\"fill_color\":{\"type\":\"value\",\"value\":\"#1f77b4\"}}},\"nonselection_glyph\":{\"type\":\"object\",\"name\":\"Circle\",\"id\":\"p203914\",\"attributes\":{\"x\":{\"type\":\"field\",\"field\":\"x\"},\"y\":{\"type\":\"field\",\"field\":\"y\"},\"size\":{\"type\":\"value\",\"value\":2},\"line_color\":{\"type\":\"value\",\"value\":\"#1f77b4\"},\"line_alpha\":{\"type\":\"value\",\"value\":0.1},\"fill_color\":{\"type\":\"value\",\"value\":\"#1f77b4\"},\"fill_alpha\":{\"type\":\"value\",\"value\":0.1},\"hatch_alpha\":{\"type\":\"value\",\"value\":0.1}}},\"muted_glyph\":{\"type\":\"object\",\"name\":\"Circle\",\"id\":\"p203915\",\"attributes\":{\"x\":{\"type\":\"field\",\"field\":\"x\"},\"y\":{\"type\":\"field\",\"field\":\"y\"},\"size\":{\"type\":\"value\",\"value\":2},\"line_color\":{\"type\":\"value\",\"value\":\"#1f77b4\"},\"line_alpha\":{\"type\":\"value\",\"value\":0.2},\"fill_color\":{\"type\":\"value\",\"value\":\"#1f77b4\"},\"fill_alpha\":{\"type\":\"value\",\"value\":0.2},\"hatch_alpha\":{\"type\":\"value\",\"value\":0.2}}}}},{\"type\":\"object\",\"name\":\"GlyphRenderer\",\"id\":\"p203925\",\"attributes\":{\"data_source\":{\"type\":\"object\",\"name\":\"ColumnDataSource\",\"id\":\"p203919\",\"attributes\":{\"selected\":{\"type\":\"object\",\"name\":\"Selection\",\"id\":\"p203921\",\"attributes\":{\"indices\":[],\"line_indices\":[]}},\"selection_policy\":{\"type\":\"object\",\"name\":\"UnionRenderers\",\"id\":\"p203920\"},\"data\":{\"type\":\"map\",\"entries\":[[\"x\",{\"type\":\"ndarray\",\"array\":{\"type\":\"bytes\",\"data\":\"AAAAABCb8MAAAAAAYI3vwAAAAABg5O3AAAAAAAA77MAAAAAAYJLqwAAAAABg6ejAAAAAAGBA58AAAAAAIJflwAAAAADg7ePAAAAAAABF4sAAAAAAQJzgwAAAAADA5t3AAAAAAMCT2sAAAAAAQELXwAAAAACA8NPAAAAAAECb0MAAAAAAAJjKwAAAAACA9cPAAAAAAACgusAAAAAAALaqwAAAAAAAAAAAAAAAAABqqkAAAAAAAIC6QAAAAACA4sNAAAAAAICHykAAAAAAAJbQQAAAAACA6NNAAAAAAMA510AAAAAAQIzaQAAAAABA3d1AAAAAAKCX4EAAAAAAoEDiQAAAAADA6eNAAAAAAKCS5UAAAAAA4DvnQAAAAACg5OhAAAAAAKCN6kAAAAAAoDbsQAAAAAAA4O1AAAAAAKCI70AAAAAAYJnwQAAAAABgbfFAAAAAABBC8kAAAAAAgBbzQAAAAAAQ6/NAAAAAAKC/9EAAAAAA0JP1QAAAAABQaPZAAAAAAOA890AAAAAAkBH4QAAAAADQ5fhAAAAAAJC6+UAAAAAA0I76QAAAAABgY/tAAAAAAOA3/EAAAAAAYAz9QAAAAAAA4f1AAAAAAGC1/kAAAAAAEIr/QAAAAABALwBBAAAAAIiZAEEAAAAAqAMBQQAAAADobQFBAAAAAEDYAUEAAAAAiEICQQAAAAAgrQJBAAAAAPAWA0EAAAAAOIEDQQAAAACA6wNBAAAAAKhVBEEAAAAA6L8EQQAAAAA4KgVBAAAAAIiUBUEAAAAAwP4FQQAAAADoaAZBAAAAACjTBkEAAAAAaD0HQQAAAACopwdBAAAAAOgRCEEAAAAAKHwIQQAAAACI5ghBAAAAAKhQCUEAAAAA6LoJQQAAAAAoJQpBAAAAAGiPCkEAAAAAqPkKQQAAAADoYwtBAAAAACjOC0EAAAAAaDgMQQAAAACoogxBAAAAAPAMDUEAAAAAKHcNQQAAAABo4Q1BAAAAAKhLDkEAAAAA6LUOQQ==\"},\"shape\":[95],\"dtype\":\"float64\",\"order\":\"little\"}],[\"y\",{\"type\":\"ndarray\",\"array\":{\"type\":\"bytes\",\"data\":\"mpmZmZmZuT+amZmZmZm5P5qZmZmZmbk/mpmZmZmZuT+amZmZmZm5P5qZmZmZmbk/mpmZmZmZuT+amZmZmZm5P5qZmZmZmbk/mpmZmZmZuT+amZmZmZm5P5qZmZmZmbk/mpmZmZmZuT+amZmZmZm5P5qZmZmZmbk/mpmZmZmZuT+amZmZmZm5P5qZmZmZmbk/mpmZmZmZuT+amZmZmZm5P5qZmZmZmbm/mpmZmZmZub+amZmZmZm5v5qZmZmZmbm/mpmZmZmZub+amZmZmZm5v5qZmZmZmbm/mpmZmZmZub+amZmZmZm5v5qZmZmZmbm/mpmZmZmZub+amZmZmZm5v5qZmZmZmbm/mpmZmZmZub+amZmZmZm5v5qZmZmZmbm/mpmZmZmZub+amZmZmZm5v5qZmZmZmbm/mpmZmZmZub+amZmZmZm5v5qZmZmZmbm/mpmZmZmZub+amZmZmZm5v5qZmZmZmbm/mpmZmZmZuT+amZmZmZm5P5qZmZmZmbk/mpmZmZmZuT+amZmZmZm5P5qZmZmZmbk/mpmZmZmZuT+amZmZmZm5P5qZmZmZmbk/mpmZmZmZuT+amZmZmZm5P5qZmZmZmbk/mpmZmZmZuT+amZmZmZm5P5qZmZmZmbk/mpmZmZmZuT+amZmZmZm5P5qZmZmZmbk/mpmZmZmZuT+amZmZmZm5P5qZmZmZmbk/mpmZmZmZuT+amZmZmZm5P5qZmZmZmbk/mpmZmZmZuT+amZmZmZm5v5qZmZmZmbm/mpmZmZmZub+amZmZmZm5v5qZmZmZmbm/mpmZmZmZub+amZmZmZm5v5qZmZmZmbm/mpmZmZmZub+amZmZmZm5v5qZmZmZmbm/mpmZmZmZub+amZmZmZm5v5qZmZmZmbm/mpmZmZmZub+amZmZmZm5v5qZmZmZmbm/mpmZmZmZub+amZmZmZm5v5qZmZmZmbm/mpmZmZmZub+amZmZmZm5v5qZmZmZmbm/mpmZmZmZub+amZmZmZm5vw==\"},\"shape\":[95],\"dtype\":\"float64\",\"order\":\"little\"}]]}}},\"view\":{\"type\":\"object\",\"name\":\"CDSView\",\"id\":\"p203926\",\"attributes\":{\"filter\":{\"type\":\"object\",\"name\":\"AllIndices\",\"id\":\"p203927\"}}},\"glyph\":{\"type\":\"object\",\"name\":\"Step\",\"id\":\"p203922\",\"attributes\":{\"x\":{\"type\":\"field\",\"field\":\"x\"},\"y\":{\"type\":\"field\",\"field\":\"y\"},\"line_dash\":[2,4],\"mode\":\"after\"}},\"nonselection_glyph\":{\"type\":\"object\",\"name\":\"Step\",\"id\":\"p203923\",\"attributes\":{\"x\":{\"type\":\"field\",\"field\":\"x\"},\"y\":{\"type\":\"field\",\"field\":\"y\"},\"line_alpha\":0.1,\"line_dash\":[2,4],\"mode\":\"after\"}},\"muted_glyph\":{\"type\":\"object\",\"name\":\"Step\",\"id\":\"p203924\",\"attributes\":{\"x\":{\"type\":\"field\",\"field\":\"x\"},\"y\":{\"type\":\"field\",\"field\":\"y\"},\"line_alpha\":0.2,\"line_dash\":[2,4],\"mode\":\"after\"}}}},{\"type\":\"object\",\"name\":\"GlyphRenderer\",\"id\":\"p203934\",\"attributes\":{\"data_source\":{\"type\":\"object\",\"name\":\"ColumnDataSource\",\"id\":\"p203928\",\"attributes\":{\"selected\":{\"type\":\"object\",\"name\":\"Selection\",\"id\":\"p203930\",\"attributes\":{\"indices\":[],\"line_indices\":[]}},\"selection_policy\":{\"type\":\"object\",\"name\":\"UnionRenderers\",\"id\":\"p203929\"},\"data\":{\"type\":\"map\",\"entries\":[[\"x\",{\"type\":\"ndarray\",\"array\":{\"type\":\"bytes\",\"data\":\"AAAAABCa8MAAAAAAQIvvwAAAAABA4u3AAAAAAKA57MAAAAAAoJDqwAAAAABA5+jAAAAAACA+58AAAAAAgJXlwAAAAACg7OPAAAAAAKBD4sAAAAAAgJrgwAAAAADA4t3AAAAAAACR2sAAAAAAQD/XwAAAAABA7NPAAAAAAECa0MAAAAAAgJLKwAAAAAAA7sPAAAAAAACUusAAAAAAAJaqwAAAAAAAAAAAAAAAAACOqkAAAAAAAIu6QAAAAACA6cNAAAAAAICPykAAAAAAwJnQQAAAAACA69NAAAAAAMA810AAAAAAwI/aQAAAAADA4d1AAAAAAOCZ4EAAAAAAYELiQAAAAAAg7ONAAAAAAICU5UAAAAAA4D3nQAAAAACg5uhAAAAAAGCP6kAAAAAAYDjsQAAAAACA4e1AAAAAAMCK70AAAAAA8JnwQAAAAAAwbvFAAAAAALBC8kAAAAAAMBfzQAAAAADQ6/NAAAAAADDA9EAAAAAA0JT1QAAAAABAafZAAAAAANA990AAAAAAMBL4QAAAAADw5vhAAAAAAFC7+UAAAAAAsI/6QAAAAABAZPtAAAAAALA4/EAAAAAAQA39QAAAAACw4f1AAAAAADC2/kAAAAAAsIr/QAAAAAC4LwBBAAAAANiZAEEAAAAAIAQBQQAAAABobgFBAAAAALjYAUEAAAAA2EICQQAAAAA4rQJBAAAAAFgXA0EAAAAAmIEDQQAAAADY6wNBAAAAABhWBEEAAAAAWMAEQQAAAACYKgVBAAAAANiUBUEAAAAAGP8FQQAAAABYaQZBAAAAAJjTBkEAAAAA2D0HQQAAAAAYqAdBAAAAAFgSCEEAAAAAmHwIQQAAAADY5ghBAAAAABhRCUEAAAAAWLsJQQAAAACYJQpBAAAAANiPCkEAAAAAOPoKQQAAAABgZAtBAAAAAJjOC0EAAAAA2DgMQQAAAAAYowxBAAAAAFgNDUEAAAAAmHcNQQAAAADY4Q1BAAAAABhMDkEAAAAAWLYOQQ==\"},\"shape\":[95],\"dtype\":\"float64\",\"order\":\"little\"}],[\"y\",{\"type\":\"ndarray\",\"array\":{\"type\":\"bytes\",\"data\":\"KnKIuDmVsD9lpUkp6PayPypyiLg5lbA/Xg8mxccntD8j3GRUGcaxP2WlSSno9rI/ZaVJKej2sj9lpUkp6PayP2WlSSno9rI/ZaVJKej2sj9lpUkp6PayP14PJsXHJ7Q/mkLnNXaJtj+aQuc1dom2P2WlSSno9rI/Xg8mxccntD9lpUkp6PayP6HYCpqWWLU/Xg8mxccntD9eDybFxye0P6HYCpqWWLU/V+vE5XgFqj+h20sao3V0v9IYraOqCaK/NL3EWKZfqr8YWwhyUMKwvxWQ9j/AWrG/GFsIclDCsL8RxeQNMPOxv1SOyeL+I7O/EcXkDTDzsb8RxeQNMPOxvxHF5A0w87G/VI7J4v4js7+QwYpTrYW1v1SOyeL+I7O/VI7J4v4js79N+KV+3lS0v5DBilOthbW/y/RLxFvnt78RxeQNMPOxv034pX7eVLS/Tfilft5UtL+QwYpTrYW1v4grZ++Mtra/kMGKU62Ftb+5T44CRMGsvxlYx/FDpXE/aR7AIr9+oD9lFwyuuaOnP85RR8fVyK4/I9xkVBnGsT9eDybFxye0P14PJsXHJ7Q/ZaVJKej2sj9lpUkp6PayP2LaN/dXj7M/odgKmpZYtT9i2jf3V4+zP2LaN/dXj7M/KnKIuDmVsD9eDybFxye0P2WlSSno9rI/Xg8mxccntD9lpUkp6PayP2WlSSno9rI/mkLnNXaJtj+aQuc1dom2P14PJsXHJ7Q/Xg8mxccntD+h2Aqalli1P2UXDK65o6c/GVjH8UOlcT/artAHy9igv7lPjgJEway/qyNHOgMjr79Ujsni/iOzv1SOyeL+I7O/GFsIclDCsL9Ujsni/iOzvxHF5A0w87G/Tfilft5UtL9Ujsni/iOzv034pX7eVLS/VI7J4v4js79Qw7ewbryzv1SOyeL+I7O/GFsIclDCsL9N+KV+3lS0v1SOyeL+I7O/k4ychT3ttL9N+KV+3lS0v034pX7eVLS/kMGKU62Ftb9N+KV+3lS0vw==\"},\"shape\":[95],\"dtype\":\"float64\",\"order\":\"little\"}]]}}},\"view\":{\"type\":\"object\",\"name\":\"CDSView\",\"id\":\"p203935\",\"attributes\":{\"filter\":{\"type\":\"object\",\"name\":\"AllIndices\",\"id\":\"p203936\"}}},\"glyph\":{\"type\":\"object\",\"name\":\"Step\",\"id\":\"p203931\",\"attributes\":{\"x\":{\"type\":\"field\",\"field\":\"x\"},\"y\":{\"type\":\"field\",\"field\":\"y\"},\"line_color\":\"#1f77b4\",\"mode\":\"after\"}},\"nonselection_glyph\":{\"type\":\"object\",\"name\":\"Step\",\"id\":\"p203932\",\"attributes\":{\"x\":{\"type\":\"field\",\"field\":\"x\"},\"y\":{\"type\":\"field\",\"field\":\"y\"},\"line_color\":\"#1f77b4\",\"line_alpha\":0.1,\"mode\":\"after\"}},\"muted_glyph\":{\"type\":\"object\",\"name\":\"Step\",\"id\":\"p203933\",\"attributes\":{\"x\":{\"type\":\"field\",\"field\":\"x\"},\"y\":{\"type\":\"field\",\"field\":\"y\"},\"line_color\":\"#1f77b4\",\"line_alpha\":0.2,\"mode\":\"after\"}}}},{\"type\":\"object\",\"name\":\"GlyphRenderer\",\"id\":\"p203943\",\"attributes\":{\"data_source\":{\"type\":\"object\",\"name\":\"ColumnDataSource\",\"id\":\"p203937\",\"attributes\":{\"selected\":{\"type\":\"object\",\"name\":\"Selection\",\"id\":\"p203939\",\"attributes\":{\"indices\":[],\"line_indices\":[]}},\"selection_policy\":{\"type\":\"object\",\"name\":\"UnionRenderers\",\"id\":\"p203938\"},\"data\":{\"type\":\"map\",\"entries\":[[\"x\",{\"type\":\"ndarray\",\"array\":{\"type\":\"bytes\",\"data\":\"AAAAABCa8MAAAAAAQIvvwAAAAABA4u3AAAAAAKA57MAAAAAAoJDqwAAAAABA5+jAAAAAACA+58AAAAAAgJXlwAAAAACg7OPAAAAAAKBD4sAAAAAAgJrgwAAAAADA4t3AAAAAAACR2sAAAAAAQD/XwAAAAABA7NPAAAAAAECa0MAAAAAAgJLKwAAAAAAA7sPAAAAAAACUusAAAAAAAJaqwAAAAAAAAAAAAAAAAACOqkAAAAAAAIu6QAAAAACA6cNAAAAAAICPykAAAAAAwJnQQAAAAACA69NAAAAAAMA810AAAAAAwI/aQAAAAADA4d1AAAAAAOCZ4EAAAAAAYELiQAAAAAAg7ONAAAAAAICU5UAAAAAA4D3nQAAAAACg5uhAAAAAAGCP6kAAAAAAYDjsQAAAAACA4e1AAAAAAMCK70AAAAAA8JnwQAAAAAAwbvFAAAAAALBC8kAAAAAAMBfzQAAAAADQ6/NAAAAAADDA9EAAAAAA0JT1QAAAAABAafZAAAAAANA990AAAAAAMBL4QAAAAADw5vhAAAAAAFC7+UAAAAAAsI/6QAAAAABAZPtAAAAAALA4/EAAAAAAQA39QAAAAACw4f1AAAAAADC2/kAAAAAAsIr/QAAAAAC4LwBBAAAAANiZAEEAAAAAIAQBQQAAAABobgFBAAAAALjYAUEAAAAA2EICQQAAAAA4rQJBAAAAAFgXA0EAAAAAmIEDQQAAAADY6wNBAAAAABhWBEEAAAAAWMAEQQAAAACYKgVBAAAAANiUBUEAAAAAGP8FQQAAAABYaQZBAAAAAJjTBkEAAAAA2D0HQQAAAAAYqAdBAAAAAFgSCEEAAAAAmHwIQQAAAADY5ghBAAAAABhRCUEAAAAAWLsJQQAAAACYJQpBAAAAANiPCkEAAAAAOPoKQQAAAABgZAtBAAAAAJjOC0EAAAAA2DgMQQAAAAAYowxBAAAAAFgNDUEAAAAAmHcNQQAAAADY4Q1BAAAAABhMDkEAAAAAWLYOQQ==\"},\"shape\":[95],\"dtype\":\"float64\",\"order\":\"little\"}],[\"y\",{\"type\":\"ndarray\",\"array\":{\"type\":\"bytes\",\"data\":\"KnKIuDmVsD9lpUkp6PayPypyiLg5lbA/Xg8mxccntD8j3GRUGcaxP2WlSSno9rI/ZaVJKej2sj9lpUkp6PayP2WlSSno9rI/ZaVJKej2sj9lpUkp6PayP14PJsXHJ7Q/mkLnNXaJtj+aQuc1dom2P2WlSSno9rI/Xg8mxccntD9lpUkp6PayP6HYCpqWWLU/Xg8mxccntD9eDybFxye0P6HYCpqWWLU/V+vE5XgFqj+h20sao3V0v9IYraOqCaK/NL3EWKZfqr8YWwhyUMKwvxWQ9j/AWrG/GFsIclDCsL8RxeQNMPOxv1SOyeL+I7O/EcXkDTDzsb8RxeQNMPOxvxHF5A0w87G/VI7J4v4js7+QwYpTrYW1v1SOyeL+I7O/VI7J4v4js79N+KV+3lS0v5DBilOthbW/y/RLxFvnt78RxeQNMPOxv034pX7eVLS/Tfilft5UtL+QwYpTrYW1v4grZ++Mtra/kMGKU62Ftb+5T44CRMGsvxlYx/FDpXE/aR7AIr9+oD9lFwyuuaOnP85RR8fVyK4/I9xkVBnGsT9eDybFxye0P14PJsXHJ7Q/ZaVJKej2sj9lpUkp6PayP2LaN/dXj7M/odgKmpZYtT9i2jf3V4+zP2LaN/dXj7M/KnKIuDmVsD9eDybFxye0P2WlSSno9rI/Xg8mxccntD9lpUkp6PayP2WlSSno9rI/mkLnNXaJtj+aQuc1dom2P14PJsXHJ7Q/Xg8mxccntD+h2Aqalli1P2UXDK65o6c/GVjH8UOlcT/artAHy9igv7lPjgJEway/qyNHOgMjr79Ujsni/iOzv1SOyeL+I7O/GFsIclDCsL9Ujsni/iOzvxHF5A0w87G/Tfilft5UtL9Ujsni/iOzv034pX7eVLS/VI7J4v4js79Qw7ewbryzv1SOyeL+I7O/GFsIclDCsL9N+KV+3lS0v1SOyeL+I7O/k4ychT3ttL9N+KV+3lS0v034pX7eVLS/kMGKU62Ftb9N+KV+3lS0vw==\"},\"shape\":[95],\"dtype\":\"float64\",\"order\":\"little\"}]]}}},\"view\":{\"type\":\"object\",\"name\":\"CDSView\",\"id\":\"p203944\",\"attributes\":{\"filter\":{\"type\":\"object\",\"name\":\"AllIndices\",\"id\":\"p203945\"}}},\"glyph\":{\"type\":\"object\",\"name\":\"Circle\",\"id\":\"p203940\",\"attributes\":{\"x\":{\"type\":\"field\",\"field\":\"x\"},\"y\":{\"type\":\"field\",\"field\":\"y\"},\"size\":{\"type\":\"value\",\"value\":2},\"line_color\":{\"type\":\"value\",\"value\":\"#1f77b4\"},\"fill_color\":{\"type\":\"value\",\"value\":\"#1f77b4\"}}},\"nonselection_glyph\":{\"type\":\"object\",\"name\":\"Circle\",\"id\":\"p203941\",\"attributes\":{\"x\":{\"type\":\"field\",\"field\":\"x\"},\"y\":{\"type\":\"field\",\"field\":\"y\"},\"size\":{\"type\":\"value\",\"value\":2},\"line_color\":{\"type\":\"value\",\"value\":\"#1f77b4\"},\"line_alpha\":{\"type\":\"value\",\"value\":0.1},\"fill_color\":{\"type\":\"value\",\"value\":\"#1f77b4\"},\"fill_alpha\":{\"type\":\"value\",\"value\":0.1},\"hatch_alpha\":{\"type\":\"value\",\"value\":0.1}}},\"muted_glyph\":{\"type\":\"object\",\"name\":\"Circle\",\"id\":\"p203942\",\"attributes\":{\"x\":{\"type\":\"field\",\"field\":\"x\"},\"y\":{\"type\":\"field\",\"field\":\"y\"},\"size\":{\"type\":\"value\",\"value\":2},\"line_color\":{\"type\":\"value\",\"value\":\"#1f77b4\"},\"line_alpha\":{\"type\":\"value\",\"value\":0.2},\"fill_color\":{\"type\":\"value\",\"value\":\"#1f77b4\"},\"fill_alpha\":{\"type\":\"value\",\"value\":0.2},\"hatch_alpha\":{\"type\":\"value\",\"value\":0.2}}}}},{\"type\":\"object\",\"name\":\"GlyphRenderer\",\"id\":\"p203952\",\"attributes\":{\"data_source\":{\"type\":\"object\",\"name\":\"ColumnDataSource\",\"id\":\"p203946\",\"attributes\":{\"selected\":{\"type\":\"object\",\"name\":\"Selection\",\"id\":\"p203948\",\"attributes\":{\"indices\":[],\"line_indices\":[]}},\"selection_policy\":{\"type\":\"object\",\"name\":\"UnionRenderers\",\"id\":\"p203947\"},\"data\":{\"type\":\"map\",\"entries\":[[\"x\",{\"type\":\"ndarray\",\"array\":{\"type\":\"bytes\",\"data\":\"AAAAABCa8MAAAAAAQIvvwAAAAABA4u3AAAAAAKA57MAAAAAAoJDqwAAAAABA5+jAAAAAACA+58AAAAAAgJXlwAAAAACg7OPAAAAAAKBD4sAAAAAAgJrgwAAAAADA4t3AAAAAAACR2sAAAAAAQD/XwAAAAABA7NPAAAAAAECa0MAAAAAAgJLKwAAAAAAA7sPAAAAAAACUusAAAAAAAJaqwAAAAAAAAAAAAAAAAACOqkAAAAAAAIu6QAAAAACA6cNAAAAAAICPykAAAAAAwJnQQAAAAACA69NAAAAAAMA810AAAAAAwI/aQAAAAADA4d1AAAAAAOCZ4EAAAAAAYELiQAAAAAAg7ONAAAAAAICU5UAAAAAA4D3nQAAAAACg5uhAAAAAAGCP6kAAAAAAYDjsQAAAAACA4e1AAAAAAMCK70AAAAAA8JnwQAAAAAAwbvFAAAAAALBC8kAAAAAAMBfzQAAAAADQ6/NAAAAAADDA9EAAAAAA0JT1QAAAAABAafZAAAAAANA990AAAAAAMBL4QAAAAADw5vhAAAAAAFC7+UAAAAAAsI/6QAAAAABAZPtAAAAAALA4/EAAAAAAQA39QAAAAACw4f1AAAAAADC2/kAAAAAAsIr/QAAAAAC4LwBBAAAAANiZAEEAAAAAIAQBQQAAAABobgFBAAAAALjYAUEAAAAA2EICQQAAAAA4rQJBAAAAAFgXA0EAAAAAmIEDQQAAAADY6wNBAAAAABhWBEEAAAAAWMAEQQAAAACYKgVBAAAAANiUBUEAAAAAGP8FQQAAAABYaQZBAAAAAJjTBkEAAAAA2D0HQQAAAAAYqAdBAAAAAFgSCEEAAAAAmHwIQQAAAADY5ghBAAAAABhRCUEAAAAAWLsJQQAAAACYJQpBAAAAANiPCkEAAAAAOPoKQQAAAABgZAtBAAAAAJjOC0EAAAAA2DgMQQAAAAAYowxBAAAAAFgNDUEAAAAAmHcNQQAAAADY4Q1BAAAAABhMDkEAAAAAWLYOQQ==\"},\"shape\":[95],\"dtype\":\"float64\",\"order\":\"little\"}],[\"y\",{\"type\":\"ndarray\",\"array\":{\"type\":\"bytes\",\"data\":\"mpmZmZmZuT+amZmZmZm5P5qZmZmZmbk/mpmZmZmZuT+amZmZmZm5P5qZmZmZmbk/mpmZmZmZuT+amZmZmZm5P5qZmZmZmbk/mpmZmZmZuT+amZmZmZm5P5qZmZmZmbk/mpmZmZmZuT+amZmZmZm5P5qZmZmZmbk/mpmZmZmZuT+amZmZmZm5P5qZmZmZmbk/mpmZmZmZuT+amZmZmZm5P5qZmZmZmbm/mpmZmZmZub+amZmZmZm5v5qZmZmZmbm/mpmZmZmZub+amZmZmZm5v5qZmZmZmbm/mpmZmZmZub+amZmZmZm5v5qZmZmZmbm/mpmZmZmZub+amZmZmZm5v5qZmZmZmbm/mpmZmZmZub+amZmZmZm5v5qZmZmZmbm/mpmZmZmZub+amZmZmZm5v5qZmZmZmbm/mpmZmZmZub+amZmZmZm5v5qZmZmZmbm/mpmZmZmZub+amZmZmZm5v5qZmZmZmbm/mpmZmZmZuT+amZmZmZm5P5qZmZmZmbk/mpmZmZmZuT+amZmZmZm5P5qZmZmZmbk/mpmZmZmZuT+amZmZmZm5P5qZmZmZmbk/mpmZmZmZuT+amZmZmZm5P5qZmZmZmbk/mpmZmZmZuT+amZmZmZm5P5qZmZmZmbk/mpmZmZmZuT+amZmZmZm5P5qZmZmZmbk/mpmZmZmZuT+amZmZmZm5P5qZmZmZmbk/mpmZmZmZuT+amZmZmZm5P5qZmZmZmbk/mpmZmZmZuT+amZmZmZm5v5qZmZmZmbm/mpmZmZmZub+amZmZmZm5v5qZmZmZmbm/mpmZmZmZub+amZmZmZm5v5qZmZmZmbm/mpmZmZmZub+amZmZmZm5v5qZmZmZmbm/mpmZmZmZub+amZmZmZm5v5qZmZmZmbm/mpmZmZmZub+amZmZmZm5v5qZmZmZmbm/mpmZmZmZub+amZmZmZm5v5qZmZmZmbm/mpmZmZmZub+amZmZmZm5v5qZmZmZmbm/mpmZmZmZub+amZmZmZm5vw==\"},\"shape\":[95],\"dtype\":\"float64\",\"order\":\"little\"}]]}}},\"view\":{\"type\":\"object\",\"name\":\"CDSView\",\"id\":\"p203953\",\"attributes\":{\"filter\":{\"type\":\"object\",\"name\":\"AllIndices\",\"id\":\"p203954\"}}},\"glyph\":{\"type\":\"object\",\"name\":\"Step\",\"id\":\"p203949\",\"attributes\":{\"x\":{\"type\":\"field\",\"field\":\"x\"},\"y\":{\"type\":\"field\",\"field\":\"y\"},\"line_dash\":[2,4],\"mode\":\"after\"}},\"nonselection_glyph\":{\"type\":\"object\",\"name\":\"Step\",\"id\":\"p203950\",\"attributes\":{\"x\":{\"type\":\"field\",\"field\":\"x\"},\"y\":{\"type\":\"field\",\"field\":\"y\"},\"line_alpha\":0.1,\"line_dash\":[2,4],\"mode\":\"after\"}},\"muted_glyph\":{\"type\":\"object\",\"name\":\"Step\",\"id\":\"p203951\",\"attributes\":{\"x\":{\"type\":\"field\",\"field\":\"x\"},\"y\":{\"type\":\"field\",\"field\":\"y\"},\"line_alpha\":0.2,\"line_dash\":[2,4],\"mode\":\"after\"}}}},{\"type\":\"object\",\"name\":\"GlyphRenderer\",\"id\":\"p203961\",\"attributes\":{\"data_source\":{\"type\":\"object\",\"name\":\"ColumnDataSource\",\"id\":\"p203955\",\"attributes\":{\"selected\":{\"type\":\"object\",\"name\":\"Selection\",\"id\":\"p203957\",\"attributes\":{\"indices\":[],\"line_indices\":[]}},\"selection_policy\":{\"type\":\"object\",\"name\":\"UnionRenderers\",\"id\":\"p203956\"},\"data\":{\"type\":\"map\",\"entries\":[[\"x\",{\"type\":\"ndarray\",\"array\":{\"type\":\"bytes\",\"data\":\"AAAAAOCZ8MAAAAAAwIrvwAAAAACA4e3AAAAAAAA57MAAAAAAAJDqwAAAAACA5ujAAAAAACA958AAAAAAAJXlwAAAAACg6+PAAAAAAIBC4sAAAAAAwJngwAAAAABA4d3AAAAAAACP2sAAAAAAgD3XwAAAAAAA7NPAAAAAAACa0MAAAAAAAJDKwAAAAACA6sPAAAAAAACQusAAAAAAAJCqwAAAAAAAAAAAAAAAAACSqkAAAAAAAJC6QAAAAAAA7MNAAAAAAACQykAAAAAAwJrQQAAAAADA7NNAAAAAAAA+10AAAAAAAJHaQAAAAABA4t1AAAAAAECa4EAAAAAAAEPiQAAAAACA7ONAAAAAACCV5UAAAAAAAD7nQAAAAAAA5+hAAAAAAGCQ6kAAAAAAADnsQAAAAABA4u1AAAAAAACL70AAAAAAEJrwQAAAAADAbvFAAAAAAEBD8kAAAAAAgBfzQAAAAAAg7PNAAAAAAIDA9EAAAAAAAJX1QAAAAACwafZAAAAAAIA+90AAAAAAoBL4QAAAAAAw5/hAAAAAAIC7+UAAAAAAAJD6QAAAAACQZPtAAAAAADA5/EAAAAAAsA39QAAAAAAA4v1AAAAAAIC2/kAAAAAAAIv/QAAAAADILwBBAAAAABiaAEEAAAAASAQBQQAAAACgbgFBAAAAAODYAUEAAAAAEEMCQQAAAABArQJBAAAAAJgXA0EAAAAA6IEDQQAAAAAI7ANBAAAAAEBWBEEAAAAAiMAEQQAAAADAKgVBAAAAACCVBUEAAAAAUP8FQQAAAACAaQZBAAAAAMDTBkEAAAAAAD4HQQAAAABAqAdBAAAAAJASCEEAAAAA0HwIQQAAAAAA5whBAAAAAEBRCUEAAAAAiLsJQQAAAADAJQpBAAAAAACQCkEAAAAAUPoKQQAAAACAZAtBAAAAAMDOC0EAAAAAADkMQQAAAABAowxBAAAAAIANDUEAAAAAwHcNQQAAAAAA4g1BAAAAAEBMDkEAAAAAgLYOQQ==\"},\"shape\":[95],\"dtype\":\"float64\",\"order\":\"little\"}],[\"y\",{\"type\":\"ndarray\",\"array\":{\"type\":\"bytes\",\"data\":\"KnKIuDmVsD9eDybFxye0P14PJsXHJ7Q/I9xkVBnGsT8j3GRUGcaxP2WlSSno9rI/ZaVJKej2sj9lpUkp6PayP14PJsXHJ7Q/odgKmpZYtT9lpUkp6PayP2WlSSno9rI/Xg8mxccntD9eDybFxye0P6HYCpqWWLU/odgKmpZYtT+h2Aqalli1P5pC5zV2ibY/mkLnNXaJtj+h2Aqalli1P6HYCpqWWLU/ZRcMrrmjpz8ZWMfxQ6VxP71WQndJnKW/qyNHOgMjr7+rI0c6AyOvvxHF5A0w87G/EcXkDTDzsb9Ujsni/iOzv5DBilOthbW/GFsIclDCsL9Ujsni/iOzv034pX7eVLS/VI7J4v4js79N+KV+3lS0v5DBilOthbW/GFsIclDCsL9Ujsni/iOzv034pX7eVLS/kMGKU62Ftb9N+KV+3lS0v5DBilOthbW/iCtn74y2tr9N+KV+3lS0v5DBilOthbW/iCtn74y2tr/B5bFmZJCrvzZ39L9ciza/aR7AIr9+oD9X68TleAWqPyPcZFQZxrE/I9xkVBnGsT9lpUkp6PayP2WlSSno9rI/Jqd2hqktsT9eDybFxye0P2WlSSno9rI/ZaVJKej2sj9lpUkp6PayPyPcZFQZxrE/KnKIuDmVsD9eDybFxye0P14PJsXHJ7Q/odgKmpZYtT+h2Aqalli1P14PJsXHJ7Q/Xg8mxccntD+h2Aqalli1P6HYCpqWWLU/Xg8mxccntD9eDybFxye0P919jo8WZ6w/GVjH8UOlcT/Lgok/ijqjv7lPjgJEway/GFsIclDCsL8RxeQNMPOxvxHF5A0w87G/EcXkDTDzsb9N+KV+3lS0vxHF5A0w87G/VI7J4v4js79Ujsni/iOzvxHF5A0w87G/Tfilft5UtL9Ujsni/iOzv034pX7eVLS/kMGKU62Ftb+IK2fvjLa2v034pX7eVLS/VI7J4v4js7+QwYpTrYW1v4grZ++Mtra/kMGKU62Ftb+IK2fvjLa2vw==\"},\"shape\":[95],\"dtype\":\"float64\",\"order\":\"little\"}]]}}},\"view\":{\"type\":\"object\",\"name\":\"CDSView\",\"id\":\"p203962\",\"attributes\":{\"filter\":{\"type\":\"object\",\"name\":\"AllIndices\",\"id\":\"p203963\"}}},\"glyph\":{\"type\":\"object\",\"name\":\"Step\",\"id\":\"p203958\",\"attributes\":{\"x\":{\"type\":\"field\",\"field\":\"x\"},\"y\":{\"type\":\"field\",\"field\":\"y\"},\"line_color\":\"#1f77b4\",\"mode\":\"after\"}},\"nonselection_glyph\":{\"type\":\"object\",\"name\":\"Step\",\"id\":\"p203959\",\"attributes\":{\"x\":{\"type\":\"field\",\"field\":\"x\"},\"y\":{\"type\":\"field\",\"field\":\"y\"},\"line_color\":\"#1f77b4\",\"line_alpha\":0.1,\"mode\":\"after\"}},\"muted_glyph\":{\"type\":\"object\",\"name\":\"Step\",\"id\":\"p203960\",\"attributes\":{\"x\":{\"type\":\"field\",\"field\":\"x\"},\"y\":{\"type\":\"field\",\"field\":\"y\"},\"line_color\":\"#1f77b4\",\"line_alpha\":0.2,\"mode\":\"after\"}}}},{\"type\":\"object\",\"name\":\"GlyphRenderer\",\"id\":\"p203970\",\"attributes\":{\"data_source\":{\"type\":\"object\",\"name\":\"ColumnDataSource\",\"id\":\"p203964\",\"attributes\":{\"selected\":{\"type\":\"object\",\"name\":\"Selection\",\"id\":\"p203966\",\"attributes\":{\"indices\":[],\"line_indices\":[]}},\"selection_policy\":{\"type\":\"object\",\"name\":\"UnionRenderers\",\"id\":\"p203965\"},\"data\":{\"type\":\"map\",\"entries\":[[\"x\",{\"type\":\"ndarray\",\"array\":{\"type\":\"bytes\",\"data\":\"AAAAAOCZ8MAAAAAAwIrvwAAAAACA4e3AAAAAAAA57MAAAAAAAJDqwAAAAACA5ujAAAAAACA958AAAAAAAJXlwAAAAACg6+PAAAAAAIBC4sAAAAAAwJngwAAAAABA4d3AAAAAAACP2sAAAAAAgD3XwAAAAAAA7NPAAAAAAACa0MAAAAAAAJDKwAAAAACA6sPAAAAAAACQusAAAAAAAJCqwAAAAAAAAAAAAAAAAACSqkAAAAAAAJC6QAAAAAAA7MNAAAAAAACQykAAAAAAwJrQQAAAAADA7NNAAAAAAAA+10AAAAAAAJHaQAAAAABA4t1AAAAAAECa4EAAAAAAAEPiQAAAAACA7ONAAAAAACCV5UAAAAAAAD7nQAAAAAAA5+hAAAAAAGCQ6kAAAAAAADnsQAAAAABA4u1AAAAAAACL70AAAAAAEJrwQAAAAADAbvFAAAAAAEBD8kAAAAAAgBfzQAAAAAAg7PNAAAAAAIDA9EAAAAAAAJX1QAAAAACwafZAAAAAAIA+90AAAAAAoBL4QAAAAAAw5/hAAAAAAIC7+UAAAAAAAJD6QAAAAACQZPtAAAAAADA5/EAAAAAAsA39QAAAAAAA4v1AAAAAAIC2/kAAAAAAAIv/QAAAAADILwBBAAAAABiaAEEAAAAASAQBQQAAAACgbgFBAAAAAODYAUEAAAAAEEMCQQAAAABArQJBAAAAAJgXA0EAAAAA6IEDQQAAAAAI7ANBAAAAAEBWBEEAAAAAiMAEQQAAAADAKgVBAAAAACCVBUEAAAAAUP8FQQAAAACAaQZBAAAAAMDTBkEAAAAAAD4HQQAAAABAqAdBAAAAAJASCEEAAAAA0HwIQQAAAAAA5whBAAAAAEBRCUEAAAAAiLsJQQAAAADAJQpBAAAAAACQCkEAAAAAUPoKQQAAAACAZAtBAAAAAMDOC0EAAAAAADkMQQAAAABAowxBAAAAAIANDUEAAAAAwHcNQQAAAAAA4g1BAAAAAEBMDkEAAAAAgLYOQQ==\"},\"shape\":[95],\"dtype\":\"float64\",\"order\":\"little\"}],[\"y\",{\"type\":\"ndarray\",\"array\":{\"type\":\"bytes\",\"data\":\"KnKIuDmVsD9eDybFxye0P14PJsXHJ7Q/I9xkVBnGsT8j3GRUGcaxP2WlSSno9rI/ZaVJKej2sj9lpUkp6PayP14PJsXHJ7Q/odgKmpZYtT9lpUkp6PayP2WlSSno9rI/Xg8mxccntD9eDybFxye0P6HYCpqWWLU/odgKmpZYtT+h2Aqalli1P5pC5zV2ibY/mkLnNXaJtj+h2Aqalli1P6HYCpqWWLU/ZRcMrrmjpz8ZWMfxQ6VxP71WQndJnKW/qyNHOgMjr7+rI0c6AyOvvxHF5A0w87G/EcXkDTDzsb9Ujsni/iOzv5DBilOthbW/GFsIclDCsL9Ujsni/iOzv034pX7eVLS/VI7J4v4js79N+KV+3lS0v5DBilOthbW/GFsIclDCsL9Ujsni/iOzv034pX7eVLS/kMGKU62Ftb9N+KV+3lS0v5DBilOthbW/iCtn74y2tr9N+KV+3lS0v5DBilOthbW/iCtn74y2tr/B5bFmZJCrvzZ39L9ciza/aR7AIr9+oD9X68TleAWqPyPcZFQZxrE/I9xkVBnGsT9lpUkp6PayP2WlSSno9rI/Jqd2hqktsT9eDybFxye0P2WlSSno9rI/ZaVJKej2sj9lpUkp6PayPyPcZFQZxrE/KnKIuDmVsD9eDybFxye0P14PJsXHJ7Q/odgKmpZYtT+h2Aqalli1P14PJsXHJ7Q/Xg8mxccntD+h2Aqalli1P6HYCpqWWLU/Xg8mxccntD9eDybFxye0P919jo8WZ6w/GVjH8UOlcT/Lgok/ijqjv7lPjgJEway/GFsIclDCsL8RxeQNMPOxvxHF5A0w87G/EcXkDTDzsb9N+KV+3lS0vxHF5A0w87G/VI7J4v4js79Ujsni/iOzvxHF5A0w87G/Tfilft5UtL9Ujsni/iOzv034pX7eVLS/kMGKU62Ftb+IK2fvjLa2v034pX7eVLS/VI7J4v4js7+QwYpTrYW1v4grZ++Mtra/kMGKU62Ftb+IK2fvjLa2vw==\"},\"shape\":[95],\"dtype\":\"float64\",\"order\":\"little\"}]]}}},\"view\":{\"type\":\"object\",\"name\":\"CDSView\",\"id\":\"p203971\",\"attributes\":{\"filter\":{\"type\":\"object\",\"name\":\"AllIndices\",\"id\":\"p203972\"}}},\"glyph\":{\"type\":\"object\",\"name\":\"Circle\",\"id\":\"p203967\",\"attributes\":{\"x\":{\"type\":\"field\",\"field\":\"x\"},\"y\":{\"type\":\"field\",\"field\":\"y\"},\"size\":{\"type\":\"value\",\"value\":2},\"line_color\":{\"type\":\"value\",\"value\":\"#1f77b4\"},\"fill_color\":{\"type\":\"value\",\"value\":\"#1f77b4\"}}},\"nonselection_glyph\":{\"type\":\"object\",\"name\":\"Circle\",\"id\":\"p203968\",\"attributes\":{\"x\":{\"type\":\"field\",\"field\":\"x\"},\"y\":{\"type\":\"field\",\"field\":\"y\"},\"size\":{\"type\":\"value\",\"value\":2},\"line_color\":{\"type\":\"value\",\"value\":\"#1f77b4\"},\"line_alpha\":{\"type\":\"value\",\"value\":0.1},\"fill_color\":{\"type\":\"value\",\"value\":\"#1f77b4\"},\"fill_alpha\":{\"type\":\"value\",\"value\":0.1},\"hatch_alpha\":{\"type\":\"value\",\"value\":0.1}}},\"muted_glyph\":{\"type\":\"object\",\"name\":\"Circle\",\"id\":\"p203969\",\"attributes\":{\"x\":{\"type\":\"field\",\"field\":\"x\"},\"y\":{\"type\":\"field\",\"field\":\"y\"},\"size\":{\"type\":\"value\",\"value\":2},\"line_color\":{\"type\":\"value\",\"value\":\"#1f77b4\"},\"line_alpha\":{\"type\":\"value\",\"value\":0.2},\"fill_color\":{\"type\":\"value\",\"value\":\"#1f77b4\"},\"fill_alpha\":{\"type\":\"value\",\"value\":0.2},\"hatch_alpha\":{\"type\":\"value\",\"value\":0.2}}}}},{\"type\":\"object\",\"name\":\"GlyphRenderer\",\"id\":\"p203979\",\"attributes\":{\"data_source\":{\"type\":\"object\",\"name\":\"ColumnDataSource\",\"id\":\"p203973\",\"attributes\":{\"selected\":{\"type\":\"object\",\"name\":\"Selection\",\"id\":\"p203975\",\"attributes\":{\"indices\":[],\"line_indices\":[]}},\"selection_policy\":{\"type\":\"object\",\"name\":\"UnionRenderers\",\"id\":\"p203974\"},\"data\":{\"type\":\"map\",\"entries\":[[\"x\",{\"type\":\"ndarray\",\"array\":{\"type\":\"bytes\",\"data\":\"AAAAAOCZ8MAAAAAAwIrvwAAAAACA4e3AAAAAAAA57MAAAAAAAJDqwAAAAACA5ujAAAAAACA958AAAAAAAJXlwAAAAACg6+PAAAAAAIBC4sAAAAAAwJngwAAAAABA4d3AAAAAAACP2sAAAAAAgD3XwAAAAAAA7NPAAAAAAACa0MAAAAAAAJDKwAAAAACA6sPAAAAAAACQusAAAAAAAJCqwAAAAAAAAAAAAAAAAACSqkAAAAAAAJC6QAAAAAAA7MNAAAAAAACQykAAAAAAwJrQQAAAAADA7NNAAAAAAAA+10AAAAAAAJHaQAAAAABA4t1AAAAAAECa4EAAAAAAAEPiQAAAAACA7ONAAAAAACCV5UAAAAAAAD7nQAAAAAAA5+hAAAAAAGCQ6kAAAAAAADnsQAAAAABA4u1AAAAAAACL70AAAAAAEJrwQAAAAADAbvFAAAAAAEBD8kAAAAAAgBfzQAAAAAAg7PNAAAAAAIDA9EAAAAAAAJX1QAAAAACwafZAAAAAAIA+90AAAAAAoBL4QAAAAAAw5/hAAAAAAIC7+UAAAAAAAJD6QAAAAACQZPtAAAAAADA5/EAAAAAAsA39QAAAAAAA4v1AAAAAAIC2/kAAAAAAAIv/QAAAAADILwBBAAAAABiaAEEAAAAASAQBQQAAAACgbgFBAAAAAODYAUEAAAAAEEMCQQAAAABArQJBAAAAAJgXA0EAAAAA6IEDQQAAAAAI7ANBAAAAAEBWBEEAAAAAiMAEQQAAAADAKgVBAAAAACCVBUEAAAAAUP8FQQAAAACAaQZBAAAAAMDTBkEAAAAAAD4HQQAAAABAqAdBAAAAAJASCEEAAAAA0HwIQQAAAAAA5whBAAAAAEBRCUEAAAAAiLsJQQAAAADAJQpBAAAAAACQCkEAAAAAUPoKQQAAAACAZAtBAAAAAMDOC0EAAAAAADkMQQAAAABAowxBAAAAAIANDUEAAAAAwHcNQQAAAAAA4g1BAAAAAEBMDkEAAAAAgLYOQQ==\"},\"shape\":[95],\"dtype\":\"float64\",\"order\":\"little\"}],[\"y\",{\"type\":\"ndarray\",\"array\":{\"type\":\"bytes\",\"data\":\"mpmZmZmZuT+amZmZmZm5P5qZmZmZmbk/mpmZmZmZuT+amZmZmZm5P5qZmZmZmbk/mpmZmZmZuT+amZmZmZm5P5qZmZmZmbk/mpmZmZmZuT+amZmZmZm5P5qZmZmZmbk/mpmZmZmZuT+amZmZmZm5P5qZmZmZmbk/mpmZmZmZuT+amZmZmZm5P5qZmZmZmbk/mpmZmZmZuT+amZmZmZm5P5qZmZmZmbm/mpmZmZmZub+amZmZmZm5v5qZmZmZmbm/mpmZmZmZub+amZmZmZm5v5qZmZmZmbm/mpmZmZmZub+amZmZmZm5v5qZmZmZmbm/mpmZmZmZub+amZmZmZm5v5qZmZmZmbm/mpmZmZmZub+amZmZmZm5v5qZmZmZmbm/mpmZmZmZub+amZmZmZm5v5qZmZmZmbm/mpmZmZmZub+amZmZmZm5v5qZmZmZmbm/mpmZmZmZub+amZmZmZm5v5qZmZmZmbm/mpmZmZmZuT+amZmZmZm5P5qZmZmZmbk/mpmZmZmZuT+amZmZmZm5P5qZmZmZmbk/mpmZmZmZuT+amZmZmZm5P5qZmZmZmbk/mpmZmZmZuT+amZmZmZm5P5qZmZmZmbk/mpmZmZmZuT+amZmZmZm5P5qZmZmZmbk/mpmZmZmZuT+amZmZmZm5P5qZmZmZmbk/mpmZmZmZuT+amZmZmZm5P5qZmZmZmbk/mpmZmZmZuT+amZmZmZm5P5qZmZmZmbk/mpmZmZmZuT+amZmZmZm5v5qZmZmZmbm/mpmZmZmZub+amZmZmZm5v5qZmZmZmbm/mpmZmZmZub+amZmZmZm5v5qZmZmZmbm/mpmZmZmZub+amZmZmZm5v5qZmZmZmbm/mpmZmZmZub+amZmZmZm5v5qZmZmZmbm/mpmZmZmZub+amZmZmZm5v5qZmZmZmbm/mpmZmZmZub+amZmZmZm5v5qZmZmZmbm/mpmZmZmZub+amZmZmZm5v5qZmZmZmbm/mpmZmZmZub+amZmZmZm5vw==\"},\"shape\":[95],\"dtype\":\"float64\",\"order\":\"little\"}]]}}},\"view\":{\"type\":\"object\",\"name\":\"CDSView\",\"id\":\"p203980\",\"attributes\":{\"filter\":{\"type\":\"object\",\"name\":\"AllIndices\",\"id\":\"p203981\"}}},\"glyph\":{\"type\":\"object\",\"name\":\"Step\",\"id\":\"p203976\",\"attributes\":{\"x\":{\"type\":\"field\",\"field\":\"x\"},\"y\":{\"type\":\"field\",\"field\":\"y\"},\"line_dash\":[2,4],\"mode\":\"after\"}},\"nonselection_glyph\":{\"type\":\"object\",\"name\":\"Step\",\"id\":\"p203977\",\"attributes\":{\"x\":{\"type\":\"field\",\"field\":\"x\"},\"y\":{\"type\":\"field\",\"field\":\"y\"},\"line_alpha\":0.1,\"line_dash\":[2,4],\"mode\":\"after\"}},\"muted_glyph\":{\"type\":\"object\",\"name\":\"Step\",\"id\":\"p203978\",\"attributes\":{\"x\":{\"type\":\"field\",\"field\":\"x\"},\"y\":{\"type\":\"field\",\"field\":\"y\"},\"line_alpha\":0.2,\"line_dash\":[2,4],\"mode\":\"after\"}}}},{\"type\":\"object\",\"name\":\"GlyphRenderer\",\"id\":\"p203988\",\"attributes\":{\"data_source\":{\"type\":\"object\",\"name\":\"ColumnDataSource\",\"id\":\"p203982\",\"attributes\":{\"selected\":{\"type\":\"object\",\"name\":\"Selection\",\"id\":\"p203984\",\"attributes\":{\"indices\":[],\"line_indices\":[]}},\"selection_policy\":{\"type\":\"object\",\"name\":\"UnionRenderers\",\"id\":\"p203983\"},\"data\":{\"type\":\"map\",\"entries\":[[\"x\",{\"type\":\"ndarray\",\"array\":{\"type\":\"bytes\",\"data\":\"AAAAABCa8MAAAAAAIIvvwAAAAAAg4u3AAAAAACA57MAAAAAAIJDqwAAAAAAg5+jAAAAAAOA958AAAAAAgJTlwAAAAACg6+PAAAAAACBD4sAAAAAAgJjgwAAAAABA4t3AAAAAAECQ2sAAAAAAQD7XwAAAAADA69PAAAAAAECZ0MAAAAAAgI7KwAAAAACA7MPAAAAAAACOusAAAAAAAJKqwAAAAAAAAAAAAAAAAACOqkAAAAAAAJO6QAAAAACA68NAAAAAAICQykAAAAAAQJvQQAAAAABA7NNAAAAAAAA+10AAAAAAQJDaQAAAAADA4d1AAAAAAACa4EAAAAAAAEPiQAAAAAAg7ONAAAAAAOCU5UAAAAAA4D3nQAAAAABg6OhAAAAAACCQ6kAAAAAA4DjsQAAAAADg4e1AAAAAAECL70AAAAAAMJrwQAAAAACQbvFAAAAAABBD8kAAAAAAgBfzQAAAAADw6/NAAAAAAHDA9EAAAAAA8JT1QAAAAADAafZAAAAAAPA990AAAAAAcBL4QAAAAADw5vhAAAAAAHC7+UAAAAAAIJD6QAAAAACgZPtAAAAAAPA4/EAAAAAAMA79QAAAAADw4f1AAAAAAHC2/kAAAAAA8Ir/QAAAAAC4LwBBAAAAAACaAEEAAAAAQAQBQQAAAAB4bgFBAAAAALjYAUEAAAAA+EICQQAAAABorQJBAAAAAHgXA0EAAAAAuIEDQQAAAAD46wNBAAAAADhWBEEAAAAAkMAEQQAAAAC4KgVBAAAAAPiUBUEAAAAAOP8FQQAAAAB4aQZBAAAAAMDTBkEAAAAA+D0HQQAAAAA4qAdBAAAAAHgSCEEAAAAAuHwIQQAAAAAQ5whBAAAAADhRCUEAAAAAeLsJQQAAAAC4JQpBAAAAAPiPCkEAAAAASPoKQQAAAAB4ZAtBAAAAALjOC0EAAAAA+DgMQQAAAAA4owxBAAAAAJgNDUEAAAAAuHcNQQAAAAD44Q1BAAAAADhMDkEAAAAAeLYOQQ==\"},\"shape\":[95],\"dtype\":\"float64\",\"order\":\"little\"}],[\"y\",{\"type\":\"ndarray\",\"array\":{\"type\":\"bytes\",\"data\":\"KnKIuDmVsD8j3GRUGcaxPyPcZFQZxrE/I9xkVBnGsT9lpUkp6PayP14PJsXHJ7Q/ZaVJKej2sj9eDybFxye0P14PJsXHJ7Q/Xg8mxccntD9lpUkp6PayP6HYCpqWWLU/Xg8mxccntD9eDybFxye0P2WlSSno9rI/mkLnNXaJtj9eDybFxye0P2WlSSno9rI/odgKmpZYtT9eDybFxye0P14PJsXHJ7Q/3X2OjxZnrD8j9gmgGFmCP5kMx/MZUJ+/QukLIef9p78YWwhyUMKwvxhbCHJQwrC/GFsIclDCsL9Ujsni/iOzv034pX7eVLS/Tfilft5UtL8RxeQNMPOxv034pX7eVLS/VI7J4v4js79N+KV+3lS0v1SOyeL+I7O/Tfilft5UtL9N+KV+3lS0v1SOyeL+I7O/iCtn74y2tr+QwYpTrYW1v4grZ++Mtra/Tfilft5UtL+QwYpTrYW1v1SOyeL+I7O/UMO3sG68s7+5T44CRMGsv5Y9CWzOwYO/4297gsR2lz9lFwyuuaOnP2WlSSno9rI/I9xkVBnGsT8qcoi4OZWwPyPcZFQZxrE/I9xkVBnGsT9lpUkp6PayP14PJsXHJ7Q/odgKmpZYtT9eDybFxye0P6HYCpqWWLU/Xg8mxccntD9lpUkp6PayP14PJsXHJ7Q/Xg8mxccntD9lpUkp6PayP5pC5zV2ibY/mkLnNXaJtj+h2Aqalli1P6HYCpqWWLU/3QvMCkW6tz+h2Aqalli1P919jo8WZ6w/GVjH8UOlcT/artAHy9igv8HlsWZkkKu/qyNHOgMjr79Ujsni/iOzv1SOyeL+I7O/VI7J4v4js78RxeQNMPOxv1DDt7BuvLO/VI7J4v4js7+QwYpTrYW1v034pX7eVLS/Tfilft5UtL8RxeQNMPOxv1SOyeL+I7O/k4ychT3ttL9N+KV+3lS0vxHF5A0w87G/VI7J4v4js7+QwYpTrYW1v5DBilOthbW/kMGKU62Ftb+QwYpTrYW1vw==\"},\"shape\":[95],\"dtype\":\"float64\",\"order\":\"little\"}]]}}},\"view\":{\"type\":\"object\",\"name\":\"CDSView\",\"id\":\"p203989\",\"attributes\":{\"filter\":{\"type\":\"object\",\"name\":\"AllIndices\",\"id\":\"p203990\"}}},\"glyph\":{\"type\":\"object\",\"name\":\"Step\",\"id\":\"p203985\",\"attributes\":{\"x\":{\"type\":\"field\",\"field\":\"x\"},\"y\":{\"type\":\"field\",\"field\":\"y\"},\"line_color\":\"#1f77b4\",\"mode\":\"after\"}},\"nonselection_glyph\":{\"type\":\"object\",\"name\":\"Step\",\"id\":\"p203986\",\"attributes\":{\"x\":{\"type\":\"field\",\"field\":\"x\"},\"y\":{\"type\":\"field\",\"field\":\"y\"},\"line_color\":\"#1f77b4\",\"line_alpha\":0.1,\"mode\":\"after\"}},\"muted_glyph\":{\"type\":\"object\",\"name\":\"Step\",\"id\":\"p203987\",\"attributes\":{\"x\":{\"type\":\"field\",\"field\":\"x\"},\"y\":{\"type\":\"field\",\"field\":\"y\"},\"line_color\":\"#1f77b4\",\"line_alpha\":0.2,\"mode\":\"after\"}}}},{\"type\":\"object\",\"name\":\"GlyphRenderer\",\"id\":\"p203997\",\"attributes\":{\"data_source\":{\"type\":\"object\",\"name\":\"ColumnDataSource\",\"id\":\"p203991\",\"attributes\":{\"selected\":{\"type\":\"object\",\"name\":\"Selection\",\"id\":\"p203993\",\"attributes\":{\"indices\":[],\"line_indices\":[]}},\"selection_policy\":{\"type\":\"object\",\"name\":\"UnionRenderers\",\"id\":\"p203992\"},\"data\":{\"type\":\"map\",\"entries\":[[\"x\",{\"type\":\"ndarray\",\"array\":{\"type\":\"bytes\",\"data\":\"AAAAABCa8MAAAAAAIIvvwAAAAAAg4u3AAAAAACA57MAAAAAAIJDqwAAAAAAg5+jAAAAAAOA958AAAAAAgJTlwAAAAACg6+PAAAAAACBD4sAAAAAAgJjgwAAAAABA4t3AAAAAAECQ2sAAAAAAQD7XwAAAAADA69PAAAAAAECZ0MAAAAAAgI7KwAAAAACA7MPAAAAAAACOusAAAAAAAJKqwAAAAAAAAAAAAAAAAACOqkAAAAAAAJO6QAAAAACA68NAAAAAAICQykAAAAAAQJvQQAAAAABA7NNAAAAAAAA+10AAAAAAQJDaQAAAAADA4d1AAAAAAACa4EAAAAAAAEPiQAAAAAAg7ONAAAAAAOCU5UAAAAAA4D3nQAAAAABg6OhAAAAAACCQ6kAAAAAA4DjsQAAAAADg4e1AAAAAAECL70AAAAAAMJrwQAAAAACQbvFAAAAAABBD8kAAAAAAgBfzQAAAAADw6/NAAAAAAHDA9EAAAAAA8JT1QAAAAADAafZAAAAAAPA990AAAAAAcBL4QAAAAADw5vhAAAAAAHC7+UAAAAAAIJD6QAAAAACgZPtAAAAAAPA4/EAAAAAAMA79QAAAAADw4f1AAAAAAHC2/kAAAAAA8Ir/QAAAAAC4LwBBAAAAAACaAEEAAAAAQAQBQQAAAAB4bgFBAAAAALjYAUEAAAAA+EICQQAAAABorQJBAAAAAHgXA0EAAAAAuIEDQQAAAAD46wNBAAAAADhWBEEAAAAAkMAEQQAAAAC4KgVBAAAAAPiUBUEAAAAAOP8FQQAAAAB4aQZBAAAAAMDTBkEAAAAA+D0HQQAAAAA4qAdBAAAAAHgSCEEAAAAAuHwIQQAAAAAQ5whBAAAAADhRCUEAAAAAeLsJQQAAAAC4JQpBAAAAAPiPCkEAAAAASPoKQQAAAAB4ZAtBAAAAALjOC0EAAAAA+DgMQQAAAAA4owxBAAAAAJgNDUEAAAAAuHcNQQAAAAD44Q1BAAAAADhMDkEAAAAAeLYOQQ==\"},\"shape\":[95],\"dtype\":\"float64\",\"order\":\"little\"}],[\"y\",{\"type\":\"ndarray\",\"array\":{\"type\":\"bytes\",\"data\":\"KnKIuDmVsD8j3GRUGcaxPyPcZFQZxrE/I9xkVBnGsT9lpUkp6PayP14PJsXHJ7Q/ZaVJKej2sj9eDybFxye0P14PJsXHJ7Q/Xg8mxccntD9lpUkp6PayP6HYCpqWWLU/Xg8mxccntD9eDybFxye0P2WlSSno9rI/mkLnNXaJtj9eDybFxye0P2WlSSno9rI/odgKmpZYtT9eDybFxye0P14PJsXHJ7Q/3X2OjxZnrD8j9gmgGFmCP5kMx/MZUJ+/QukLIef9p78YWwhyUMKwvxhbCHJQwrC/GFsIclDCsL9Ujsni/iOzv034pX7eVLS/Tfilft5UtL8RxeQNMPOxv034pX7eVLS/VI7J4v4js79N+KV+3lS0v1SOyeL+I7O/Tfilft5UtL9N+KV+3lS0v1SOyeL+I7O/iCtn74y2tr+QwYpTrYW1v4grZ++Mtra/Tfilft5UtL+QwYpTrYW1v1SOyeL+I7O/UMO3sG68s7+5T44CRMGsv5Y9CWzOwYO/4297gsR2lz9lFwyuuaOnP2WlSSno9rI/I9xkVBnGsT8qcoi4OZWwPyPcZFQZxrE/I9xkVBnGsT9lpUkp6PayP14PJsXHJ7Q/odgKmpZYtT9eDybFxye0P6HYCpqWWLU/Xg8mxccntD9lpUkp6PayP14PJsXHJ7Q/Xg8mxccntD9lpUkp6PayP5pC5zV2ibY/mkLnNXaJtj+h2Aqalli1P6HYCpqWWLU/3QvMCkW6tz+h2Aqalli1P919jo8WZ6w/GVjH8UOlcT/artAHy9igv8HlsWZkkKu/qyNHOgMjr79Ujsni/iOzv1SOyeL+I7O/VI7J4v4js78RxeQNMPOxv1DDt7BuvLO/VI7J4v4js7+QwYpTrYW1v034pX7eVLS/Tfilft5UtL8RxeQNMPOxv1SOyeL+I7O/k4ychT3ttL9N+KV+3lS0vxHF5A0w87G/VI7J4v4js7+QwYpTrYW1v5DBilOthbW/kMGKU62Ftb+QwYpTrYW1vw==\"},\"shape\":[95],\"dtype\":\"float64\",\"order\":\"little\"}]]}}},\"view\":{\"type\":\"object\",\"name\":\"CDSView\",\"id\":\"p203998\",\"attributes\":{\"filter\":{\"type\":\"object\",\"name\":\"AllIndices\",\"id\":\"p203999\"}}},\"glyph\":{\"type\":\"object\",\"name\":\"Circle\",\"id\":\"p203994\",\"attributes\":{\"x\":{\"type\":\"field\",\"field\":\"x\"},\"y\":{\"type\":\"field\",\"field\":\"y\"},\"size\":{\"type\":\"value\",\"value\":2},\"line_color\":{\"type\":\"value\",\"value\":\"#1f77b4\"},\"fill_color\":{\"type\":\"value\",\"value\":\"#1f77b4\"}}},\"nonselection_glyph\":{\"type\":\"object\",\"name\":\"Circle\",\"id\":\"p203995\",\"attributes\":{\"x\":{\"type\":\"field\",\"field\":\"x\"},\"y\":{\"type\":\"field\",\"field\":\"y\"},\"size\":{\"type\":\"value\",\"value\":2},\"line_color\":{\"type\":\"value\",\"value\":\"#1f77b4\"},\"line_alpha\":{\"type\":\"value\",\"value\":0.1},\"fill_color\":{\"type\":\"value\",\"value\":\"#1f77b4\"},\"fill_alpha\":{\"type\":\"value\",\"value\":0.1},\"hatch_alpha\":{\"type\":\"value\",\"value\":0.1}}},\"muted_glyph\":{\"type\":\"object\",\"name\":\"Circle\",\"id\":\"p203996\",\"attributes\":{\"x\":{\"type\":\"field\",\"field\":\"x\"},\"y\":{\"type\":\"field\",\"field\":\"y\"},\"size\":{\"type\":\"value\",\"value\":2},\"line_color\":{\"type\":\"value\",\"value\":\"#1f77b4\"},\"line_alpha\":{\"type\":\"value\",\"value\":0.2},\"fill_color\":{\"type\":\"value\",\"value\":\"#1f77b4\"},\"fill_alpha\":{\"type\":\"value\",\"value\":0.2},\"hatch_alpha\":{\"type\":\"value\",\"value\":0.2}}}}},{\"type\":\"object\",\"name\":\"GlyphRenderer\",\"id\":\"p204006\",\"attributes\":{\"data_source\":{\"type\":\"object\",\"name\":\"ColumnDataSource\",\"id\":\"p204000\",\"attributes\":{\"selected\":{\"type\":\"object\",\"name\":\"Selection\",\"id\":\"p204002\",\"attributes\":{\"indices\":[],\"line_indices\":[]}},\"selection_policy\":{\"type\":\"object\",\"name\":\"UnionRenderers\",\"id\":\"p204001\"},\"data\":{\"type\":\"map\",\"entries\":[[\"x\",{\"type\":\"ndarray\",\"array\":{\"type\":\"bytes\",\"data\":\"AAAAABCa8MAAAAAAIIvvwAAAAAAg4u3AAAAAACA57MAAAAAAIJDqwAAAAAAg5+jAAAAAAOA958AAAAAAgJTlwAAAAACg6+PAAAAAACBD4sAAAAAAgJjgwAAAAABA4t3AAAAAAECQ2sAAAAAAQD7XwAAAAADA69PAAAAAAECZ0MAAAAAAgI7KwAAAAACA7MPAAAAAAACOusAAAAAAAJKqwAAAAAAAAAAAAAAAAACOqkAAAAAAAJO6QAAAAACA68NAAAAAAICQykAAAAAAQJvQQAAAAABA7NNAAAAAAAA+10AAAAAAQJDaQAAAAADA4d1AAAAAAACa4EAAAAAAAEPiQAAAAAAg7ONAAAAAAOCU5UAAAAAA4D3nQAAAAABg6OhAAAAAACCQ6kAAAAAA4DjsQAAAAADg4e1AAAAAAECL70AAAAAAMJrwQAAAAACQbvFAAAAAABBD8kAAAAAAgBfzQAAAAADw6/NAAAAAAHDA9EAAAAAA8JT1QAAAAADAafZAAAAAAPA990AAAAAAcBL4QAAAAADw5vhAAAAAAHC7+UAAAAAAIJD6QAAAAACgZPtAAAAAAPA4/EAAAAAAMA79QAAAAADw4f1AAAAAAHC2/kAAAAAA8Ir/QAAAAAC4LwBBAAAAAACaAEEAAAAAQAQBQQAAAAB4bgFBAAAAALjYAUEAAAAA+EICQQAAAABorQJBAAAAAHgXA0EAAAAAuIEDQQAAAAD46wNBAAAAADhWBEEAAAAAkMAEQQAAAAC4KgVBAAAAAPiUBUEAAAAAOP8FQQAAAAB4aQZBAAAAAMDTBkEAAAAA+D0HQQAAAAA4qAdBAAAAAHgSCEEAAAAAuHwIQQAAAAAQ5whBAAAAADhRCUEAAAAAeLsJQQAAAAC4JQpBAAAAAPiPCkEAAAAASPoKQQAAAAB4ZAtBAAAAALjOC0EAAAAA+DgMQQAAAAA4owxBAAAAAJgNDUEAAAAAuHcNQQAAAAD44Q1BAAAAADhMDkEAAAAAeLYOQQ==\"},\"shape\":[95],\"dtype\":\"float64\",\"order\":\"little\"}],[\"y\",{\"type\":\"ndarray\",\"array\":{\"type\":\"bytes\",\"data\":\"mpmZmZmZuT+amZmZmZm5P5qZmZmZmbk/mpmZmZmZuT+amZmZmZm5P5qZmZmZmbk/mpmZmZmZuT+amZmZmZm5P5qZmZmZmbk/mpmZmZmZuT+amZmZmZm5P5qZmZmZmbk/mpmZmZmZuT+amZmZmZm5P5qZmZmZmbk/mpmZmZmZuT+amZmZmZm5P5qZmZmZmbk/mpmZmZmZuT+amZmZmZm5P5qZmZmZmbm/mpmZmZmZub+amZmZmZm5v5qZmZmZmbm/mpmZmZmZub+amZmZmZm5v5qZmZmZmbm/mpmZmZmZub+amZmZmZm5v5qZmZmZmbm/mpmZmZmZub+amZmZmZm5v5qZmZmZmbm/mpmZmZmZub+amZmZmZm5v5qZmZmZmbm/mpmZmZmZub+amZmZmZm5v5qZmZmZmbm/mpmZmZmZub+amZmZmZm5v5qZmZmZmbm/mpmZmZmZub+amZmZmZm5v5qZmZmZmbm/mpmZmZmZuT+amZmZmZm5P5qZmZmZmbk/mpmZmZmZuT+amZmZmZm5P5qZmZmZmbk/mpmZmZmZuT+amZmZmZm5P5qZmZmZmbk/mpmZmZmZuT+amZmZmZm5P5qZmZmZmbk/mpmZmZmZuT+amZmZmZm5P5qZmZmZmbk/mpmZmZmZuT+amZmZmZm5P5qZmZmZmbk/mpmZmZmZuT+amZmZmZm5P5qZmZmZmbk/mpmZmZmZuT+amZmZmZm5P5qZmZmZmbk/mpmZmZmZuT+amZmZmZm5v5qZmZmZmbm/mpmZmZmZub+amZmZmZm5v5qZmZmZmbm/mpmZmZmZub+amZmZmZm5v5qZmZmZmbm/mpmZmZmZub+amZmZmZm5v5qZmZmZmbm/mpmZmZmZub+amZmZmZm5v5qZmZmZmbm/mpmZmZmZub+amZmZmZm5v5qZmZmZmbm/mpmZmZmZub+amZmZmZm5v5qZmZmZmbm/mpmZmZmZub+amZmZmZm5v5qZmZmZmbm/mpmZmZmZub+amZmZmZm5vw==\"},\"shape\":[95],\"dtype\":\"float64\",\"order\":\"little\"}]]}}},\"view\":{\"type\":\"object\",\"name\":\"CDSView\",\"id\":\"p204007\",\"attributes\":{\"filter\":{\"type\":\"object\",\"name\":\"AllIndices\",\"id\":\"p204008\"}}},\"glyph\":{\"type\":\"object\",\"name\":\"Step\",\"id\":\"p204003\",\"attributes\":{\"x\":{\"type\":\"field\",\"field\":\"x\"},\"y\":{\"type\":\"field\",\"field\":\"y\"},\"line_dash\":[2,4],\"mode\":\"after\"}},\"nonselection_glyph\":{\"type\":\"object\",\"name\":\"Step\",\"id\":\"p204004\",\"attributes\":{\"x\":{\"type\":\"field\",\"field\":\"x\"},\"y\":{\"type\":\"field\",\"field\":\"y\"},\"line_alpha\":0.1,\"line_dash\":[2,4],\"mode\":\"after\"}},\"muted_glyph\":{\"type\":\"object\",\"name\":\"Step\",\"id\":\"p204005\",\"attributes\":{\"x\":{\"type\":\"field\",\"field\":\"x\"},\"y\":{\"type\":\"field\",\"field\":\"y\"},\"line_alpha\":0.2,\"line_dash\":[2,4],\"mode\":\"after\"}}}}],\"toolbar\":{\"type\":\"object\",\"name\":\"Toolbar\",\"id\":\"p203705\",\"attributes\":{\"tools\":[{\"type\":\"object\",\"name\":\"BoxZoomTool\",\"id\":\"p203696\",\"attributes\":{\"overlay\":{\"type\":\"object\",\"name\":\"BoxAnnotation\",\"id\":\"p203697\",\"attributes\":{\"syncable\":false,\"level\":\"overlay\",\"visible\":false,\"left_units\":\"canvas\",\"right_units\":\"canvas\",\"bottom_units\":\"canvas\",\"top_units\":\"canvas\",\"line_color\":\"black\",\"line_alpha\":1.0,\"line_width\":2,\"line_dash\":[4,4],\"fill_color\":\"lightgrey\",\"fill_alpha\":0.5}}}},{\"type\":\"object\",\"name\":\"CrosshairTool\",\"id\":\"p203698\"},{\"type\":\"object\",\"name\":\"HoverTool\",\"id\":\"p203695\",\"attributes\":{\"renderers\":\"auto\",\"tooltips\":[[\"index\",\"$index\"],[\"(x,y)\",\"(@x, @y)\"]]}},{\"type\":\"object\",\"name\":\"PanTool\",\"id\":\"p203699\",\"attributes\":{\"dimensions\":\"width\"}},{\"type\":\"object\",\"name\":\"ResetTool\",\"id\":\"p203700\"}]}},\"left\":[{\"type\":\"object\",\"name\":\"LinearAxis\",\"id\":\"p203725\",\"attributes\":{\"ticker\":{\"type\":\"object\",\"name\":\"BasicTicker\",\"id\":\"p203728\",\"attributes\":{\"mantissas\":[1,2,5]}},\"formatter\":{\"type\":\"object\",\"name\":\"BasicTickFormatter\",\"id\":\"p203727\"},\"major_label_policy\":{\"type\":\"object\",\"name\":\"AllLabels\",\"id\":\"p203726\"}}}],\"below\":[{\"type\":\"object\",\"name\":\"LinearAxis\",\"id\":\"p203718\",\"attributes\":{\"ticker\":{\"type\":\"object\",\"name\":\"BasicTicker\",\"id\":\"p203721\",\"attributes\":{\"mantissas\":[1,2,5]}},\"formatter\":{\"type\":\"object\",\"name\":\"BasicTickFormatter\",\"id\":\"p203720\"},\"major_label_policy\":{\"type\":\"object\",\"name\":\"AllLabels\",\"id\":\"p203719\"}}}],\"center\":[{\"type\":\"object\",\"name\":\"Grid\",\"id\":\"p203724\",\"attributes\":{\"axis\":{\"id\":\"p203718\"}}},{\"type\":\"object\",\"name\":\"Grid\",\"id\":\"p203731\",\"attributes\":{\"dimension\":1,\"axis\":{\"id\":\"p203725\"}}}]}}],\"callbacks\":{\"type\":\"map\"}}};\n  const render_items = [{\"docid\":\"cf653fa1-0cb7-4356-beed-fd460885f398\",\"roots\":{\"p203701\":\"a8f529e0-4d8e-4c34-a1fa-b22e29bf88dc\"},\"root_ids\":[\"p203701\"]}];\n  root.Bokeh.embed.embed_items_notebook(docs_json, render_items);\n  }\n  if (root.Bokeh !== undefined) {\n    embed_document(root);\n  } else {\n    let attempts = 0;\n    const timer = setInterval(function(root) {\n      if (root.Bokeh !== undefined) {\n        clearInterval(timer);\n        embed_document(root);\n      } else {\n        attempts++;\n        if (attempts > 100) {\n          clearInterval(timer);\n          console.log(\"Bokeh: ERROR: Unable to run BokehJS code because BokehJS library is missing\");\n        }\n      }\n    }, 10, root)\n  }\n})(window);",
      "application/vnd.bokehjs_exec.v0+json": ""
     },
     "metadata": {
      "application/vnd.bokehjs_exec.v0+json": {
       "id": "p203701"
      }
     },
     "output_type": "display_data"
    }
   ],
   "source": [
    "# create a plot\n",
    "hover = HoverTool(tooltips=[\n",
    "    (\"index\", \"$index\"),\n",
    "    (\"(x,y)\", \"(@x, @y)\"),\n",
    "])\n",
    "\n",
    "p = figure(\n",
    "    tools=[BoxZoomTool(), CrosshairTool(), hover, PanTool(dimensions='width'), ResetTool()],\n",
    "    width=800,\n",
    "    height=400,\n",
    ")\n",
    "\n",
    "# add a renderer\n",
    "for flog in flogs:\n",
    "    y = np.array(flog['iq_meas_filt'])\n",
    "    y2 = np.array(flog['iq_des'])\n",
    "    threshold = 0.5 * np.max(y2)\n",
    "    rising_edge_index = np.argmax(y2 > threshold)\n",
    "    falling_edge_index = np.argmax(-y2[rising_edge_index:] > threshold)\n",
    "    x = np.array(flog['timestamp'])\n",
    "    x -= x[rising_edge_index:][falling_edge_index]\n",
    "    \n",
    "    p.step(x, y, mode='after')\n",
    "    p.circle(x, y, size=2)\n",
    "    p.step(x, y2, mode='after', color='black', line_dash='dotted')\n",
    "\n",
    "\n",
    "# show the results\n",
    "show(p)"
   ]
  },
  {
   "cell_type": "code",
   "execution_count": 17,
   "metadata": {},
   "outputs": [],
   "source": [
    "import dataclasses\n",
    "\n",
    "@dataclasses.dataclass\n",
    "class BodePoint:\n",
    "    frequency: float\n",
    "    gain: float\n",
    "    phase: float\n",
    "\n",
    "def compute_magnitude_phase(signal: np.ndarray, sample_period: float) -> BodePoint:\n",
    "    num_samples = len(signal)\n",
    "    num_halfwidth = int(0.5 * num_samples)\n",
    "    fft_freq = np.fft.fftfreq(num_samples, sample_period)\n",
    "\n",
    "    dft = np.fft.fft(signal)\n",
    "    idx_max_dft = np.argmax(np.abs(dft[1:num_halfwidth])) + 1\n",
    "    max_fft = dft[idx_max_dft]\n",
    "    gain = np.abs(max_fft) / num_halfwidth\n",
    "    phase = np.angle(max_fft)\n",
    "    frequency = fft_freq[idx_max_dft]\n",
    "\n",
    "    \n",
    "    return BodePoint(frequency, gain, phase)\n",
    "\n",
    "class MotorOperator:\n",
    "    def __init__(self):\n",
    "        self.motor_manager = motor.MotorManager()\n",
    "        self.start_time = time.time_ns()\n",
    "        self.times = []\n",
    "\n",
    "    def _pseudo_time(self):\n",
    "        self.times.append(time.time_ns())\n",
    "        return len(self.times)\n",
    "\n",
    "    def _send_command(self, command):\n",
    "        return self.motor_manager.write([command])\n",
    "    \n",
    "    @property\n",
    "    def current_motor(self):\n",
    "        return self.motor_manager.motors()[0]\n",
    "    \n",
    "    def get_fast_log(self):\n",
    "        return self.current_motor.get_fast_log()\n",
    "\n",
    "    def brake(self):\n",
    "        return self._send_command(\n",
    "            motor.Command(host_timestamp=self._pseudo_time(), mode=motor.Damped)\n",
    "        )\n",
    "\n",
    "    def open(self):\n",
    "        return self._send_command(\n",
    "            motor.Command(host_timestamp=self._pseudo_time(), mode=motor.Open)\n",
    "        )\n",
    "\n",
    "    def current(self, magnitude):\n",
    "        command = motor.Command(\n",
    "            host_timestamp=self._pseudo_time(), mode=motor.Current\n",
    "        )\n",
    "        command.current_desired = magnitude\n",
    "        return self._send_command(command)\n",
    "\n",
    "    def phase_lock(self, magnitude):\n",
    "        command = motor.Command(\n",
    "            host_timestamp=self._pseudo_time(), mode=motor.PhaseLock\n",
    "        )\n",
    "        command.current_desired = magnitude\n",
    "        return self._send_command(command)\n",
    "\n",
    "    def current_tuning(self, amplitude, frequency, mode=motor.Square, bias=0.0):\n",
    "        command = motor.Command(\n",
    "            host_timestamp=self._pseudo_time(), mode=motor.CurrentTuning\n",
    "        )\n",
    "        command.current_tuning.amplitude = amplitude\n",
    "        command.current_tuning.frequency = frequency\n",
    "        command.current_tuning.bias = bias\n",
    "        command.current_tuning.mode = mode\n",
    "        return self._send_command(command)\n",
    "    \n",
    "    def current_tuning_bode(self, amplitude, bias=0.0, start_frequency_hz=100, end_frequency_hz=10000, increment_hz=100) -> list[BodePoint]:\n",
    "        bode_points = []\n",
    "        cpu_frequency = self.current_motor.get_cpu_frequency()\n",
    "        for f in np.arange(start_frequency_hz, end_frequency_hz, increment_hz):\n",
    "            self.current_tuning(amplitude=amplitude, frequency=f, mode=motor.Sine, bias=bias)\n",
    "            time.sleep(0.5)\n",
    "            fast_log = self.get_fast_log()\n",
    "            time_s = np.array(fast_log[\"timestamp\"]) / cpu_frequency\n",
    "            iq_des = np.array(fast_log[\"iq_des\"])\n",
    "            iq_mes = np.array(fast_log[\"iq_meas_filt\"])\n",
    "            sample_period = np.mean(np.diff(time_s))\n",
    "            bode_iq_des = compute_magnitude_phase(iq_des, sample_period)\n",
    "            bode_iq_mes = compute_magnitude_phase(iq_mes, sample_period)\n",
    "            print(f'{f} Hz - m={bode_iq_mes.frequency} d={bode_iq_des.frequency}')\n",
    "            bode_points.append(BodePoint(f, bode_iq_mes.gain / bode_iq_des.gain, bode_iq_mes.phase - bode_iq_des.phase))\n",
    "        return bode_points\n",
    "\n",
    "\n",
    "\n"
   ]
  },
  {
   "cell_type": "code",
   "execution_count": 5,
   "metadata": {},
   "outputs": [],
   "source": []
  },
  {
   "cell_type": "code",
   "execution_count": 20,
   "metadata": {},
   "outputs": [
    {
     "name": "stdout",
     "output_type": "stream",
     "text": [
      "100 Hz - m=526.31743627405 d=526.31743627405\n",
      "200 Hz - m=526.31743627405 d=526.31743627405\n",
      "300 Hz - m=526.3157894737174 d=526.3157894737174\n",
      "400 Hz - m=526.3157894737174 d=526.3157894737174\n",
      "500 Hz - m=526.3339048461819 d=526.3339048461819\n",
      "600 Hz - m=526.3207299066264 d=526.3207299066264\n",
      "700 Hz - m=526.3157894737174 d=526.3157894737174\n",
      "800 Hz - m=526.3157894737174 d=526.3157894737174\n",
      "900 Hz - m=1052.6315789474347 d=1052.6315789474347\n",
      "1000 Hz - m=1052.6315789474347 d=1052.6315789474347\n",
      "1100 Hz - m=1052.6315789474347 d=1052.6315789474347\n",
      "1200 Hz - m=1052.6315789474347 d=1052.6315789474347\n",
      "1300 Hz - m=1052.6315789474347 d=1052.6315789474347\n",
      "1400 Hz - m=1578.9473684210586 d=1578.9473684210586\n",
      "1500 Hz - m=1578.9523088225228 d=1578.9523088225228\n",
      "1600 Hz - m=1578.9523088225228 d=1578.9523088225228\n",
      "1700 Hz - m=1578.9572492551831 d=1578.9572492551831\n",
      "1800 Hz - m=1578.9523088225228 d=1578.9523088225228\n",
      "1900 Hz - m=2105.2631578948694 d=2105.2631578948694\n",
      "2000 Hz - m=2105.276332339747 d=2105.276332339747\n",
      "2100 Hz - m=2105.2631578948694 d=2105.2631578948694\n",
      "2200 Hz - m=2105.276332339747 d=2105.276332339747\n",
      "2300 Hz - m=2105.2631578948694 d=2105.2631578948694\n",
      "2400 Hz - m=2631.6859934194213 d=2631.6859934194213\n",
      "2500 Hz - m=2631.6036495306457 d=2631.6036495306457\n",
      "2600 Hz - m=2631.578947368587 d=2631.578947368587\n",
      "2700 Hz - m=2631.5871813727363 d=2631.5871813727363\n",
      "2800 Hz - m=2631.694228090977 d=2631.694228090977\n",
      "2900 Hz - m=3157.894736842304 d=2631.578947368587\n",
      "3000 Hz - m=3157.894736842304 d=3157.894736842304\n",
      "3100 Hz - m=3157.9144985111134 d=3157.9144985111134\n",
      "3200 Hz - m=3157.894736842304 d=3157.894736842304\n",
      "3300 Hz - m=3157.9046176443 d=3157.9046176443\n",
      "3400 Hz - m=3157.914498508129 d=3157.914498508129\n",
      "3500 Hz - m=3684.3027491615203 d=3684.3027491615203\n",
      "3600 Hz - m=3684.3373339197915 d=3684.3373339197915\n",
      "3700 Hz - m=3684.2105263160215 d=3684.2105263160215\n",
      "3800 Hz - m=3684.3488623156773 d=3684.3488623156773\n",
      "3900 Hz - m=3684.245109342904 d=3684.245109342904\n",
      "4000 Hz - m=4210.565839253011 d=4210.565839253011\n",
      "4100 Hz - m=4210.526315789739 d=4210.526315789739\n",
      "4200 Hz - m=4210.565839253011 d=4210.565839253011\n",
      "4300 Hz - m=4210.565839253011 d=4210.565839253011\n",
      "4400 Hz - m=4210.565839253011 d=4210.565839253011\n",
      "4500 Hz - m=4736.871747771144 d=4736.871747771144\n",
      "4600 Hz - m=4736.85692646645 d=4736.85692646645\n",
      "4700 Hz - m=4736.871747771144 d=4736.871747771144\n",
      "4800 Hz - m=4736.886569150686 d=4736.886569150686\n",
      "4900 Hz - m=4736.871747771144 d=4736.871747771144\n",
      "5000 Hz - m=4736.975499447346 d=5263.306110497051\n",
      "5100 Hz - m=5263.1743627405 d=5263.1743627405\n",
      "5200 Hz - m=5263.289641659314 d=5263.289641659314\n",
      "5300 Hz - m=5263.190830846881 d=5263.190830846881\n",
      "5400 Hz - m=5263.157894737174 d=5263.157894737174\n",
      "5500 Hz - m=5263.371986838998 d=5263.371986838998\n",
      "5600 Hz - m=5789.528028966738 d=5789.528028966738\n",
      "5700 Hz - m=5789.509913934989 d=5789.509913934989\n",
      "5800 Hz - m=5789.491799015917 d=5789.491799015917\n",
      "5900 Hz - m=5789.491799015917 d=5789.491799015917\n",
      "6000 Hz - m=5789.54614411253 d=5789.54614411253\n",
      "6100 Hz - m=6315.868520848542 d=6315.868520848542\n",
      "6200 Hz - m=6315.828997022227 d=6315.828997022227\n",
      "6300 Hz - m=6315.828997019242 d=6315.828997019242\n",
      "6400 Hz - m=6315.809235291585 d=6315.809235291585\n",
      "6500 Hz - m=6315.84875887355 d=6315.84875887355\n",
      "6600 Hz - m=6842.169488779678 d=6842.169488779678\n",
      "6700 Hz - m=6842.233715606793 d=6842.233715606793\n",
      "6800 Hz - m=6842.169488779678 d=6842.169488779678\n",
      "6900 Hz - m=6842.12667156265 d=6842.12667156265\n",
      "7000 Hz - m=6842.105263158326 d=6842.105263158326\n",
      "7100 Hz - m=6842.169488779678 d=6842.169488779678\n",
      "7200 Hz - m=7368.421052632043 d=7368.421052632043\n",
      "7300 Hz - m=7368.513274323299 d=7368.513274323299\n",
      "7400 Hz - m=7368.421052632043 d=7368.421052632043\n",
      "7500 Hz - m=7368.421052632043 d=7368.421052632043\n",
      "7600 Hz - m=7368.421052632043 d=7368.421052632043\n",
      "7700 Hz - m=7894.73684210576 d=7894.73684210576\n",
      "7800 Hz - m=7894.73684210576 d=7894.73684210576\n",
      "7900 Hz - m=7894.835651060677 d=7894.835651060677\n",
      "8000 Hz - m=7894.76154411075 d=7894.76154411075\n",
      "8100 Hz - m=7894.786246270322 d=7894.786246270322\n",
      "8200 Hz - m=8421.158027806014 d=8421.158027806014\n",
      "8300 Hz - m=8421.052631579478 d=8421.052631579478\n",
      "8400 Hz - m=8421.1580277901 d=8421.1580277901\n",
      "8500 Hz - m=8421.052631579478 d=8421.052631579478\n",
      "8600 Hz - m=8421.0789803848 d=8421.0789803848\n",
      "8700 Hz - m=8947.39641665885 d=8947.39641665885\n",
      "8800 Hz - m=8947.48040454389 d=8947.48040454389\n",
      "8900 Hz - m=8947.4244124397 d=8947.4244124397\n",
      "9000 Hz - m=8947.368421053196 d=8947.368421053196\n",
      "9100 Hz - m=8947.368421053196 d=8947.368421053196\n",
      "9200 Hz - m=8947.368421053196 d=8947.368421053196\n",
      "9300 Hz - m=9473.743495542289 d=9473.743495542289\n",
      "9400 Hz - m=9473.773138301372 d=9473.773138301372\n",
      "9500 Hz - m=9473.862067763252 d=9473.862067763252\n",
      "9600 Hz - m=9473.624926265267 d=9473.624926265267\n",
      "9700 Hz - m=9473.743495529423 d=9473.743495529423\n",
      "9800 Hz - m=10000.093868215274 d=10000.093868215274\n",
      "9900 Hz - m=10000.00000000063 d=10000.00000000063\n"
     ]
    }
   ],
   "source": [
    "mo = MotorOperator()\n",
    "bps = mo.current_tuning_bode(0.2)\n",
    "mo.open()"
   ]
  },
  {
   "cell_type": "code",
   "execution_count": 23,
   "metadata": {},
   "outputs": [
    {
     "data": {
      "text/html": [
       "\n",
       "  <div id=\"14d043a4-6915-4a63-bfd6-1126e4d5fe7d\" data-root-id=\"p2801\" style=\"display: contents;\"></div>\n"
      ]
     },
     "metadata": {},
     "output_type": "display_data"
    },
    {
     "data": {
      "application/javascript": "(function(root) {\n  function embed_document(root) {\n  const docs_json = {\"5689d6b9-a0b8-416e-828e-31702d911fbe\":{\"version\":\"3.1.0\",\"title\":\"Bokeh Application\",\"defs\":[],\"roots\":[{\"type\":\"object\",\"name\":\"Figure\",\"id\":\"p2801\",\"attributes\":{\"width\":800,\"height\":400,\"x_range\":{\"type\":\"object\",\"name\":\"DataRange1d\",\"id\":\"p2803\"},\"y_range\":{\"type\":\"object\",\"name\":\"DataRange1d\",\"id\":\"p2802\"},\"x_scale\":{\"type\":\"object\",\"name\":\"LogScale\",\"id\":\"p2814\"},\"y_scale\":{\"type\":\"object\",\"name\":\"LinearScale\",\"id\":\"p2816\"},\"title\":{\"type\":\"object\",\"name\":\"Title\",\"id\":\"p2809\"},\"renderers\":[{\"type\":\"object\",\"name\":\"GlyphRenderer\",\"id\":\"p2845\",\"attributes\":{\"data_source\":{\"type\":\"object\",\"name\":\"ColumnDataSource\",\"id\":\"p2839\",\"attributes\":{\"selected\":{\"type\":\"object\",\"name\":\"Selection\",\"id\":\"p2840\",\"attributes\":{\"indices\":[],\"line_indices\":[]}},\"selection_policy\":{\"type\":\"object\",\"name\":\"UnionRenderers\",\"id\":\"p2841\"},\"data\":{\"type\":\"map\",\"entries\":[[\"x\",[100,200,300,400,500,600,700,800,900,1000,1100,1200,1300,1400,1500,1600,1700,1800,1900,2000,2100,2200,2300,2400,2500,2600,2700,2800,2900,3000,3100,3200,3300,3400,3500,3600,3700,3800,3900,4000,4100,4200,4300,4400,4500,4600,4700,4800,4900,5000,5100,5200,5300,5400,5500,5600,5700,5800,5900,6000,6100,6200,6300,6400,6500,6600,6700,6800,6900,7000,7100,7200,7300,7400,7500,7600,7700,7800,7900,8000,8100,8200,8300,8400,8500,8600,8700,8800,8900,9000,9100,9200,9300,9400,9500,9600,9700,9800,9900]],[\"y\",{\"type\":\"ndarray\",\"array\":{\"type\":\"bytes\",\"data\":\"mFul3T0bwb+TuelMm33iv7DlPe+k3MM/bKR8o5JJvz/ZfAZBpprDvzQi9qnioow/Y9sQPpXktj9bF0P4yrnIv+C7zg028bU/rDGnXMebxL/BTEO5Nauwv+gOdodJqaw/tL3tCMMT4r8RgVA5wA6WPzjI+qR2wLS/tnXLv9QnxL9rFyGt/RKoP0fRTx1IBNG/JWxJpmdcxj/tq2k+cIiHP2tWeuYUQLa/hO5Sp2LBuD/0JQ3g/JPfvzLk4LTFeNg/iU4yGF1ns7+Yc/ODEOegv8wcCvS+bJo/hohHlxSZvr8GYWsYNFDTP/F6wMNWdtU/wbb4HipQrj/qHniMtRPHP/9a36RVFdc/ZAYQAvJCwr94ZDNRT4LZP6Mor0iuhMA/prizKSicxj8ud9wXAHjWPyr7jcMa97K/zjMfQdi41D/zuR1cInXSP2/LzZbkEMU/LI+AINsTsj8XdzsGqQW8vxI5Tb4nkdY/OFEqedjwxT9ZbRFJub/bv7FvdhfmbZ+/rZ/5k7q6zj88pbTZN6DVP+4rHO4Neck/1wOdomUGib8AbpVaW16lvyR6aRB6DcE/rtVil+NCwj+RZ/AgcfTDP/iwAQFY9sa/o0xE0R+Ey7/Vj5vDTzvevx9dWiqvKOC/1DRiuncd1b9/sg5G3Jjiv9HInim40uK/pFLesMob6r+nh/wTKEvwv2+5EVIbhN6/dvhu6WH+879N7zzSThLzv6bpEYDgXPS/1/MbPWZ+9r/0SDqmgBzzv/El1XNQR/2//X3+0LQb/b8Gy4+sV7r+v9Q2TURWeQDABjizt76rAsAt+H9bna0DwACM+5l8AQPAL5qUExhIBMB1L/IRQc8EwEbe3EqCXQjAHvt4VMMkCcC0Ss3RFs8JwJ6nI+FXywrAhP/+3ud/DMAvX9jBf10NwDbQP19qnxDAUKzLpRQnD8D0DVinLvMQwMqZ6U4OyBHAUVeepfTBEsCQA1UyCCYSwL43nOuEURPA/XCoqvV3E8CsqoPg+iYUwByxeykY8hTAOks/4E6+FMDz5CbMDQcWwFxI+qCKwRbA\"},\"shape\":[99],\"dtype\":\"float64\",\"order\":\"little\"}]]}}},\"view\":{\"type\":\"object\",\"name\":\"CDSView\",\"id\":\"p2846\",\"attributes\":{\"filter\":{\"type\":\"object\",\"name\":\"AllIndices\",\"id\":\"p2847\"}}},\"glyph\":{\"type\":\"object\",\"name\":\"Line\",\"id\":\"p2842\",\"attributes\":{\"x\":{\"type\":\"field\",\"field\":\"x\"},\"y\":{\"type\":\"field\",\"field\":\"y\"},\"line_color\":\"#1f77b4\"}},\"nonselection_glyph\":{\"type\":\"object\",\"name\":\"Line\",\"id\":\"p2843\",\"attributes\":{\"x\":{\"type\":\"field\",\"field\":\"x\"},\"y\":{\"type\":\"field\",\"field\":\"y\"},\"line_color\":\"#1f77b4\",\"line_alpha\":0.1}},\"muted_glyph\":{\"type\":\"object\",\"name\":\"Line\",\"id\":\"p2844\",\"attributes\":{\"x\":{\"type\":\"field\",\"field\":\"x\"},\"y\":{\"type\":\"field\",\"field\":\"y\"},\"line_color\":\"#1f77b4\",\"line_alpha\":0.2}}}}],\"toolbar\":{\"type\":\"object\",\"name\":\"Toolbar\",\"id\":\"p2805\",\"attributes\":{\"tools\":[{\"type\":\"object\",\"name\":\"BoxZoomTool\",\"id\":\"p2796\",\"attributes\":{\"overlay\":{\"type\":\"object\",\"name\":\"BoxAnnotation\",\"id\":\"p2797\",\"attributes\":{\"syncable\":false,\"level\":\"overlay\",\"visible\":false,\"left_units\":\"canvas\",\"right_units\":\"canvas\",\"bottom_units\":\"canvas\",\"top_units\":\"canvas\",\"line_color\":\"black\",\"line_alpha\":1.0,\"line_width\":2,\"line_dash\":[4,4],\"fill_color\":\"lightgrey\",\"fill_alpha\":0.5}}}},{\"type\":\"object\",\"name\":\"CrosshairTool\",\"id\":\"p2798\"},{\"type\":\"object\",\"name\":\"HoverTool\",\"id\":\"p2795\",\"attributes\":{\"renderers\":\"auto\",\"tooltips\":[[\"index\",\"$index\"],[\"(x,y)\",\"(@x, @y)\"]]}},{\"type\":\"object\",\"name\":\"PanTool\",\"id\":\"p2799\",\"attributes\":{\"dimensions\":\"width\"}},{\"type\":\"object\",\"name\":\"ResetTool\",\"id\":\"p2800\"}]}},\"left\":[{\"type\":\"object\",\"name\":\"LinearAxis\",\"id\":\"p2825\",\"attributes\":{\"ticker\":{\"type\":\"object\",\"name\":\"BasicTicker\",\"id\":\"p2826\",\"attributes\":{\"mantissas\":[1,2,5]}},\"formatter\":{\"type\":\"object\",\"name\":\"BasicTickFormatter\",\"id\":\"p2827\"},\"major_label_policy\":{\"type\":\"object\",\"name\":\"AllLabels\",\"id\":\"p2828\"}}}],\"below\":[{\"type\":\"object\",\"name\":\"LogAxis\",\"id\":\"p2818\",\"attributes\":{\"ticker\":{\"type\":\"object\",\"name\":\"LogTicker\",\"id\":\"p2819\",\"attributes\":{\"num_minor_ticks\":10,\"mantissas\":[1,5]}},\"formatter\":{\"type\":\"object\",\"name\":\"LogTickFormatter\",\"id\":\"p2820\"},\"major_label_policy\":{\"type\":\"object\",\"name\":\"AllLabels\",\"id\":\"p2821\"}}}],\"center\":[{\"type\":\"object\",\"name\":\"Grid\",\"id\":\"p2824\",\"attributes\":{\"axis\":{\"id\":\"p2818\"}}},{\"type\":\"object\",\"name\":\"Grid\",\"id\":\"p2831\",\"attributes\":{\"dimension\":1,\"axis\":{\"id\":\"p2825\"}}}]}}],\"callbacks\":{\"type\":\"map\"}}};\n  const render_items = [{\"docid\":\"5689d6b9-a0b8-416e-828e-31702d911fbe\",\"roots\":{\"p2801\":\"14d043a4-6915-4a63-bfd6-1126e4d5fe7d\"},\"root_ids\":[\"p2801\"]}];\n  root.Bokeh.embed.embed_items_notebook(docs_json, render_items);\n  }\n  if (root.Bokeh !== undefined) {\n    embed_document(root);\n  } else {\n    let attempts = 0;\n    const timer = setInterval(function(root) {\n      if (root.Bokeh !== undefined) {\n        clearInterval(timer);\n        embed_document(root);\n      } else {\n        attempts++;\n        if (attempts > 100) {\n          clearInterval(timer);\n          console.log(\"Bokeh: ERROR: Unable to run BokehJS code because BokehJS library is missing\");\n        }\n      }\n    }, 10, root)\n  }\n})(window);",
      "application/vnd.bokehjs_exec.v0+json": ""
     },
     "metadata": {
      "application/vnd.bokehjs_exec.v0+json": {
       "id": "p2801"
      }
     },
     "output_type": "display_data"
    }
   ],
   "source": [
    "#  create a plot\n",
    "hover = HoverTool(tooltips=[\n",
    "    (\"index\", \"$index\"),\n",
    "    (\"(x,y)\", \"(@x, @y)\"),\n",
    "])\n",
    "\n",
    "p = figure(\n",
    "    tools=[BoxZoomTool(), CrosshairTool(), hover, PanTool(dimensions='width'), ResetTool()],\n",
    "    width=800,\n",
    "    height=400,\n",
    "    x_axis_type='log'\n",
    ")\n",
    "\n",
    "# add a renderer\n",
    "x = [p.frequency for p in bps]\n",
    "y = 20 * np.log10([p.gain for p in bps])\n",
    "p.line(x,y)\n",
    "\n",
    "\n",
    "\n",
    "# show the results\n",
    "show(p)"
   ]
  },
  {
   "cell_type": "code",
   "execution_count": 24,
   "metadata": {},
   "outputs": [
    {
     "data": {
      "text/plain": [
       "0.7079457843841379"
      ]
     },
     "execution_count": 24,
     "metadata": {},
     "output_type": "execute_result"
    }
   ],
   "source": [
    "10**(-3 / 20)"
   ]
  },
  {
   "cell_type": "code",
   "execution_count": 19,
   "metadata": {},
   "outputs": [
    {
     "data": {
      "text/html": [
       "\n",
       "  <div id=\"f05fceed-e040-46d9-aa6a-46f8581676e2\" data-root-id=\"p2267\" style=\"display: contents;\"></div>\n"
      ]
     },
     "metadata": {},
     "output_type": "display_data"
    },
    {
     "data": {
      "application/javascript": "(function(root) {\n  function embed_document(root) {\n  const docs_json = {\"4d18f3d4-9c47-4cab-ac98-569f4ae6fdad\":{\"version\":\"3.1.0\",\"title\":\"Bokeh Application\",\"defs\":[],\"roots\":[{\"type\":\"object\",\"name\":\"Figure\",\"id\":\"p2267\",\"attributes\":{\"width\":800,\"height\":400,\"x_range\":{\"type\":\"object\",\"name\":\"DataRange1d\",\"id\":\"p2269\"},\"y_range\":{\"type\":\"object\",\"name\":\"DataRange1d\",\"id\":\"p2268\"},\"x_scale\":{\"type\":\"object\",\"name\":\"LogScale\",\"id\":\"p2280\"},\"y_scale\":{\"type\":\"object\",\"name\":\"LinearScale\",\"id\":\"p2282\"},\"title\":{\"type\":\"object\",\"name\":\"Title\",\"id\":\"p2275\"},\"renderers\":[{\"type\":\"object\",\"name\":\"GlyphRenderer\",\"id\":\"p2311\",\"attributes\":{\"data_source\":{\"type\":\"object\",\"name\":\"ColumnDataSource\",\"id\":\"p2305\",\"attributes\":{\"selected\":{\"type\":\"object\",\"name\":\"Selection\",\"id\":\"p2306\",\"attributes\":{\"indices\":[],\"line_indices\":[]}},\"selection_policy\":{\"type\":\"object\",\"name\":\"UnionRenderers\",\"id\":\"p2307\"},\"data\":{\"type\":\"map\",\"entries\":[[\"x\",[100,200,300,400,500,600,700,800,900,1000,1100,1200,1300,1400,1500,1600,1700,1800,1900,2000,2100,2200,2300,2400,2500,2600,2700,2800,2900,3000,3100,3200,3300,3400,3500,3600,3700,3800,3900,4000,4100,4200,4300,4400,4500,4600,4700,4800,4900,5000,5100,5200,5300,5400,5500,5600,5700,5800,5900,6000,6100,6200,6300,6400,6500,6600,6700,6800,6900,7000,7100,7200,7300,7400,7500,7600,7700,7800,7900,8000,8100,8200,8300,8400,8500,8600,8700,8800,8900,9000,9100,9200,9300,9400,9500,9600,9700,9800,9900]],[\"y\",{\"type\":\"ndarray\",\"array\":{\"type\":\"bytes\",\"data\":\"zO3dmc7/xL8ZQuLmGP/kv8vpb2tg/sI/r3aJXvUZwz+uyvxdh5ahv76s0Or+i60/tTwxP0Kiib+cMIak3FvPv+89FwfZ2sU/Cuk4xcZxub/kXYo/sk1Rv72hZZw1+aE/QkuJmy3a078auUNRYanPP26vsc58po8/jjCGO971dz8XoRC0/qXPP4xc69Upbcm/HF7ViJjt0j/zLtzbK+SjP5J55I2d+Lk/DgMGtA2o1T8EQHa1OFHZPyTZde/KZNo/6MxKRK022z8I1ejZnsjMP4OOhzXFgtE/86SiqH+j3D8MAbOkilHgP7pF/fN558Q/Ng7WhUCf3D8ahCQQqS3cP6f+83WB39A/DYIouSRbyD8mbtOeO2npP+NxT6rlStw/ILGORvL43j/e0FRq3mTYP2wHisfY6MA/zu7vsZGC8D+AFWQ7sCHnPxBxKgmC++E/vl7NTbT43j/YuAsyYEzdPxb28+zmG4C/foBzoWp80T/IdXVRCq7DP4AJGp9gBNI/fCB1xTor3T/u8NYX9MXfP2LwO1SvZOA/dFP/+Dlt1j/44pNbrCfiP56TuSAKvs8/ZnH6rEzatj/hQNvSyjnhP9o8gfWoWMk/srRw6OWZyT8YoKEhwFq5vzpQxXgVRMs/WINHsSEk0T+9BaXoZknCv2BuJReoecm/4XkIbtZRyb++les7hOziv+tO3XL2J+e/EnBgqIy/6b+iZwZZ30fsv9ItJ2AMgN6/+pBp46Ge5r/RiuCwsgPrv3ExekHzpvW/kG4IK5wl9L8QBV75K+j5v6zX4N1kkPm/xZUa7eDH9r86hmc/09T7v6pieH/atPy/MssKmgEGAMCnH8gG8mgEwEdRuY/akgHAMsj3kQQCBsBUVm3ndbQHwDRD/lvAmAXA0BzyTe2QB8Du9pHlVSUGwOx4DMP2tw3A+nylhVcFDMBcOtSSZRENwLFYazGgVw/AZcyxSfExEMASrwyylOkOwPG2LovDPhHAbQ47GBAjEcAggEzZoscSwH5EB5jYrxPAPQC75EBOE8A67bG3ZJ8UwK3DOKYLmRXA\"},\"shape\":[99],\"dtype\":\"float64\",\"order\":\"little\"}]]}}},\"view\":{\"type\":\"object\",\"name\":\"CDSView\",\"id\":\"p2312\",\"attributes\":{\"filter\":{\"type\":\"object\",\"name\":\"AllIndices\",\"id\":\"p2313\"}}},\"glyph\":{\"type\":\"object\",\"name\":\"Step\",\"id\":\"p2308\",\"attributes\":{\"x\":{\"type\":\"field\",\"field\":\"x\"},\"y\":{\"type\":\"field\",\"field\":\"y\"},\"line_color\":\"#1f77b4\",\"mode\":\"after\"}},\"nonselection_glyph\":{\"type\":\"object\",\"name\":\"Step\",\"id\":\"p2309\",\"attributes\":{\"x\":{\"type\":\"field\",\"field\":\"x\"},\"y\":{\"type\":\"field\",\"field\":\"y\"},\"line_color\":\"#1f77b4\",\"line_alpha\":0.1,\"mode\":\"after\"}},\"muted_glyph\":{\"type\":\"object\",\"name\":\"Step\",\"id\":\"p2310\",\"attributes\":{\"x\":{\"type\":\"field\",\"field\":\"x\"},\"y\":{\"type\":\"field\",\"field\":\"y\"},\"line_color\":\"#1f77b4\",\"line_alpha\":0.2,\"mode\":\"after\"}}}}],\"toolbar\":{\"type\":\"object\",\"name\":\"Toolbar\",\"id\":\"p2271\",\"attributes\":{\"tools\":[{\"type\":\"object\",\"name\":\"BoxZoomTool\",\"id\":\"p2262\",\"attributes\":{\"overlay\":{\"type\":\"object\",\"name\":\"BoxAnnotation\",\"id\":\"p2263\",\"attributes\":{\"syncable\":false,\"level\":\"overlay\",\"visible\":false,\"left_units\":\"canvas\",\"right_units\":\"canvas\",\"bottom_units\":\"canvas\",\"top_units\":\"canvas\",\"line_color\":\"black\",\"line_alpha\":1.0,\"line_width\":2,\"line_dash\":[4,4],\"fill_color\":\"lightgrey\",\"fill_alpha\":0.5}}}},{\"type\":\"object\",\"name\":\"CrosshairTool\",\"id\":\"p2264\"},{\"type\":\"object\",\"name\":\"HoverTool\",\"id\":\"p2261\",\"attributes\":{\"renderers\":\"auto\",\"tooltips\":[[\"index\",\"$index\"],[\"(x,y)\",\"(@x, @y)\"]]}},{\"type\":\"object\",\"name\":\"PanTool\",\"id\":\"p2265\",\"attributes\":{\"dimensions\":\"width\"}},{\"type\":\"object\",\"name\":\"ResetTool\",\"id\":\"p2266\"}]}},\"left\":[{\"type\":\"object\",\"name\":\"LinearAxis\",\"id\":\"p2291\",\"attributes\":{\"ticker\":{\"type\":\"object\",\"name\":\"BasicTicker\",\"id\":\"p2292\",\"attributes\":{\"mantissas\":[1,2,5]}},\"formatter\":{\"type\":\"object\",\"name\":\"BasicTickFormatter\",\"id\":\"p2293\"},\"major_label_policy\":{\"type\":\"object\",\"name\":\"AllLabels\",\"id\":\"p2294\"}}}],\"below\":[{\"type\":\"object\",\"name\":\"LogAxis\",\"id\":\"p2284\",\"attributes\":{\"ticker\":{\"type\":\"object\",\"name\":\"LogTicker\",\"id\":\"p2285\",\"attributes\":{\"num_minor_ticks\":10,\"mantissas\":[1,5]}},\"formatter\":{\"type\":\"object\",\"name\":\"LogTickFormatter\",\"id\":\"p2286\"},\"major_label_policy\":{\"type\":\"object\",\"name\":\"AllLabels\",\"id\":\"p2287\"}}}],\"center\":[{\"type\":\"object\",\"name\":\"Grid\",\"id\":\"p2290\",\"attributes\":{\"axis\":{\"id\":\"p2284\"}}},{\"type\":\"object\",\"name\":\"Grid\",\"id\":\"p2297\",\"attributes\":{\"dimension\":1,\"axis\":{\"id\":\"p2291\"}}}]}}],\"callbacks\":{\"type\":\"map\"}}};\n  const render_items = [{\"docid\":\"4d18f3d4-9c47-4cab-ac98-569f4ae6fdad\",\"roots\":{\"p2267\":\"f05fceed-e040-46d9-aa6a-46f8581676e2\"},\"root_ids\":[\"p2267\"]}];\n  root.Bokeh.embed.embed_items_notebook(docs_json, render_items);\n  }\n  if (root.Bokeh !== undefined) {\n    embed_document(root);\n  } else {\n    let attempts = 0;\n    const timer = setInterval(function(root) {\n      if (root.Bokeh !== undefined) {\n        clearInterval(timer);\n        embed_document(root);\n      } else {\n        attempts++;\n        if (attempts > 100) {\n          clearInterval(timer);\n          console.log(\"Bokeh: ERROR: Unable to run BokehJS code because BokehJS library is missing\");\n        }\n      }\n    }, 10, root)\n  }\n})(window);",
      "application/vnd.bokehjs_exec.v0+json": ""
     },
     "metadata": {
      "application/vnd.bokehjs_exec.v0+json": {
       "id": "p2267"
      }
     },
     "output_type": "display_data"
    }
   ],
   "source": [
    "#  create a plot\n",
    "hover = HoverTool(tooltips=[\n",
    "    (\"index\", \"$index\"),\n",
    "    (\"(x,y)\", \"(@x, @y)\"),\n",
    "])\n",
    "\n",
    "p = figure(\n",
    "    tools=[BoxZoomTool(), CrosshairTool(), hover, PanTool(dimensions='width'), ResetTool()],\n",
    "    width=800,\n",
    "    height=400,\n",
    "    x_axis_type='log'\n",
    ")\n",
    "\n",
    "# add a renderer\n",
    "x = [p.frequency for p in bps]\n",
    "y = 20 * np.log10([p.gain for p in bps])\n",
    "p.step(x,y, mode='after')\n",
    "\n",
    "\n",
    "\n",
    "# show the results\n",
    "show(p)"
   ]
  },
  {
   "cell_type": "code",
   "execution_count": 16,
   "metadata": {},
   "outputs": [
    {
     "data": {
      "text/html": [
       "\n",
       "  <div id=\"8a738268-0ae3-4c19-8f0f-e3bea127bb2d\" data-root-id=\"p2045\" style=\"display: contents;\"></div>\n"
      ]
     },
     "metadata": {},
     "output_type": "display_data"
    },
    {
     "data": {
      "application/javascript": "(function(root) {\n  function embed_document(root) {\n  const docs_json = {\"e5dae9cb-4d3d-4388-a640-18c8d1789aa5\":{\"version\":\"3.1.0\",\"title\":\"Bokeh Application\",\"defs\":[],\"roots\":[{\"type\":\"object\",\"name\":\"Figure\",\"id\":\"p2045\",\"attributes\":{\"width\":800,\"height\":400,\"x_range\":{\"type\":\"object\",\"name\":\"DataRange1d\",\"id\":\"p2047\"},\"y_range\":{\"type\":\"object\",\"name\":\"DataRange1d\",\"id\":\"p2046\"},\"x_scale\":{\"type\":\"object\",\"name\":\"LogScale\",\"id\":\"p2058\"},\"y_scale\":{\"type\":\"object\",\"name\":\"LinearScale\",\"id\":\"p2060\"},\"title\":{\"type\":\"object\",\"name\":\"Title\",\"id\":\"p2053\"},\"renderers\":[{\"type\":\"object\",\"name\":\"GlyphRenderer\",\"id\":\"p2089\",\"attributes\":{\"data_source\":{\"type\":\"object\",\"name\":\"ColumnDataSource\",\"id\":\"p2083\",\"attributes\":{\"selected\":{\"type\":\"object\",\"name\":\"Selection\",\"id\":\"p2084\",\"attributes\":{\"indices\":[],\"line_indices\":[]}},\"selection_policy\":{\"type\":\"object\",\"name\":\"UnionRenderers\",\"id\":\"p2085\"},\"data\":{\"type\":\"map\",\"entries\":[[\"x\",[200,400,600,800,1000,1200,1400,1600,1800,2000,2200,2400,2600,2800,3000,3200,3400,3600,3800,4000,4200,4400,4600,4800,5000,5200,5400,5600,5800,6000,6200,6400,6600,6800,7000,7200,7400,7600,7800,8000,8200,8400,8600,8800,9000,9200,9400,9600,9800]],[\"y\",{\"type\":\"ndarray\",\"array\":{\"type\":\"bytes\",\"data\":\"3qLyD9HdEcAceL/tERMTwFw9rh4kPSHA7owRKC8eHsBrlpjkou8nwDx5443QPy3AYJiFpNbkMcAV3C1v+lczwKZSf4mH7jPAQzsC42UcN8AjRtgAZJY7wAt20JAsLj7AcKV2PYhrQMBxl1eMpCdBwMFSOXZ+wkLAzEIotKLiRMDEwp1zUVZFwHk4QI7UFEjAbxHViRU7ScC1AXocS8xMwNt4SMn6iU3AzMr0pHdrTsBOnLicnlJQwM90ozqsQ03AEokj1wlWUcCBDO7L/jtTwE6pyKJ/GlTAAxRPA8unVMAoVHEQcu5VwHP6ckxkx1fAFmA+7poaWMCZETarG/RYwPvVE8A9m1nA1UTRdkAVW8D3zfGyhFNbwKjffFfj2lzAoCTVl4hdXcAnY36DN5lewDrCv632PF/AanT0DFUMYMBMUZ0FolFgwEtQdJ7kl2DAzc/6B9RDYcBngU2vHZxhwPMJcwKJp2HARfaVQpkaYsDwvcXD22xiwP5/LRlpeWLA4um+LhP3YsA=\"},\"shape\":[49],\"dtype\":\"float64\",\"order\":\"little\"}]]}}},\"view\":{\"type\":\"object\",\"name\":\"CDSView\",\"id\":\"p2090\",\"attributes\":{\"filter\":{\"type\":\"object\",\"name\":\"AllIndices\",\"id\":\"p2091\"}}},\"glyph\":{\"type\":\"object\",\"name\":\"Step\",\"id\":\"p2086\",\"attributes\":{\"x\":{\"type\":\"field\",\"field\":\"x\"},\"y\":{\"type\":\"field\",\"field\":\"y\"},\"line_color\":\"#1f77b4\",\"mode\":\"after\"}},\"nonselection_glyph\":{\"type\":\"object\",\"name\":\"Step\",\"id\":\"p2087\",\"attributes\":{\"x\":{\"type\":\"field\",\"field\":\"x\"},\"y\":{\"type\":\"field\",\"field\":\"y\"},\"line_color\":\"#1f77b4\",\"line_alpha\":0.1,\"mode\":\"after\"}},\"muted_glyph\":{\"type\":\"object\",\"name\":\"Step\",\"id\":\"p2088\",\"attributes\":{\"x\":{\"type\":\"field\",\"field\":\"x\"},\"y\":{\"type\":\"field\",\"field\":\"y\"},\"line_color\":\"#1f77b4\",\"line_alpha\":0.2,\"mode\":\"after\"}}}}],\"toolbar\":{\"type\":\"object\",\"name\":\"Toolbar\",\"id\":\"p2049\",\"attributes\":{\"tools\":[{\"type\":\"object\",\"name\":\"BoxZoomTool\",\"id\":\"p2040\",\"attributes\":{\"overlay\":{\"type\":\"object\",\"name\":\"BoxAnnotation\",\"id\":\"p2041\",\"attributes\":{\"syncable\":false,\"level\":\"overlay\",\"visible\":false,\"left_units\":\"canvas\",\"right_units\":\"canvas\",\"bottom_units\":\"canvas\",\"top_units\":\"canvas\",\"line_color\":\"black\",\"line_alpha\":1.0,\"line_width\":2,\"line_dash\":[4,4],\"fill_color\":\"lightgrey\",\"fill_alpha\":0.5}}}},{\"type\":\"object\",\"name\":\"CrosshairTool\",\"id\":\"p2042\"},{\"type\":\"object\",\"name\":\"HoverTool\",\"id\":\"p2039\",\"attributes\":{\"renderers\":\"auto\",\"tooltips\":[[\"index\",\"$index\"],[\"(x,y)\",\"(@x, @y)\"]]}},{\"type\":\"object\",\"name\":\"PanTool\",\"id\":\"p2043\",\"attributes\":{\"dimensions\":\"width\"}},{\"type\":\"object\",\"name\":\"ResetTool\",\"id\":\"p2044\"}]}},\"left\":[{\"type\":\"object\",\"name\":\"LinearAxis\",\"id\":\"p2069\",\"attributes\":{\"ticker\":{\"type\":\"object\",\"name\":\"BasicTicker\",\"id\":\"p2070\",\"attributes\":{\"mantissas\":[1,2,5]}},\"formatter\":{\"type\":\"object\",\"name\":\"BasicTickFormatter\",\"id\":\"p2071\"},\"major_label_policy\":{\"type\":\"object\",\"name\":\"AllLabels\",\"id\":\"p2072\"}}}],\"below\":[{\"type\":\"object\",\"name\":\"LogAxis\",\"id\":\"p2062\",\"attributes\":{\"ticker\":{\"type\":\"object\",\"name\":\"LogTicker\",\"id\":\"p2063\",\"attributes\":{\"num_minor_ticks\":10,\"mantissas\":[1,5]}},\"formatter\":{\"type\":\"object\",\"name\":\"LogTickFormatter\",\"id\":\"p2064\"},\"major_label_policy\":{\"type\":\"object\",\"name\":\"AllLabels\",\"id\":\"p2065\"}}}],\"center\":[{\"type\":\"object\",\"name\":\"Grid\",\"id\":\"p2068\",\"attributes\":{\"axis\":{\"id\":\"p2062\"}}},{\"type\":\"object\",\"name\":\"Grid\",\"id\":\"p2075\",\"attributes\":{\"dimension\":1,\"axis\":{\"id\":\"p2069\"}}}]}}],\"callbacks\":{\"type\":\"map\"}}};\n  const render_items = [{\"docid\":\"e5dae9cb-4d3d-4388-a640-18c8d1789aa5\",\"roots\":{\"p2045\":\"8a738268-0ae3-4c19-8f0f-e3bea127bb2d\"},\"root_ids\":[\"p2045\"]}];\n  root.Bokeh.embed.embed_items_notebook(docs_json, render_items);\n  }\n  if (root.Bokeh !== undefined) {\n    embed_document(root);\n  } else {\n    let attempts = 0;\n    const timer = setInterval(function(root) {\n      if (root.Bokeh !== undefined) {\n        clearInterval(timer);\n        embed_document(root);\n      } else {\n        attempts++;\n        if (attempts > 100) {\n          clearInterval(timer);\n          console.log(\"Bokeh: ERROR: Unable to run BokehJS code because BokehJS library is missing\");\n        }\n      }\n    }, 10, root)\n  }\n})(window);",
      "application/vnd.bokehjs_exec.v0+json": ""
     },
     "metadata": {
      "application/vnd.bokehjs_exec.v0+json": {
       "id": "p2045"
      }
     },
     "output_type": "display_data"
    }
   ],
   "source": [
    "#  create a plot\n",
    "hover = HoverTool(tooltips=[\n",
    "    (\"index\", \"$index\"),\n",
    "    (\"(x,y)\", \"(@x, @y)\"),\n",
    "])\n",
    "\n",
    "p = figure(\n",
    "    tools=[BoxZoomTool(), CrosshairTool(), hover, PanTool(dimensions='width'), ResetTool()],\n",
    "    width=800,\n",
    "    height=400,\n",
    "    x_axis_type='log'\n",
    ")\n",
    "\n",
    "# add a renderer\n",
    "x = [p.frequency for p in bps]\n",
    "y = np.rad2deg(np.unwrap([p.phase for p in bps]))\n",
    "p.step(x,y, mode='after')\n",
    "\n",
    "\n",
    "\n",
    "# show the results\n",
    "show(p)"
   ]
  },
  {
   "cell_type": "code",
   "execution_count": 8,
   "metadata": {},
   "outputs": [],
   "source": [
    "class NoteComposer:\n",
    "    def __init__(self):\n",
    "        self.base_a = 220\n",
    "        self.note_map = {'A':0,\n",
    "                         'AS':1, 'BF':1,\n",
    "                         'B':2, 'CF':2,\n",
    "                         'BS':3, 'C':3,\n",
    "                         'CS':4, 'DF':4, 'D':5,\n",
    "                         'DS':6, 'EF':6,\n",
    "                         'E':7, 'FF':7,\n",
    "                         'ES':8, 'F':8,\n",
    "                         'FS':9, 'GF':9, 'G':10,\n",
    "                         'GS':11, 'AF':11}\n",
    "        self.measure_length_s = 1.7\n",
    "        self.spin_resolution = 0.01 * self.measure_length_s\n",
    "        self.length_map = {'w':1.0, 'h':0.5, 'qes':0.4375, 'qe':0.375, 'qs':0.3125, 'q':0.25, 'es':0.1875, 'e':0.125, 's':0.0625, 't':0.03125, 'tr':0.25/3}\n",
    "        self.current_amplitude_a = 0.1\n",
    "        self.motor_manager = motor.MotorManager()\n",
    "        self.start_time = time.time_ns()\n",
    "\n",
    "    def _now_ms(self):\n",
    "        return int((time.time_ns() - self.start_time) / 1000)\n",
    "        \n",
    "\n",
    "    def rest(self):\n",
    "        return self._send_command(motor.Command(host_timestamp=self._now_ms(), mode=motor.Open))\n",
    "    \n",
    "    def tone(self, frequency, bias=0.0):\n",
    "        command = motor.Command(host_timestamp=self._now_ms(), mode=motor.CurrentTuning)\n",
    "        command.current_tuning.amplitude = self.current_amplitude_a \n",
    "        command.current_tuning.frequency = frequency\n",
    "        command.current_tuning.mode = motor.Square\n",
    "        command.current_tuning.bias = bias\n",
    "        return self._send_command(command)\n",
    "\n",
    "    def _send_command(self, command):\n",
    "        return self.motor_manager.write([command])\n",
    "\n",
    "    def pitch(self, p):\n",
    "        return self.base_a * np.power(2, p / 12.0)\n",
    "    \n",
    "    def note(self, name, length='q', octave=0, bias=0.0):\n",
    "        end_time = time.time() + self.length_map[length] * self.measure_length_s\n",
    "        # Sing!\n",
    "        if name in ['r', 'rest']:\n",
    "            self.rest()\n",
    "        else:\n",
    "            self.tone(self.pitch(12 * octave + self.note_map[name.upper()]), bias)\n",
    "        while time.time() < end_time - self.spin_resolution:\n",
    "            time.sleep(self.spin_resolution)\n",
    "        # Take  breath.\n",
    "        self.rest()\n",
    "        while time.time() < end_time:\n",
    "            time.sleep(self.spin_resolution)\n",
    "\n",
    "    def play(self, song, bias=0.0):\n",
    "        note_list = [n.rstrip().lstrip() for n in song.split('\\n') if n]\n",
    "        for note in note_list:\n",
    "            name, length, octave = note.split(':')\n",
    "            self.note(name, length, int(octave), bias)\n",
    "\n",
    "\n",
    "star_wars_theme =\"\"\"\n",
    "r:h:0\n",
    "r:q:0\n",
    "d:tr:0\n",
    "d:tr:0\n",
    "d:tr:0\n",
    "\n",
    "g:h:0\n",
    "d:h:1\n",
    "\n",
    "c:tr:1\n",
    "b:tr:1\n",
    "a:tr:1\n",
    "g:h:1\n",
    "d:q:1\n",
    "\n",
    "c:tr:1\n",
    "b:tr:1\n",
    "a:tr:1\n",
    "g:h:1\n",
    "d:q:1\n",
    "\n",
    "c:tr:1\n",
    "b:tr:1\n",
    "c:tr:1\n",
    "a:h:1\n",
    "d:tr:0\n",
    "d:tr:0\n",
    "d:tr:0\n",
    "\n",
    "g:h:0\n",
    "d:h:1\n",
    "\n",
    "c:tr:1\n",
    "b:tr:1\n",
    "a:tr:1\n",
    "g:h:1\n",
    "d:q:1\n",
    "\n",
    "c:tr:1\n",
    "b:tr:1\n",
    "a:tr:1\n",
    "g:h:1\n",
    "d:q:1\n",
    "\n",
    "c:tr:1\n",
    "b:tr:1\n",
    "c:tr:1\n",
    "a:h:1\n",
    "d:qes:0\n",
    "d:s:0\n",
    "\n",
    "e:qe:0\n",
    "e:e:0\n",
    "c:e:1\n",
    "b:e:1\n",
    "a:e:1\n",
    "g:e:0\n",
    "\n",
    "g:tr:0\n",
    "a:tr:1\n",
    "b:tr:1\n",
    "a:es:1\n",
    "e:s:0\n",
    "fs:q:0\n",
    "d:qes:0\n",
    "d:s:0\n",
    "\n",
    "e:qe:0\n",
    "e:e:0\n",
    "c:e:1\n",
    "b:e:1\n",
    "a:e:1\n",
    "g:e:0\n",
    "\n",
    "d:qes:1\n",
    "a:s:1\n",
    "a:h:1\n",
    "r:e:0\n",
    "d:e:0\n",
    "\n",
    "e:qe:0\n",
    "e:e:0\n",
    "c:e:1\n",
    "b:e:1\n",
    "a:e:1\n",
    "g:e:0\n",
    "\n",
    "g:tr:0\n",
    "a:tr:1\n",
    "b:tr:1\n",
    "a:es:1\n",
    "e:s:0\n",
    "fs:q:0\n",
    "d:qes:1\n",
    "d:s:1\n",
    "\n",
    "g:q:1\n",
    "f:e:1\n",
    "ef:q:1\n",
    "d:e:1\n",
    "c:q:1\n",
    "bf:e:1\n",
    "a:es:1\n",
    "g:s:0\n",
    "\n",
    "d:w:1\n",
    "\n",
    "\"\"\"\n",
    "\n"
   ]
  },
  {
   "cell_type": "code",
   "execution_count": 9,
   "metadata": {},
   "outputs": [],
   "source": [
    "nc = NoteComposer()\n",
    "nc.play(star_wars_theme)\n",
    "# nc.play(star_wars_theme, bias=-0.1)\n",
    "\n"
   ]
  },
  {
   "cell_type": "code",
   "execution_count": 15,
   "metadata": {},
   "outputs": [],
   "source": [
    "T = 1.0\n",
    "Fs = 100\n",
    "f = 10\n",
    "t = np.arange(0, T, 1 / Fs)\n",
    "s = np.sin(2*np.pi*f*t)\n",
    "dft = np.fft.fft(s)\n",
    "n = len(dft)\n",
    "hn = int(0.5*n - 1)\n",
    "ff = np.linspace(0, 0.5*Fs, hn)\n",
    "mdfth = np.abs(dft[:hn])"
   ]
  },
  {
   "cell_type": "code",
   "execution_count": 25,
   "metadata": {},
   "outputs": [],
   "source": [
    "M = np.exp(2j*np.pi*np.outer(np.arange(len(s)), np.arange(len(s))) / len(s))\n",
    "\n",
    "dft2 = M @ s\n",
    "mdft2h = np.abs(dft2[:hn])"
   ]
  },
  {
   "cell_type": "code",
   "execution_count": 30,
   "metadata": {},
   "outputs": [
    {
     "data": {
      "text/plain": [
       "100"
      ]
     },
     "execution_count": 30,
     "metadata": {},
     "output_type": "execute_result"
    }
   ],
   "source": [
    "len(dft2)"
   ]
  },
  {
   "cell_type": "code",
   "execution_count": 31,
   "metadata": {},
   "outputs": [
    {
     "data": {
      "text/plain": [
       "array([ 0.,  1.,  2.,  3.,  4.,  5.,  6.,  7.,  8.,  9., 10.])"
      ]
     },
     "execution_count": 31,
     "metadata": {},
     "output_type": "execute_result"
    }
   ],
   "source": [
    "np.fft.fftfreq(n)[:11] * Fs"
   ]
  },
  {
   "cell_type": "code",
   "execution_count": 26,
   "metadata": {},
   "outputs": [
    {
     "name": "stdout",
     "output_type": "stream",
     "text": [
      "10.416666666666668\n",
      "10.416666666666668\n"
     ]
    }
   ],
   "source": [
    "print(ff[np.argmax(mdfth)])\n",
    "print(ff[np.argmax(mdft2h)])"
   ]
  }
 ],
 "metadata": {
  "kernelspec": {
   "display_name": "obot-python-GfFy9nMU",
   "language": "python",
   "name": "python3"
  },
  "language_info": {
   "codemirror_mode": {
    "name": "ipython",
    "version": 3
   },
   "file_extension": ".py",
   "mimetype": "text/x-python",
   "name": "python",
   "nbconvert_exporter": "python",
   "pygments_lexer": "ipython3",
   "version": "3.10.6"
  },
  "orig_nbformat": 4
 },
 "nbformat": 4,
 "nbformat_minor": 2
}
